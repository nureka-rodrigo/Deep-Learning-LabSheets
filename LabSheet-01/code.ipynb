{
 "cells": [
  {
   "cell_type": "markdown",
   "metadata": {},
   "source": [
    "# Load the dataset"
   ]
  },
  {
   "cell_type": "code",
   "metadata": {
    "id": "plIvwvbzAsLW",
    "ExecuteTime": {
     "end_time": "2025-01-12T17:26:03.806737Z",
     "start_time": "2025-01-12T17:26:03.341706Z"
    }
   },
   "source": [
    "import pandas as pd\n",
    "\n",
    "df = pd.read_csv(\"data/pima-indians-diabetes.csv\")"
   ],
   "outputs": [],
   "execution_count": 1
  },
  {
   "cell_type": "markdown",
   "metadata": {},
   "source": "# Split the dataset into features (X) and labels (y)"
  },
  {
   "cell_type": "code",
   "metadata": {
    "id": "Z_Vb0cFtCIWk",
    "ExecuteTime": {
     "end_time": "2025-01-12T17:26:03.833204Z",
     "start_time": "2025-01-12T17:26:03.828205Z"
    }
   },
   "source": [
    "dataset = df.values\n",
    "\n",
    "X = dataset[:,0:8]\n",
    "y = dataset[:,8]"
   ],
   "outputs": [],
   "execution_count": 2
  },
  {
   "cell_type": "markdown",
   "metadata": {},
   "source": [
    "# Split the dataset into training and testing sets"
   ]
  },
  {
   "cell_type": "code",
   "metadata": {
    "colab": {
     "base_uri": "https://localhost:8080/"
    },
    "id": "kXwe9_E9CYsM",
    "outputId": "f569cd75-f0d5-4107-a5f1-ea88d3e5d58c",
    "ExecuteTime": {
     "end_time": "2025-01-12T17:26:05.125830Z",
     "start_time": "2025-01-12T17:26:03.945770Z"
    }
   },
   "source": [
    "from sklearn.model_selection import train_test_split\n",
    "\n",
    "X_train, X_test, y_train, y_test = train_test_split(X, y, test_size=0.2, random_state=42)\n",
    "\n",
    "print(\"X_train shape:\", X_train.shape)\n",
    "print(\"y_train shape:\", y_train.shape)\n",
    "print(\"X_test shape:\", X_test.shape)\n",
    "print(\"y_test shape:\", y_test.shape)"
   ],
   "outputs": [
    {
     "name": "stdout",
     "output_type": "stream",
     "text": [
      "X_train shape: (614, 8)\n",
      "y_train shape: (614,)\n",
      "X_test shape: (154, 8)\n",
      "y_test shape: (154,)\n"
     ]
    }
   ],
   "execution_count": 3
  },
  {
   "cell_type": "markdown",
   "metadata": {},
   "source": [
    "# Standardize the features"
   ]
  },
  {
   "cell_type": "code",
   "metadata": {
    "id": "9MiVZgH4Edmc",
    "ExecuteTime": {
     "end_time": "2025-01-12T17:26:05.175269Z",
     "start_time": "2025-01-12T17:26:05.169205Z"
    }
   },
   "source": [
    "from sklearn.preprocessing import StandardScaler\n",
    "\n",
    "scaler = StandardScaler()\n",
    "X_train = scaler.fit_transform(X_train)\n",
    "X_test = scaler.transform(X_test)"
   ],
   "outputs": [],
   "execution_count": 4
  },
  {
   "cell_type": "markdown",
   "metadata": {},
   "source": "# Create the model"
  },
  {
   "cell_type": "code",
   "metadata": {
    "ExecuteTime": {
     "end_time": "2025-01-12T17:26:09.910379Z",
     "start_time": "2025-01-12T17:26:05.207172Z"
    }
   },
   "source": [
    "from tensorflow.keras.models import Sequential\n",
    "from tensorflow.keras.layers import Dense, Dropout, Input\n",
    "\n",
    "model = Sequential()\n",
    "model.add(Input(shape=(X_train.shape[1],)))\n",
    "model.add(Dense(units=16, activation='relu', kernel_regularizer='l1'))\n",
    "model.add(Dropout(0.1))\n",
    "model.add(Dense(units=16, activation='relu', kernel_regularizer='l1'))\n",
    "model.add(Dense(units=8, activation='relu', kernel_regularizer='l1'))\n",
    "model.add(Dense(units=1, activation='sigmoid'))\n",
    "\n",
    "model.summary()"
   ],
   "outputs": [
    {
     "data": {
      "text/plain": [
       "\u001B[1mModel: \"sequential\"\u001B[0m\n"
      ],
      "text/html": [
       "<pre style=\"white-space:pre;overflow-x:auto;line-height:normal;font-family:Menlo,'DejaVu Sans Mono',consolas,'Courier New',monospace\"><span style=\"font-weight: bold\">Model: \"sequential\"</span>\n",
       "</pre>\n"
      ]
     },
     "metadata": {},
     "output_type": "display_data"
    },
    {
     "data": {
      "text/plain": [
       "┏━━━━━━━━━━━━━━━━━━━━━━━━━━━━━━━━━┳━━━━━━━━━━━━━━━━━━━━━━━━┳━━━━━━━━━━━━━━━┓\n",
       "┃\u001B[1m \u001B[0m\u001B[1mLayer (type)                   \u001B[0m\u001B[1m \u001B[0m┃\u001B[1m \u001B[0m\u001B[1mOutput Shape          \u001B[0m\u001B[1m \u001B[0m┃\u001B[1m \u001B[0m\u001B[1m      Param #\u001B[0m\u001B[1m \u001B[0m┃\n",
       "┡━━━━━━━━━━━━━━━━━━━━━━━━━━━━━━━━━╇━━━━━━━━━━━━━━━━━━━━━━━━╇━━━━━━━━━━━━━━━┩\n",
       "│ dense (\u001B[38;5;33mDense\u001B[0m)                   │ (\u001B[38;5;45mNone\u001B[0m, \u001B[38;5;34m16\u001B[0m)             │           \u001B[38;5;34m144\u001B[0m │\n",
       "├─────────────────────────────────┼────────────────────────┼───────────────┤\n",
       "│ dropout (\u001B[38;5;33mDropout\u001B[0m)               │ (\u001B[38;5;45mNone\u001B[0m, \u001B[38;5;34m16\u001B[0m)             │             \u001B[38;5;34m0\u001B[0m │\n",
       "├─────────────────────────────────┼────────────────────────┼───────────────┤\n",
       "│ dense_1 (\u001B[38;5;33mDense\u001B[0m)                 │ (\u001B[38;5;45mNone\u001B[0m, \u001B[38;5;34m16\u001B[0m)             │           \u001B[38;5;34m272\u001B[0m │\n",
       "├─────────────────────────────────┼────────────────────────┼───────────────┤\n",
       "│ dense_2 (\u001B[38;5;33mDense\u001B[0m)                 │ (\u001B[38;5;45mNone\u001B[0m, \u001B[38;5;34m8\u001B[0m)              │           \u001B[38;5;34m136\u001B[0m │\n",
       "├─────────────────────────────────┼────────────────────────┼───────────────┤\n",
       "│ dense_3 (\u001B[38;5;33mDense\u001B[0m)                 │ (\u001B[38;5;45mNone\u001B[0m, \u001B[38;5;34m1\u001B[0m)              │             \u001B[38;5;34m9\u001B[0m │\n",
       "└─────────────────────────────────┴────────────────────────┴───────────────┘\n"
      ],
      "text/html": [
       "<pre style=\"white-space:pre;overflow-x:auto;line-height:normal;font-family:Menlo,'DejaVu Sans Mono',consolas,'Courier New',monospace\">┏━━━━━━━━━━━━━━━━━━━━━━━━━━━━━━━━━┳━━━━━━━━━━━━━━━━━━━━━━━━┳━━━━━━━━━━━━━━━┓\n",
       "┃<span style=\"font-weight: bold\"> Layer (type)                    </span>┃<span style=\"font-weight: bold\"> Output Shape           </span>┃<span style=\"font-weight: bold\">       Param # </span>┃\n",
       "┡━━━━━━━━━━━━━━━━━━━━━━━━━━━━━━━━━╇━━━━━━━━━━━━━━━━━━━━━━━━╇━━━━━━━━━━━━━━━┩\n",
       "│ dense (<span style=\"color: #0087ff; text-decoration-color: #0087ff\">Dense</span>)                   │ (<span style=\"color: #00d7ff; text-decoration-color: #00d7ff\">None</span>, <span style=\"color: #00af00; text-decoration-color: #00af00\">16</span>)             │           <span style=\"color: #00af00; text-decoration-color: #00af00\">144</span> │\n",
       "├─────────────────────────────────┼────────────────────────┼───────────────┤\n",
       "│ dropout (<span style=\"color: #0087ff; text-decoration-color: #0087ff\">Dropout</span>)               │ (<span style=\"color: #00d7ff; text-decoration-color: #00d7ff\">None</span>, <span style=\"color: #00af00; text-decoration-color: #00af00\">16</span>)             │             <span style=\"color: #00af00; text-decoration-color: #00af00\">0</span> │\n",
       "├─────────────────────────────────┼────────────────────────┼───────────────┤\n",
       "│ dense_1 (<span style=\"color: #0087ff; text-decoration-color: #0087ff\">Dense</span>)                 │ (<span style=\"color: #00d7ff; text-decoration-color: #00d7ff\">None</span>, <span style=\"color: #00af00; text-decoration-color: #00af00\">16</span>)             │           <span style=\"color: #00af00; text-decoration-color: #00af00\">272</span> │\n",
       "├─────────────────────────────────┼────────────────────────┼───────────────┤\n",
       "│ dense_2 (<span style=\"color: #0087ff; text-decoration-color: #0087ff\">Dense</span>)                 │ (<span style=\"color: #00d7ff; text-decoration-color: #00d7ff\">None</span>, <span style=\"color: #00af00; text-decoration-color: #00af00\">8</span>)              │           <span style=\"color: #00af00; text-decoration-color: #00af00\">136</span> │\n",
       "├─────────────────────────────────┼────────────────────────┼───────────────┤\n",
       "│ dense_3 (<span style=\"color: #0087ff; text-decoration-color: #0087ff\">Dense</span>)                 │ (<span style=\"color: #00d7ff; text-decoration-color: #00d7ff\">None</span>, <span style=\"color: #00af00; text-decoration-color: #00af00\">1</span>)              │             <span style=\"color: #00af00; text-decoration-color: #00af00\">9</span> │\n",
       "└─────────────────────────────────┴────────────────────────┴───────────────┘\n",
       "</pre>\n"
      ]
     },
     "metadata": {},
     "output_type": "display_data"
    },
    {
     "data": {
      "text/plain": [
       "\u001B[1m Total params: \u001B[0m\u001B[38;5;34m561\u001B[0m (2.19 KB)\n"
      ],
      "text/html": [
       "<pre style=\"white-space:pre;overflow-x:auto;line-height:normal;font-family:Menlo,'DejaVu Sans Mono',consolas,'Courier New',monospace\"><span style=\"font-weight: bold\"> Total params: </span><span style=\"color: #00af00; text-decoration-color: #00af00\">561</span> (2.19 KB)\n",
       "</pre>\n"
      ]
     },
     "metadata": {},
     "output_type": "display_data"
    },
    {
     "data": {
      "text/plain": [
       "\u001B[1m Trainable params: \u001B[0m\u001B[38;5;34m561\u001B[0m (2.19 KB)\n"
      ],
      "text/html": [
       "<pre style=\"white-space:pre;overflow-x:auto;line-height:normal;font-family:Menlo,'DejaVu Sans Mono',consolas,'Courier New',monospace\"><span style=\"font-weight: bold\"> Trainable params: </span><span style=\"color: #00af00; text-decoration-color: #00af00\">561</span> (2.19 KB)\n",
       "</pre>\n"
      ]
     },
     "metadata": {},
     "output_type": "display_data"
    },
    {
     "data": {
      "text/plain": [
       "\u001B[1m Non-trainable params: \u001B[0m\u001B[38;5;34m0\u001B[0m (0.00 B)\n"
      ],
      "text/html": [
       "<pre style=\"white-space:pre;overflow-x:auto;line-height:normal;font-family:Menlo,'DejaVu Sans Mono',consolas,'Courier New',monospace\"><span style=\"font-weight: bold\"> Non-trainable params: </span><span style=\"color: #00af00; text-decoration-color: #00af00\">0</span> (0.00 B)\n",
       "</pre>\n"
      ]
     },
     "metadata": {},
     "output_type": "display_data"
    }
   ],
   "execution_count": 5
  },
  {
   "metadata": {},
   "cell_type": "markdown",
   "source": "# Compile the model"
  },
  {
   "metadata": {
    "ExecuteTime": {
     "end_time": "2025-01-12T17:26:09.968202Z",
     "start_time": "2025-01-12T17:26:09.955388Z"
    }
   },
   "cell_type": "code",
   "source": [
    "from tensorflow.keras.optimizers import Adam\n",
    "\n",
    "optimizer = Adam(learning_rate=0.001)\n",
    "model.compile(optimizer=optimizer, loss='binary_crossentropy', metrics=['accuracy'])"
   ],
   "outputs": [],
   "execution_count": 6
  },
  {
   "cell_type": "markdown",
   "metadata": {},
   "source": "# Define the early stopping callback"
  },
  {
   "cell_type": "code",
   "metadata": {
    "ExecuteTime": {
     "end_time": "2025-01-12T17:26:09.991934Z",
     "start_time": "2025-01-12T17:26:09.985967Z"
    }
   },
   "source": [
    "from tensorflow.keras.callbacks import EarlyStopping\n",
    "\n",
    "early_stopping = EarlyStopping(monitor='val_loss', patience=50, restore_best_weights=True)"
   ],
   "outputs": [],
   "execution_count": 7
  },
  {
   "cell_type": "markdown",
   "metadata": {},
   "source": [
    "# Fit the model"
   ]
  },
  {
   "cell_type": "code",
   "metadata": {
    "ExecuteTime": {
     "end_time": "2025-01-12T17:26:25.645693Z",
     "start_time": "2025-01-12T17:26:10.022030Z"
    }
   },
   "source": [
    "history = model.fit(X_train, y_train, epochs=1000, batch_size=16, validation_split=0.1, callbacks=[early_stopping]).history"
   ],
   "outputs": [
    {
     "name": "stdout",
     "output_type": "stream",
     "text": [
      "Epoch 1/1000\n",
      "\u001B[1m35/35\u001B[0m \u001B[32m━━━━━━━━━━━━━━━━━━━━\u001B[0m\u001B[37m\u001B[0m \u001B[1m2s\u001B[0m 6ms/step - accuracy: 0.5645 - loss: 1.8454 - val_accuracy: 0.5323 - val_loss: 1.7648\n",
      "Epoch 2/1000\n",
      "\u001B[1m35/35\u001B[0m \u001B[32m━━━━━━━━━━━━━━━━━━━━\u001B[0m\u001B[37m\u001B[0m \u001B[1m0s\u001B[0m 1ms/step - accuracy: 0.6597 - loss: 1.6985 - val_accuracy: 0.5484 - val_loss: 1.6364\n",
      "Epoch 3/1000\n",
      "\u001B[1m35/35\u001B[0m \u001B[32m━━━━━━━━━━━━━━━━━━━━\u001B[0m\u001B[37m\u001B[0m \u001B[1m0s\u001B[0m 1ms/step - accuracy: 0.6530 - loss: 1.5600 - val_accuracy: 0.5645 - val_loss: 1.4993\n",
      "Epoch 4/1000\n",
      "\u001B[1m35/35\u001B[0m \u001B[32m━━━━━━━━━━━━━━━━━━━━\u001B[0m\u001B[37m\u001B[0m \u001B[1m0s\u001B[0m 1ms/step - accuracy: 0.6439 - loss: 1.4133 - val_accuracy: 0.5968 - val_loss: 1.3714\n",
      "Epoch 5/1000\n",
      "\u001B[1m35/35\u001B[0m \u001B[32m━━━━━━━━━━━━━━━━━━━━\u001B[0m\u001B[37m\u001B[0m \u001B[1m0s\u001B[0m 1ms/step - accuracy: 0.6693 - loss: 1.2827 - val_accuracy: 0.6129 - val_loss: 1.2562\n",
      "Epoch 6/1000\n",
      "\u001B[1m35/35\u001B[0m \u001B[32m━━━━━━━━━━━━━━━━━━━━\u001B[0m\u001B[37m\u001B[0m \u001B[1m0s\u001B[0m 1ms/step - accuracy: 0.7039 - loss: 1.1802 - val_accuracy: 0.6613 - val_loss: 1.1566\n",
      "Epoch 7/1000\n",
      "\u001B[1m35/35\u001B[0m \u001B[32m━━━━━━━━━━━━━━━━━━━━\u001B[0m\u001B[37m\u001B[0m \u001B[1m0s\u001B[0m 1ms/step - accuracy: 0.7393 - loss: 1.0783 - val_accuracy: 0.7258 - val_loss: 1.0712\n",
      "Epoch 8/1000\n",
      "\u001B[1m35/35\u001B[0m \u001B[32m━━━━━━━━━━━━━━━━━━━━\u001B[0m\u001B[37m\u001B[0m \u001B[1m0s\u001B[0m 1ms/step - accuracy: 0.7516 - loss: 1.0042 - val_accuracy: 0.7419 - val_loss: 0.9982\n",
      "Epoch 9/1000\n",
      "\u001B[1m35/35\u001B[0m \u001B[32m━━━━━━━━━━━━━━━━━━━━\u001B[0m\u001B[37m\u001B[0m \u001B[1m0s\u001B[0m 1ms/step - accuracy: 0.7401 - loss: 0.9614 - val_accuracy: 0.7581 - val_loss: 0.9334\n",
      "Epoch 10/1000\n",
      "\u001B[1m35/35\u001B[0m \u001B[32m━━━━━━━━━━━━━━━━━━━━\u001B[0m\u001B[37m\u001B[0m \u001B[1m0s\u001B[0m 1ms/step - accuracy: 0.7677 - loss: 0.8768 - val_accuracy: 0.7581 - val_loss: 0.8789\n",
      "Epoch 11/1000\n",
      "\u001B[1m35/35\u001B[0m \u001B[32m━━━━━━━━━━━━━━━━━━━━\u001B[0m\u001B[37m\u001B[0m \u001B[1m0s\u001B[0m 1ms/step - accuracy: 0.7475 - loss: 0.8214 - val_accuracy: 0.7742 - val_loss: 0.8305\n",
      "Epoch 12/1000\n",
      "\u001B[1m35/35\u001B[0m \u001B[32m━━━━━━━━━━━━━━━━━━━━\u001B[0m\u001B[37m\u001B[0m \u001B[1m0s\u001B[0m 1ms/step - accuracy: 0.7430 - loss: 0.8043 - val_accuracy: 0.7742 - val_loss: 0.7924\n",
      "Epoch 13/1000\n",
      "\u001B[1m35/35\u001B[0m \u001B[32m━━━━━━━━━━━━━━━━━━━━\u001B[0m\u001B[37m\u001B[0m \u001B[1m0s\u001B[0m 1ms/step - accuracy: 0.7710 - loss: 0.7318 - val_accuracy: 0.7258 - val_loss: 0.7601\n",
      "Epoch 14/1000\n",
      "\u001B[1m35/35\u001B[0m \u001B[32m━━━━━━━━━━━━━━━━━━━━\u001B[0m\u001B[37m\u001B[0m \u001B[1m0s\u001B[0m 1ms/step - accuracy: 0.7467 - loss: 0.7189 - val_accuracy: 0.7419 - val_loss: 0.7362\n",
      "Epoch 15/1000\n",
      "\u001B[1m35/35\u001B[0m \u001B[32m━━━━━━━━━━━━━━━━━━━━\u001B[0m\u001B[37m\u001B[0m \u001B[1m0s\u001B[0m 2ms/step - accuracy: 0.7970 - loss: 0.7035 - val_accuracy: 0.7258 - val_loss: 0.7150\n",
      "Epoch 16/1000\n",
      "\u001B[1m35/35\u001B[0m \u001B[32m━━━━━━━━━━━━━━━━━━━━\u001B[0m\u001B[37m\u001B[0m \u001B[1m0s\u001B[0m 1ms/step - accuracy: 0.7595 - loss: 0.7031 - val_accuracy: 0.7258 - val_loss: 0.6974\n",
      "Epoch 17/1000\n",
      "\u001B[1m35/35\u001B[0m \u001B[32m━━━━━━━━━━━━━━━━━━━━\u001B[0m\u001B[37m\u001B[0m \u001B[1m0s\u001B[0m 1ms/step - accuracy: 0.7381 - loss: 0.6756 - val_accuracy: 0.7097 - val_loss: 0.6831\n",
      "Epoch 18/1000\n",
      "\u001B[1m35/35\u001B[0m \u001B[32m━━━━━━━━━━━━━━━━━━━━\u001B[0m\u001B[37m\u001B[0m \u001B[1m0s\u001B[0m 1ms/step - accuracy: 0.7574 - loss: 0.6792 - val_accuracy: 0.7097 - val_loss: 0.6718\n",
      "Epoch 19/1000\n",
      "\u001B[1m35/35\u001B[0m \u001B[32m━━━━━━━━━━━━━━━━━━━━\u001B[0m\u001B[37m\u001B[0m \u001B[1m0s\u001B[0m 1ms/step - accuracy: 0.7690 - loss: 0.6678 - val_accuracy: 0.7097 - val_loss: 0.6603\n",
      "Epoch 20/1000\n",
      "\u001B[1m35/35\u001B[0m \u001B[32m━━━━━━━━━━━━━━━━━━━━\u001B[0m\u001B[37m\u001B[0m \u001B[1m0s\u001B[0m 1ms/step - accuracy: 0.7793 - loss: 0.6014 - val_accuracy: 0.6935 - val_loss: 0.6522\n",
      "Epoch 21/1000\n",
      "\u001B[1m35/35\u001B[0m \u001B[32m━━━━━━━━━━━━━━━━━━━━\u001B[0m\u001B[37m\u001B[0m \u001B[1m0s\u001B[0m 2ms/step - accuracy: 0.7788 - loss: 0.6307 - val_accuracy: 0.7258 - val_loss: 0.6423\n",
      "Epoch 22/1000\n",
      "\u001B[1m35/35\u001B[0m \u001B[32m━━━━━━━━━━━━━━━━━━━━\u001B[0m\u001B[37m\u001B[0m \u001B[1m0s\u001B[0m 1ms/step - accuracy: 0.7410 - loss: 0.6099 - val_accuracy: 0.7097 - val_loss: 0.6364\n",
      "Epoch 23/1000\n",
      "\u001B[1m35/35\u001B[0m \u001B[32m━━━━━━━━━━━━━━━━━━━━\u001B[0m\u001B[37m\u001B[0m \u001B[1m0s\u001B[0m 1ms/step - accuracy: 0.7601 - loss: 0.6254 - val_accuracy: 0.7258 - val_loss: 0.6308\n",
      "Epoch 24/1000\n",
      "\u001B[1m35/35\u001B[0m \u001B[32m━━━━━━━━━━━━━━━━━━━━\u001B[0m\u001B[37m\u001B[0m \u001B[1m0s\u001B[0m 1ms/step - accuracy: 0.7380 - loss: 0.6428 - val_accuracy: 0.7097 - val_loss: 0.6279\n",
      "Epoch 25/1000\n",
      "\u001B[1m35/35\u001B[0m \u001B[32m━━━━━━━━━━━━━━━━━━━━\u001B[0m\u001B[37m\u001B[0m \u001B[1m0s\u001B[0m 2ms/step - accuracy: 0.7566 - loss: 0.6065 - val_accuracy: 0.7258 - val_loss: 0.6225\n",
      "Epoch 26/1000\n",
      "\u001B[1m35/35\u001B[0m \u001B[32m━━━━━━━━━━━━━━━━━━━━\u001B[0m\u001B[37m\u001B[0m \u001B[1m0s\u001B[0m 1ms/step - accuracy: 0.7627 - loss: 0.5990 - val_accuracy: 0.7097 - val_loss: 0.6211\n",
      "Epoch 27/1000\n",
      "\u001B[1m35/35\u001B[0m \u001B[32m━━━━━━━━━━━━━━━━━━━━\u001B[0m\u001B[37m\u001B[0m \u001B[1m0s\u001B[0m 1ms/step - accuracy: 0.7686 - loss: 0.5761 - val_accuracy: 0.7097 - val_loss: 0.6198\n",
      "Epoch 28/1000\n",
      "\u001B[1m35/35\u001B[0m \u001B[32m━━━━━━━━━━━━━━━━━━━━\u001B[0m\u001B[37m\u001B[0m \u001B[1m0s\u001B[0m 1ms/step - accuracy: 0.7732 - loss: 0.5750 - val_accuracy: 0.7258 - val_loss: 0.6164\n",
      "Epoch 29/1000\n",
      "\u001B[1m35/35\u001B[0m \u001B[32m━━━━━━━━━━━━━━━━━━━━\u001B[0m\u001B[37m\u001B[0m \u001B[1m0s\u001B[0m 1ms/step - accuracy: 0.7716 - loss: 0.5716 - val_accuracy: 0.7419 - val_loss: 0.6125\n",
      "Epoch 30/1000\n",
      "\u001B[1m35/35\u001B[0m \u001B[32m━━━━━━━━━━━━━━━━━━━━\u001B[0m\u001B[37m\u001B[0m \u001B[1m0s\u001B[0m 1ms/step - accuracy: 0.7708 - loss: 0.5777 - val_accuracy: 0.7258 - val_loss: 0.6121\n",
      "Epoch 31/1000\n",
      "\u001B[1m35/35\u001B[0m \u001B[32m━━━━━━━━━━━━━━━━━━━━\u001B[0m\u001B[37m\u001B[0m \u001B[1m0s\u001B[0m 1ms/step - accuracy: 0.7701 - loss: 0.5890 - val_accuracy: 0.7419 - val_loss: 0.6117\n",
      "Epoch 32/1000\n",
      "\u001B[1m35/35\u001B[0m \u001B[32m━━━━━━━━━━━━━━━━━━━━\u001B[0m\u001B[37m\u001B[0m \u001B[1m0s\u001B[0m 1ms/step - accuracy: 0.8082 - loss: 0.5512 - val_accuracy: 0.7258 - val_loss: 0.6107\n",
      "Epoch 33/1000\n",
      "\u001B[1m35/35\u001B[0m \u001B[32m━━━━━━━━━━━━━━━━━━━━\u001B[0m\u001B[37m\u001B[0m \u001B[1m0s\u001B[0m 1ms/step - accuracy: 0.7543 - loss: 0.5976 - val_accuracy: 0.7258 - val_loss: 0.6102\n",
      "Epoch 34/1000\n",
      "\u001B[1m35/35\u001B[0m \u001B[32m━━━━━━━━━━━━━━━━━━━━\u001B[0m\u001B[37m\u001B[0m \u001B[1m0s\u001B[0m 1ms/step - accuracy: 0.7743 - loss: 0.5585 - val_accuracy: 0.7258 - val_loss: 0.6082\n",
      "Epoch 35/1000\n",
      "\u001B[1m35/35\u001B[0m \u001B[32m━━━━━━━━━━━━━━━━━━━━\u001B[0m\u001B[37m\u001B[0m \u001B[1m0s\u001B[0m 1ms/step - accuracy: 0.7967 - loss: 0.5597 - val_accuracy: 0.7097 - val_loss: 0.6079\n",
      "Epoch 36/1000\n",
      "\u001B[1m35/35\u001B[0m \u001B[32m━━━━━━━━━━━━━━━━━━━━\u001B[0m\u001B[37m\u001B[0m \u001B[1m0s\u001B[0m 1ms/step - accuracy: 0.7822 - loss: 0.5568 - val_accuracy: 0.7097 - val_loss: 0.6064\n",
      "Epoch 37/1000\n",
      "\u001B[1m35/35\u001B[0m \u001B[32m━━━━━━━━━━━━━━━━━━━━\u001B[0m\u001B[37m\u001B[0m \u001B[1m0s\u001B[0m 2ms/step - accuracy: 0.7683 - loss: 0.5816 - val_accuracy: 0.7258 - val_loss: 0.6072\n",
      "Epoch 38/1000\n",
      "\u001B[1m35/35\u001B[0m \u001B[32m━━━━━━━━━━━━━━━━━━━━\u001B[0m\u001B[37m\u001B[0m \u001B[1m0s\u001B[0m 2ms/step - accuracy: 0.7662 - loss: 0.5694 - val_accuracy: 0.7258 - val_loss: 0.6053\n",
      "Epoch 39/1000\n",
      "\u001B[1m35/35\u001B[0m \u001B[32m━━━━━━━━━━━━━━━━━━━━\u001B[0m\u001B[37m\u001B[0m \u001B[1m0s\u001B[0m 1ms/step - accuracy: 0.7852 - loss: 0.5642 - val_accuracy: 0.7419 - val_loss: 0.6056\n",
      "Epoch 40/1000\n",
      "\u001B[1m35/35\u001B[0m \u001B[32m━━━━━━━━━━━━━━━━━━━━\u001B[0m\u001B[37m\u001B[0m \u001B[1m0s\u001B[0m 1ms/step - accuracy: 0.7757 - loss: 0.5698 - val_accuracy: 0.7419 - val_loss: 0.6037\n",
      "Epoch 41/1000\n",
      "\u001B[1m35/35\u001B[0m \u001B[32m━━━━━━━━━━━━━━━━━━━━\u001B[0m\u001B[37m\u001B[0m \u001B[1m0s\u001B[0m 1ms/step - accuracy: 0.7496 - loss: 0.5923 - val_accuracy: 0.7258 - val_loss: 0.6048\n",
      "Epoch 42/1000\n",
      "\u001B[1m35/35\u001B[0m \u001B[32m━━━━━━━━━━━━━━━━━━━━\u001B[0m\u001B[37m\u001B[0m \u001B[1m0s\u001B[0m 1ms/step - accuracy: 0.7663 - loss: 0.5550 - val_accuracy: 0.7258 - val_loss: 0.6051\n",
      "Epoch 43/1000\n",
      "\u001B[1m35/35\u001B[0m \u001B[32m━━━━━━━━━━━━━━━━━━━━\u001B[0m\u001B[37m\u001B[0m \u001B[1m0s\u001B[0m 1ms/step - accuracy: 0.7532 - loss: 0.5573 - val_accuracy: 0.7419 - val_loss: 0.6025\n",
      "Epoch 44/1000\n",
      "\u001B[1m35/35\u001B[0m \u001B[32m━━━━━━━━━━━━━━━━━━━━\u001B[0m\u001B[37m\u001B[0m \u001B[1m0s\u001B[0m 1ms/step - accuracy: 0.7564 - loss: 0.5691 - val_accuracy: 0.7419 - val_loss: 0.6013\n",
      "Epoch 45/1000\n",
      "\u001B[1m35/35\u001B[0m \u001B[32m━━━━━━━━━━━━━━━━━━━━\u001B[0m\u001B[37m\u001B[0m \u001B[1m0s\u001B[0m 1ms/step - accuracy: 0.7701 - loss: 0.5521 - val_accuracy: 0.7419 - val_loss: 0.6029\n",
      "Epoch 46/1000\n",
      "\u001B[1m35/35\u001B[0m \u001B[32m━━━━━━━━━━━━━━━━━━━━\u001B[0m\u001B[37m\u001B[0m \u001B[1m0s\u001B[0m 1ms/step - accuracy: 0.7681 - loss: 0.5909 - val_accuracy: 0.7419 - val_loss: 0.5984\n",
      "Epoch 47/1000\n",
      "\u001B[1m35/35\u001B[0m \u001B[32m━━━━━━━━━━━━━━━━━━━━\u001B[0m\u001B[37m\u001B[0m \u001B[1m0s\u001B[0m 1ms/step - accuracy: 0.7798 - loss: 0.5342 - val_accuracy: 0.7419 - val_loss: 0.5980\n",
      "Epoch 48/1000\n",
      "\u001B[1m35/35\u001B[0m \u001B[32m━━━━━━━━━━━━━━━━━━━━\u001B[0m\u001B[37m\u001B[0m \u001B[1m0s\u001B[0m 1ms/step - accuracy: 0.7882 - loss: 0.5365 - val_accuracy: 0.7419 - val_loss: 0.5974\n",
      "Epoch 49/1000\n",
      "\u001B[1m35/35\u001B[0m \u001B[32m━━━━━━━━━━━━━━━━━━━━\u001B[0m\u001B[37m\u001B[0m \u001B[1m0s\u001B[0m 1ms/step - accuracy: 0.7563 - loss: 0.5759 - val_accuracy: 0.7419 - val_loss: 0.5980\n",
      "Epoch 50/1000\n",
      "\u001B[1m35/35\u001B[0m \u001B[32m━━━━━━━━━━━━━━━━━━━━\u001B[0m\u001B[37m\u001B[0m \u001B[1m0s\u001B[0m 1ms/step - accuracy: 0.7987 - loss: 0.5309 - val_accuracy: 0.7419 - val_loss: 0.5975\n",
      "Epoch 51/1000\n",
      "\u001B[1m35/35\u001B[0m \u001B[32m━━━━━━━━━━━━━━━━━━━━\u001B[0m\u001B[37m\u001B[0m \u001B[1m0s\u001B[0m 1ms/step - accuracy: 0.7509 - loss: 0.5869 - val_accuracy: 0.7419 - val_loss: 0.5958\n",
      "Epoch 52/1000\n",
      "\u001B[1m35/35\u001B[0m \u001B[32m━━━━━━━━━━━━━━━━━━━━\u001B[0m\u001B[37m\u001B[0m \u001B[1m0s\u001B[0m 1ms/step - accuracy: 0.7690 - loss: 0.5434 - val_accuracy: 0.7419 - val_loss: 0.5946\n",
      "Epoch 53/1000\n",
      "\u001B[1m35/35\u001B[0m \u001B[32m━━━━━━━━━━━━━━━━━━━━\u001B[0m\u001B[37m\u001B[0m \u001B[1m0s\u001B[0m 1ms/step - accuracy: 0.7611 - loss: 0.5514 - val_accuracy: 0.7419 - val_loss: 0.5937\n",
      "Epoch 54/1000\n",
      "\u001B[1m35/35\u001B[0m \u001B[32m━━━━━━━━━━━━━━━━━━━━\u001B[0m\u001B[37m\u001B[0m \u001B[1m0s\u001B[0m 1ms/step - accuracy: 0.7539 - loss: 0.5572 - val_accuracy: 0.7258 - val_loss: 0.5926\n",
      "Epoch 55/1000\n",
      "\u001B[1m35/35\u001B[0m \u001B[32m━━━━━━━━━━━━━━━━━━━━\u001B[0m\u001B[37m\u001B[0m \u001B[1m0s\u001B[0m 1ms/step - accuracy: 0.7259 - loss: 0.6064 - val_accuracy: 0.7097 - val_loss: 0.5917\n",
      "Epoch 56/1000\n",
      "\u001B[1m35/35\u001B[0m \u001B[32m━━━━━━━━━━━━━━━━━━━━\u001B[0m\u001B[37m\u001B[0m \u001B[1m0s\u001B[0m 1ms/step - accuracy: 0.7475 - loss: 0.5790 - val_accuracy: 0.7419 - val_loss: 0.5932\n",
      "Epoch 57/1000\n",
      "\u001B[1m35/35\u001B[0m \u001B[32m━━━━━━━━━━━━━━━━━━━━\u001B[0m\u001B[37m\u001B[0m \u001B[1m0s\u001B[0m 1ms/step - accuracy: 0.7808 - loss: 0.5457 - val_accuracy: 0.7419 - val_loss: 0.5916\n",
      "Epoch 58/1000\n",
      "\u001B[1m35/35\u001B[0m \u001B[32m━━━━━━━━━━━━━━━━━━━━\u001B[0m\u001B[37m\u001B[0m \u001B[1m0s\u001B[0m 1ms/step - accuracy: 0.7484 - loss: 0.5480 - val_accuracy: 0.7419 - val_loss: 0.5927\n",
      "Epoch 59/1000\n",
      "\u001B[1m35/35\u001B[0m \u001B[32m━━━━━━━━━━━━━━━━━━━━\u001B[0m\u001B[37m\u001B[0m \u001B[1m0s\u001B[0m 1ms/step - accuracy: 0.7670 - loss: 0.5430 - val_accuracy: 0.7258 - val_loss: 0.5900\n",
      "Epoch 60/1000\n",
      "\u001B[1m35/35\u001B[0m \u001B[32m━━━━━━━━━━━━━━━━━━━━\u001B[0m\u001B[37m\u001B[0m \u001B[1m0s\u001B[0m 1ms/step - accuracy: 0.7543 - loss: 0.5610 - val_accuracy: 0.7419 - val_loss: 0.5912\n",
      "Epoch 61/1000\n",
      "\u001B[1m35/35\u001B[0m \u001B[32m━━━━━━━━━━━━━━━━━━━━\u001B[0m\u001B[37m\u001B[0m \u001B[1m0s\u001B[0m 2ms/step - accuracy: 0.7276 - loss: 0.5907 - val_accuracy: 0.7419 - val_loss: 0.5903\n",
      "Epoch 62/1000\n",
      "\u001B[1m35/35\u001B[0m \u001B[32m━━━━━━━━━━━━━━━━━━━━\u001B[0m\u001B[37m\u001B[0m \u001B[1m0s\u001B[0m 1ms/step - accuracy: 0.7862 - loss: 0.5531 - val_accuracy: 0.7419 - val_loss: 0.5907\n",
      "Epoch 63/1000\n",
      "\u001B[1m35/35\u001B[0m \u001B[32m━━━━━━━━━━━━━━━━━━━━\u001B[0m\u001B[37m\u001B[0m \u001B[1m0s\u001B[0m 1ms/step - accuracy: 0.7327 - loss: 0.5641 - val_accuracy: 0.7258 - val_loss: 0.5886\n",
      "Epoch 64/1000\n",
      "\u001B[1m35/35\u001B[0m \u001B[32m━━━━━━━━━━━━━━━━━━━━\u001B[0m\u001B[37m\u001B[0m \u001B[1m0s\u001B[0m 1ms/step - accuracy: 0.7612 - loss: 0.5589 - val_accuracy: 0.7258 - val_loss: 0.5883\n",
      "Epoch 65/1000\n",
      "\u001B[1m35/35\u001B[0m \u001B[32m━━━━━━━━━━━━━━━━━━━━\u001B[0m\u001B[37m\u001B[0m \u001B[1m0s\u001B[0m 1ms/step - accuracy: 0.7603 - loss: 0.5542 - val_accuracy: 0.7419 - val_loss: 0.5884\n",
      "Epoch 66/1000\n",
      "\u001B[1m35/35\u001B[0m \u001B[32m━━━━━━━━━━━━━━━━━━━━\u001B[0m\u001B[37m\u001B[0m \u001B[1m0s\u001B[0m 1ms/step - accuracy: 0.7421 - loss: 0.5642 - val_accuracy: 0.7258 - val_loss: 0.5877\n",
      "Epoch 67/1000\n",
      "\u001B[1m35/35\u001B[0m \u001B[32m━━━━━━━━━━━━━━━━━━━━\u001B[0m\u001B[37m\u001B[0m \u001B[1m0s\u001B[0m 1ms/step - accuracy: 0.7429 - loss: 0.5704 - val_accuracy: 0.7258 - val_loss: 0.5876\n",
      "Epoch 68/1000\n",
      "\u001B[1m35/35\u001B[0m \u001B[32m━━━━━━━━━━━━━━━━━━━━\u001B[0m\u001B[37m\u001B[0m \u001B[1m0s\u001B[0m 1ms/step - accuracy: 0.7536 - loss: 0.5509 - val_accuracy: 0.7258 - val_loss: 0.5882\n",
      "Epoch 69/1000\n",
      "\u001B[1m35/35\u001B[0m \u001B[32m━━━━━━━━━━━━━━━━━━━━\u001B[0m\u001B[37m\u001B[0m \u001B[1m0s\u001B[0m 1ms/step - accuracy: 0.7765 - loss: 0.5562 - val_accuracy: 0.7258 - val_loss: 0.5862\n",
      "Epoch 70/1000\n",
      "\u001B[1m35/35\u001B[0m \u001B[32m━━━━━━━━━━━━━━━━━━━━\u001B[0m\u001B[37m\u001B[0m \u001B[1m0s\u001B[0m 1ms/step - accuracy: 0.7650 - loss: 0.5405 - val_accuracy: 0.7097 - val_loss: 0.5852\n",
      "Epoch 71/1000\n",
      "\u001B[1m35/35\u001B[0m \u001B[32m━━━━━━━━━━━━━━━━━━━━\u001B[0m\u001B[37m\u001B[0m \u001B[1m0s\u001B[0m 1ms/step - accuracy: 0.7395 - loss: 0.5574 - val_accuracy: 0.7097 - val_loss: 0.5853\n",
      "Epoch 72/1000\n",
      "\u001B[1m35/35\u001B[0m \u001B[32m━━━━━━━━━━━━━━━━━━━━\u001B[0m\u001B[37m\u001B[0m \u001B[1m0s\u001B[0m 1ms/step - accuracy: 0.7494 - loss: 0.5517 - val_accuracy: 0.7097 - val_loss: 0.5857\n",
      "Epoch 73/1000\n",
      "\u001B[1m35/35\u001B[0m \u001B[32m━━━━━━━━━━━━━━━━━━━━\u001B[0m\u001B[37m\u001B[0m \u001B[1m0s\u001B[0m 1ms/step - accuracy: 0.7362 - loss: 0.5901 - val_accuracy: 0.7581 - val_loss: 0.5873\n",
      "Epoch 74/1000\n",
      "\u001B[1m35/35\u001B[0m \u001B[32m━━━━━━━━━━━━━━━━━━━━\u001B[0m\u001B[37m\u001B[0m \u001B[1m0s\u001B[0m 1ms/step - accuracy: 0.7532 - loss: 0.5634 - val_accuracy: 0.7258 - val_loss: 0.5860\n",
      "Epoch 75/1000\n",
      "\u001B[1m35/35\u001B[0m \u001B[32m━━━━━━━━━━━━━━━━━━━━\u001B[0m\u001B[37m\u001B[0m \u001B[1m0s\u001B[0m 1ms/step - accuracy: 0.7338 - loss: 0.5678 - val_accuracy: 0.7581 - val_loss: 0.5852\n",
      "Epoch 76/1000\n",
      "\u001B[1m35/35\u001B[0m \u001B[32m━━━━━━━━━━━━━━━━━━━━\u001B[0m\u001B[37m\u001B[0m \u001B[1m0s\u001B[0m 1ms/step - accuracy: 0.7581 - loss: 0.5601 - val_accuracy: 0.7258 - val_loss: 0.5861\n",
      "Epoch 77/1000\n",
      "\u001B[1m35/35\u001B[0m \u001B[32m━━━━━━━━━━━━━━━━━━━━\u001B[0m\u001B[37m\u001B[0m \u001B[1m0s\u001B[0m 1ms/step - accuracy: 0.7462 - loss: 0.5627 - val_accuracy: 0.7258 - val_loss: 0.5856\n",
      "Epoch 78/1000\n",
      "\u001B[1m35/35\u001B[0m \u001B[32m━━━━━━━━━━━━━━━━━━━━\u001B[0m\u001B[37m\u001B[0m \u001B[1m0s\u001B[0m 1ms/step - accuracy: 0.7961 - loss: 0.5189 - val_accuracy: 0.7097 - val_loss: 0.5832\n",
      "Epoch 79/1000\n",
      "\u001B[1m35/35\u001B[0m \u001B[32m━━━━━━━━━━━━━━━━━━━━\u001B[0m\u001B[37m\u001B[0m \u001B[1m0s\u001B[0m 1ms/step - accuracy: 0.7730 - loss: 0.5471 - val_accuracy: 0.7258 - val_loss: 0.5834\n",
      "Epoch 80/1000\n",
      "\u001B[1m35/35\u001B[0m \u001B[32m━━━━━━━━━━━━━━━━━━━━\u001B[0m\u001B[37m\u001B[0m \u001B[1m0s\u001B[0m 1ms/step - accuracy: 0.7485 - loss: 0.5482 - val_accuracy: 0.7419 - val_loss: 0.5847\n",
      "Epoch 81/1000\n",
      "\u001B[1m35/35\u001B[0m \u001B[32m━━━━━━━━━━━━━━━━━━━━\u001B[0m\u001B[37m\u001B[0m \u001B[1m0s\u001B[0m 1ms/step - accuracy: 0.7720 - loss: 0.5281 - val_accuracy: 0.7419 - val_loss: 0.5858\n",
      "Epoch 82/1000\n",
      "\u001B[1m35/35\u001B[0m \u001B[32m━━━━━━━━━━━━━━━━━━━━\u001B[0m\u001B[37m\u001B[0m \u001B[1m0s\u001B[0m 1ms/step - accuracy: 0.7743 - loss: 0.5519 - val_accuracy: 0.7097 - val_loss: 0.5806\n",
      "Epoch 83/1000\n",
      "\u001B[1m35/35\u001B[0m \u001B[32m━━━━━━━━━━━━━━━━━━━━\u001B[0m\u001B[37m\u001B[0m \u001B[1m0s\u001B[0m 1ms/step - accuracy: 0.7182 - loss: 0.6153 - val_accuracy: 0.7097 - val_loss: 0.5823\n",
      "Epoch 84/1000\n",
      "\u001B[1m35/35\u001B[0m \u001B[32m━━━━━━━━━━━━━━━━━━━━\u001B[0m\u001B[37m\u001B[0m \u001B[1m0s\u001B[0m 1ms/step - accuracy: 0.7807 - loss: 0.5374 - val_accuracy: 0.7581 - val_loss: 0.5826\n",
      "Epoch 85/1000\n",
      "\u001B[1m35/35\u001B[0m \u001B[32m━━━━━━━━━━━━━━━━━━━━\u001B[0m\u001B[37m\u001B[0m \u001B[1m0s\u001B[0m 1ms/step - accuracy: 0.7477 - loss: 0.5461 - val_accuracy: 0.7581 - val_loss: 0.5837\n",
      "Epoch 86/1000\n",
      "\u001B[1m35/35\u001B[0m \u001B[32m━━━━━━━━━━━━━━━━━━━━\u001B[0m\u001B[37m\u001B[0m \u001B[1m0s\u001B[0m 1ms/step - accuracy: 0.7172 - loss: 0.5744 - val_accuracy: 0.7258 - val_loss: 0.5823\n",
      "Epoch 87/1000\n",
      "\u001B[1m35/35\u001B[0m \u001B[32m━━━━━━━━━━━━━━━━━━━━\u001B[0m\u001B[37m\u001B[0m \u001B[1m0s\u001B[0m 1ms/step - accuracy: 0.7612 - loss: 0.5415 - val_accuracy: 0.7581 - val_loss: 0.5829\n",
      "Epoch 88/1000\n",
      "\u001B[1m35/35\u001B[0m \u001B[32m━━━━━━━━━━━━━━━━━━━━\u001B[0m\u001B[37m\u001B[0m \u001B[1m0s\u001B[0m 1ms/step - accuracy: 0.7726 - loss: 0.5547 - val_accuracy: 0.7581 - val_loss: 0.5828\n",
      "Epoch 89/1000\n",
      "\u001B[1m35/35\u001B[0m \u001B[32m━━━━━━━━━━━━━━━━━━━━\u001B[0m\u001B[37m\u001B[0m \u001B[1m0s\u001B[0m 1ms/step - accuracy: 0.7490 - loss: 0.5819 - val_accuracy: 0.7258 - val_loss: 0.5816\n",
      "Epoch 90/1000\n",
      "\u001B[1m35/35\u001B[0m \u001B[32m━━━━━━━━━━━━━━━━━━━━\u001B[0m\u001B[37m\u001B[0m \u001B[1m0s\u001B[0m 1ms/step - accuracy: 0.7672 - loss: 0.5675 - val_accuracy: 0.7258 - val_loss: 0.5818\n",
      "Epoch 91/1000\n",
      "\u001B[1m35/35\u001B[0m \u001B[32m━━━━━━━━━━━━━━━━━━━━\u001B[0m\u001B[37m\u001B[0m \u001B[1m0s\u001B[0m 1ms/step - accuracy: 0.7558 - loss: 0.5454 - val_accuracy: 0.7581 - val_loss: 0.5820\n",
      "Epoch 92/1000\n",
      "\u001B[1m35/35\u001B[0m \u001B[32m━━━━━━━━━━━━━━━━━━━━\u001B[0m\u001B[37m\u001B[0m \u001B[1m0s\u001B[0m 1ms/step - accuracy: 0.7567 - loss: 0.5418 - val_accuracy: 0.7581 - val_loss: 0.5816\n",
      "Epoch 93/1000\n",
      "\u001B[1m35/35\u001B[0m \u001B[32m━━━━━━━━━━━━━━━━━━━━\u001B[0m\u001B[37m\u001B[0m \u001B[1m0s\u001B[0m 1ms/step - accuracy: 0.7612 - loss: 0.5554 - val_accuracy: 0.7581 - val_loss: 0.5814\n",
      "Epoch 94/1000\n",
      "\u001B[1m35/35\u001B[0m \u001B[32m━━━━━━━━━━━━━━━━━━━━\u001B[0m\u001B[37m\u001B[0m \u001B[1m0s\u001B[0m 1ms/step - accuracy: 0.7227 - loss: 0.5619 - val_accuracy: 0.7581 - val_loss: 0.5818\n",
      "Epoch 95/1000\n",
      "\u001B[1m35/35\u001B[0m \u001B[32m━━━━━━━━━━━━━━━━━━━━\u001B[0m\u001B[37m\u001B[0m \u001B[1m0s\u001B[0m 1ms/step - accuracy: 0.7232 - loss: 0.5702 - val_accuracy: 0.7581 - val_loss: 0.5826\n",
      "Epoch 96/1000\n",
      "\u001B[1m35/35\u001B[0m \u001B[32m━━━━━━━━━━━━━━━━━━━━\u001B[0m\u001B[37m\u001B[0m \u001B[1m0s\u001B[0m 1ms/step - accuracy: 0.7690 - loss: 0.5347 - val_accuracy: 0.7419 - val_loss: 0.5797\n",
      "Epoch 97/1000\n",
      "\u001B[1m35/35\u001B[0m \u001B[32m━━━━━━━━━━━━━━━━━━━━\u001B[0m\u001B[37m\u001B[0m \u001B[1m0s\u001B[0m 1ms/step - accuracy: 0.7594 - loss: 0.5285 - val_accuracy: 0.7581 - val_loss: 0.5812\n",
      "Epoch 98/1000\n",
      "\u001B[1m35/35\u001B[0m \u001B[32m━━━━━━━━━━━━━━━━━━━━\u001B[0m\u001B[37m\u001B[0m \u001B[1m0s\u001B[0m 1ms/step - accuracy: 0.7109 - loss: 0.5719 - val_accuracy: 0.7419 - val_loss: 0.5811\n",
      "Epoch 99/1000\n",
      "\u001B[1m35/35\u001B[0m \u001B[32m━━━━━━━━━━━━━━━━━━━━\u001B[0m\u001B[37m\u001B[0m \u001B[1m0s\u001B[0m 1ms/step - accuracy: 0.7433 - loss: 0.5910 - val_accuracy: 0.7581 - val_loss: 0.5832\n",
      "Epoch 100/1000\n",
      "\u001B[1m35/35\u001B[0m \u001B[32m━━━━━━━━━━━━━━━━━━━━\u001B[0m\u001B[37m\u001B[0m \u001B[1m0s\u001B[0m 1ms/step - accuracy: 0.7527 - loss: 0.5576 - val_accuracy: 0.7581 - val_loss: 0.5822\n",
      "Epoch 101/1000\n",
      "\u001B[1m35/35\u001B[0m \u001B[32m━━━━━━━━━━━━━━━━━━━━\u001B[0m\u001B[37m\u001B[0m \u001B[1m0s\u001B[0m 1ms/step - accuracy: 0.7498 - loss: 0.5477 - val_accuracy: 0.7419 - val_loss: 0.5802\n",
      "Epoch 102/1000\n",
      "\u001B[1m35/35\u001B[0m \u001B[32m━━━━━━━━━━━━━━━━━━━━\u001B[0m\u001B[37m\u001B[0m \u001B[1m0s\u001B[0m 1ms/step - accuracy: 0.7897 - loss: 0.5276 - val_accuracy: 0.7581 - val_loss: 0.5794\n",
      "Epoch 103/1000\n",
      "\u001B[1m35/35\u001B[0m \u001B[32m━━━━━━━━━━━━━━━━━━━━\u001B[0m\u001B[37m\u001B[0m \u001B[1m0s\u001B[0m 1ms/step - accuracy: 0.7600 - loss: 0.5569 - val_accuracy: 0.7581 - val_loss: 0.5793\n",
      "Epoch 104/1000\n",
      "\u001B[1m35/35\u001B[0m \u001B[32m━━━━━━━━━━━━━━━━━━━━\u001B[0m\u001B[37m\u001B[0m \u001B[1m0s\u001B[0m 1ms/step - accuracy: 0.7468 - loss: 0.5470 - val_accuracy: 0.7581 - val_loss: 0.5798\n",
      "Epoch 105/1000\n",
      "\u001B[1m35/35\u001B[0m \u001B[32m━━━━━━━━━━━━━━━━━━━━\u001B[0m\u001B[37m\u001B[0m \u001B[1m0s\u001B[0m 1ms/step - accuracy: 0.7699 - loss: 0.5269 - val_accuracy: 0.7581 - val_loss: 0.5785\n",
      "Epoch 106/1000\n",
      "\u001B[1m35/35\u001B[0m \u001B[32m━━━━━━━━━━━━━━━━━━━━\u001B[0m\u001B[37m\u001B[0m \u001B[1m0s\u001B[0m 1ms/step - accuracy: 0.7602 - loss: 0.5552 - val_accuracy: 0.7419 - val_loss: 0.5778\n",
      "Epoch 107/1000\n",
      "\u001B[1m35/35\u001B[0m \u001B[32m━━━━━━━━━━━━━━━━━━━━\u001B[0m\u001B[37m\u001B[0m \u001B[1m0s\u001B[0m 1ms/step - accuracy: 0.7514 - loss: 0.5645 - val_accuracy: 0.7419 - val_loss: 0.5768\n",
      "Epoch 108/1000\n",
      "\u001B[1m35/35\u001B[0m \u001B[32m━━━━━━━━━━━━━━━━━━━━\u001B[0m\u001B[37m\u001B[0m \u001B[1m0s\u001B[0m 1ms/step - accuracy: 0.7755 - loss: 0.5452 - val_accuracy: 0.7258 - val_loss: 0.5754\n",
      "Epoch 109/1000\n",
      "\u001B[1m35/35\u001B[0m \u001B[32m━━━━━━━━━━━━━━━━━━━━\u001B[0m\u001B[37m\u001B[0m \u001B[1m0s\u001B[0m 1ms/step - accuracy: 0.7446 - loss: 0.5495 - val_accuracy: 0.7419 - val_loss: 0.5765\n",
      "Epoch 110/1000\n",
      "\u001B[1m35/35\u001B[0m \u001B[32m━━━━━━━━━━━━━━━━━━━━\u001B[0m\u001B[37m\u001B[0m \u001B[1m0s\u001B[0m 1ms/step - accuracy: 0.7562 - loss: 0.5203 - val_accuracy: 0.7419 - val_loss: 0.5759\n",
      "Epoch 111/1000\n",
      "\u001B[1m35/35\u001B[0m \u001B[32m━━━━━━━━━━━━━━━━━━━━\u001B[0m\u001B[37m\u001B[0m \u001B[1m0s\u001B[0m 1ms/step - accuracy: 0.7520 - loss: 0.5537 - val_accuracy: 0.7258 - val_loss: 0.5741\n",
      "Epoch 112/1000\n",
      "\u001B[1m35/35\u001B[0m \u001B[32m━━━━━━━━━━━━━━━━━━━━\u001B[0m\u001B[37m\u001B[0m \u001B[1m0s\u001B[0m 1ms/step - accuracy: 0.7650 - loss: 0.5181 - val_accuracy: 0.7258 - val_loss: 0.5740\n",
      "Epoch 113/1000\n",
      "\u001B[1m35/35\u001B[0m \u001B[32m━━━━━━━━━━━━━━━━━━━━\u001B[0m\u001B[37m\u001B[0m \u001B[1m0s\u001B[0m 1ms/step - accuracy: 0.7336 - loss: 0.5548 - val_accuracy: 0.7419 - val_loss: 0.5766\n",
      "Epoch 114/1000\n",
      "\u001B[1m35/35\u001B[0m \u001B[32m━━━━━━━━━━━━━━━━━━━━\u001B[0m\u001B[37m\u001B[0m \u001B[1m0s\u001B[0m 1ms/step - accuracy: 0.7783 - loss: 0.5181 - val_accuracy: 0.7581 - val_loss: 0.5750\n",
      "Epoch 115/1000\n",
      "\u001B[1m35/35\u001B[0m \u001B[32m━━━━━━━━━━━━━━━━━━━━\u001B[0m\u001B[37m\u001B[0m \u001B[1m0s\u001B[0m 1ms/step - accuracy: 0.7437 - loss: 0.5817 - val_accuracy: 0.7419 - val_loss: 0.5744\n",
      "Epoch 116/1000\n",
      "\u001B[1m35/35\u001B[0m \u001B[32m━━━━━━━━━━━━━━━━━━━━\u001B[0m\u001B[37m\u001B[0m \u001B[1m0s\u001B[0m 1ms/step - accuracy: 0.7357 - loss: 0.5649 - val_accuracy: 0.7258 - val_loss: 0.5751\n",
      "Epoch 117/1000\n",
      "\u001B[1m35/35\u001B[0m \u001B[32m━━━━━━━━━━━━━━━━━━━━\u001B[0m\u001B[37m\u001B[0m \u001B[1m0s\u001B[0m 1ms/step - accuracy: 0.7587 - loss: 0.5413 - val_accuracy: 0.7419 - val_loss: 0.5750\n",
      "Epoch 118/1000\n",
      "\u001B[1m35/35\u001B[0m \u001B[32m━━━━━━━━━━━━━━━━━━━━\u001B[0m\u001B[37m\u001B[0m \u001B[1m0s\u001B[0m 1ms/step - accuracy: 0.7578 - loss: 0.5307 - val_accuracy: 0.7419 - val_loss: 0.5760\n",
      "Epoch 119/1000\n",
      "\u001B[1m35/35\u001B[0m \u001B[32m━━━━━━━━━━━━━━━━━━━━\u001B[0m\u001B[37m\u001B[0m \u001B[1m0s\u001B[0m 1ms/step - accuracy: 0.7624 - loss: 0.5490 - val_accuracy: 0.7419 - val_loss: 0.5749\n",
      "Epoch 120/1000\n",
      "\u001B[1m35/35\u001B[0m \u001B[32m━━━━━━━━━━━━━━━━━━━━\u001B[0m\u001B[37m\u001B[0m \u001B[1m0s\u001B[0m 1ms/step - accuracy: 0.7374 - loss: 0.5457 - val_accuracy: 0.7258 - val_loss: 0.5752\n",
      "Epoch 121/1000\n",
      "\u001B[1m35/35\u001B[0m \u001B[32m━━━━━━━━━━━━━━━━━━━━\u001B[0m\u001B[37m\u001B[0m \u001B[1m0s\u001B[0m 1ms/step - accuracy: 0.7501 - loss: 0.5496 - val_accuracy: 0.7258 - val_loss: 0.5747\n",
      "Epoch 122/1000\n",
      "\u001B[1m35/35\u001B[0m \u001B[32m━━━━━━━━━━━━━━━━━━━━\u001B[0m\u001B[37m\u001B[0m \u001B[1m0s\u001B[0m 1ms/step - accuracy: 0.7646 - loss: 0.5427 - val_accuracy: 0.7258 - val_loss: 0.5754\n",
      "Epoch 123/1000\n",
      "\u001B[1m35/35\u001B[0m \u001B[32m━━━━━━━━━━━━━━━━━━━━\u001B[0m\u001B[37m\u001B[0m \u001B[1m0s\u001B[0m 1ms/step - accuracy: 0.7742 - loss: 0.5563 - val_accuracy: 0.7258 - val_loss: 0.5762\n",
      "Epoch 124/1000\n",
      "\u001B[1m35/35\u001B[0m \u001B[32m━━━━━━━━━━━━━━━━━━━━\u001B[0m\u001B[37m\u001B[0m \u001B[1m0s\u001B[0m 1ms/step - accuracy: 0.7591 - loss: 0.5291 - val_accuracy: 0.7258 - val_loss: 0.5748\n",
      "Epoch 125/1000\n",
      "\u001B[1m35/35\u001B[0m \u001B[32m━━━━━━━━━━━━━━━━━━━━\u001B[0m\u001B[37m\u001B[0m \u001B[1m0s\u001B[0m 1ms/step - accuracy: 0.7694 - loss: 0.5238 - val_accuracy: 0.7258 - val_loss: 0.5737\n",
      "Epoch 126/1000\n",
      "\u001B[1m35/35\u001B[0m \u001B[32m━━━━━━━━━━━━━━━━━━━━\u001B[0m\u001B[37m\u001B[0m \u001B[1m0s\u001B[0m 1ms/step - accuracy: 0.7478 - loss: 0.5303 - val_accuracy: 0.7258 - val_loss: 0.5733\n",
      "Epoch 127/1000\n",
      "\u001B[1m35/35\u001B[0m \u001B[32m━━━━━━━━━━━━━━━━━━━━\u001B[0m\u001B[37m\u001B[0m \u001B[1m0s\u001B[0m 1ms/step - accuracy: 0.7850 - loss: 0.5296 - val_accuracy: 0.7258 - val_loss: 0.5730\n",
      "Epoch 128/1000\n",
      "\u001B[1m35/35\u001B[0m \u001B[32m━━━━━━━━━━━━━━━━━━━━\u001B[0m\u001B[37m\u001B[0m \u001B[1m0s\u001B[0m 1ms/step - accuracy: 0.7478 - loss: 0.5584 - val_accuracy: 0.7258 - val_loss: 0.5719\n",
      "Epoch 129/1000\n",
      "\u001B[1m35/35\u001B[0m \u001B[32m━━━━━━━━━━━━━━━━━━━━\u001B[0m\u001B[37m\u001B[0m \u001B[1m0s\u001B[0m 1ms/step - accuracy: 0.7888 - loss: 0.5147 - val_accuracy: 0.7419 - val_loss: 0.5721\n",
      "Epoch 130/1000\n",
      "\u001B[1m35/35\u001B[0m \u001B[32m━━━━━━━━━━━━━━━━━━━━\u001B[0m\u001B[37m\u001B[0m \u001B[1m0s\u001B[0m 1ms/step - accuracy: 0.7614 - loss: 0.5352 - val_accuracy: 0.7419 - val_loss: 0.5727\n",
      "Epoch 131/1000\n",
      "\u001B[1m35/35\u001B[0m \u001B[32m━━━━━━━━━━━━━━━━━━━━\u001B[0m\u001B[37m\u001B[0m \u001B[1m0s\u001B[0m 1ms/step - accuracy: 0.7417 - loss: 0.5436 - val_accuracy: 0.7419 - val_loss: 0.5740\n",
      "Epoch 132/1000\n",
      "\u001B[1m35/35\u001B[0m \u001B[32m━━━━━━━━━━━━━━━━━━━━\u001B[0m\u001B[37m\u001B[0m \u001B[1m0s\u001B[0m 1ms/step - accuracy: 0.7563 - loss: 0.5573 - val_accuracy: 0.7419 - val_loss: 0.5746\n",
      "Epoch 133/1000\n",
      "\u001B[1m35/35\u001B[0m \u001B[32m━━━━━━━━━━━━━━━━━━━━\u001B[0m\u001B[37m\u001B[0m \u001B[1m0s\u001B[0m 1ms/step - accuracy: 0.7620 - loss: 0.5480 - val_accuracy: 0.7419 - val_loss: 0.5735\n",
      "Epoch 134/1000\n",
      "\u001B[1m35/35\u001B[0m \u001B[32m━━━━━━━━━━━━━━━━━━━━\u001B[0m\u001B[37m\u001B[0m \u001B[1m0s\u001B[0m 1ms/step - accuracy: 0.7857 - loss: 0.5102 - val_accuracy: 0.7419 - val_loss: 0.5713\n",
      "Epoch 135/1000\n",
      "\u001B[1m35/35\u001B[0m \u001B[32m━━━━━━━━━━━━━━━━━━━━\u001B[0m\u001B[37m\u001B[0m \u001B[1m0s\u001B[0m 1ms/step - accuracy: 0.7629 - loss: 0.5204 - val_accuracy: 0.7419 - val_loss: 0.5705\n",
      "Epoch 136/1000\n",
      "\u001B[1m35/35\u001B[0m \u001B[32m━━━━━━━━━━━━━━━━━━━━\u001B[0m\u001B[37m\u001B[0m \u001B[1m0s\u001B[0m 1ms/step - accuracy: 0.7215 - loss: 0.5601 - val_accuracy: 0.7419 - val_loss: 0.5708\n",
      "Epoch 137/1000\n",
      "\u001B[1m35/35\u001B[0m \u001B[32m━━━━━━━━━━━━━━━━━━━━\u001B[0m\u001B[37m\u001B[0m \u001B[1m0s\u001B[0m 1ms/step - accuracy: 0.7983 - loss: 0.5206 - val_accuracy: 0.7258 - val_loss: 0.5710\n",
      "Epoch 138/1000\n",
      "\u001B[1m35/35\u001B[0m \u001B[32m━━━━━━━━━━━━━━━━━━━━\u001B[0m\u001B[37m\u001B[0m \u001B[1m0s\u001B[0m 1ms/step - accuracy: 0.7682 - loss: 0.5527 - val_accuracy: 0.7258 - val_loss: 0.5718\n",
      "Epoch 139/1000\n",
      "\u001B[1m35/35\u001B[0m \u001B[32m━━━━━━━━━━━━━━━━━━━━\u001B[0m\u001B[37m\u001B[0m \u001B[1m0s\u001B[0m 1ms/step - accuracy: 0.7727 - loss: 0.5092 - val_accuracy: 0.7419 - val_loss: 0.5693\n",
      "Epoch 140/1000\n",
      "\u001B[1m35/35\u001B[0m \u001B[32m━━━━━━━━━━━━━━━━━━━━\u001B[0m\u001B[37m\u001B[0m \u001B[1m0s\u001B[0m 1ms/step - accuracy: 0.7669 - loss: 0.5414 - val_accuracy: 0.7419 - val_loss: 0.5706\n",
      "Epoch 141/1000\n",
      "\u001B[1m35/35\u001B[0m \u001B[32m━━━━━━━━━━━━━━━━━━━━\u001B[0m\u001B[37m\u001B[0m \u001B[1m0s\u001B[0m 1ms/step - accuracy: 0.7423 - loss: 0.5449 - val_accuracy: 0.7419 - val_loss: 0.5694\n",
      "Epoch 142/1000\n",
      "\u001B[1m35/35\u001B[0m \u001B[32m━━━━━━━━━━━━━━━━━━━━\u001B[0m\u001B[37m\u001B[0m \u001B[1m0s\u001B[0m 1ms/step - accuracy: 0.7128 - loss: 0.5554 - val_accuracy: 0.7419 - val_loss: 0.5701\n",
      "Epoch 143/1000\n",
      "\u001B[1m35/35\u001B[0m \u001B[32m━━━━━━━━━━━━━━━━━━━━\u001B[0m\u001B[37m\u001B[0m \u001B[1m0s\u001B[0m 1ms/step - accuracy: 0.7725 - loss: 0.5385 - val_accuracy: 0.7419 - val_loss: 0.5698\n",
      "Epoch 144/1000\n",
      "\u001B[1m35/35\u001B[0m \u001B[32m━━━━━━━━━━━━━━━━━━━━\u001B[0m\u001B[37m\u001B[0m \u001B[1m0s\u001B[0m 1ms/step - accuracy: 0.7563 - loss: 0.5338 - val_accuracy: 0.7258 - val_loss: 0.5693\n",
      "Epoch 145/1000\n",
      "\u001B[1m35/35\u001B[0m \u001B[32m━━━━━━━━━━━━━━━━━━━━\u001B[0m\u001B[37m\u001B[0m \u001B[1m0s\u001B[0m 1ms/step - accuracy: 0.7538 - loss: 0.5359 - val_accuracy: 0.7419 - val_loss: 0.5695\n",
      "Epoch 146/1000\n",
      "\u001B[1m35/35\u001B[0m \u001B[32m━━━━━━━━━━━━━━━━━━━━\u001B[0m\u001B[37m\u001B[0m \u001B[1m0s\u001B[0m 1ms/step - accuracy: 0.7490 - loss: 0.5555 - val_accuracy: 0.7258 - val_loss: 0.5684\n",
      "Epoch 147/1000\n",
      "\u001B[1m35/35\u001B[0m \u001B[32m━━━━━━━━━━━━━━━━━━━━\u001B[0m\u001B[37m\u001B[0m \u001B[1m0s\u001B[0m 1ms/step - accuracy: 0.7208 - loss: 0.5457 - val_accuracy: 0.7419 - val_loss: 0.5699\n",
      "Epoch 148/1000\n",
      "\u001B[1m35/35\u001B[0m \u001B[32m━━━━━━━━━━━━━━━━━━━━\u001B[0m\u001B[37m\u001B[0m \u001B[1m0s\u001B[0m 1ms/step - accuracy: 0.7973 - loss: 0.4893 - val_accuracy: 0.7258 - val_loss: 0.5674\n",
      "Epoch 149/1000\n",
      "\u001B[1m35/35\u001B[0m \u001B[32m━━━━━━━━━━━━━━━━━━━━\u001B[0m\u001B[37m\u001B[0m \u001B[1m0s\u001B[0m 1ms/step - accuracy: 0.7537 - loss: 0.5485 - val_accuracy: 0.7258 - val_loss: 0.5666\n",
      "Epoch 150/1000\n",
      "\u001B[1m35/35\u001B[0m \u001B[32m━━━━━━━━━━━━━━━━━━━━\u001B[0m\u001B[37m\u001B[0m \u001B[1m0s\u001B[0m 1ms/step - accuracy: 0.7528 - loss: 0.5572 - val_accuracy: 0.7258 - val_loss: 0.5668\n",
      "Epoch 151/1000\n",
      "\u001B[1m35/35\u001B[0m \u001B[32m━━━━━━━━━━━━━━━━━━━━\u001B[0m\u001B[37m\u001B[0m \u001B[1m0s\u001B[0m 1ms/step - accuracy: 0.7524 - loss: 0.5385 - val_accuracy: 0.7258 - val_loss: 0.5688\n",
      "Epoch 152/1000\n",
      "\u001B[1m35/35\u001B[0m \u001B[32m━━━━━━━━━━━━━━━━━━━━\u001B[0m\u001B[37m\u001B[0m \u001B[1m0s\u001B[0m 1ms/step - accuracy: 0.7710 - loss: 0.5179 - val_accuracy: 0.7419 - val_loss: 0.5683\n",
      "Epoch 153/1000\n",
      "\u001B[1m35/35\u001B[0m \u001B[32m━━━━━━━━━━━━━━━━━━━━\u001B[0m\u001B[37m\u001B[0m \u001B[1m0s\u001B[0m 1ms/step - accuracy: 0.7483 - loss: 0.5353 - val_accuracy: 0.7419 - val_loss: 0.5684\n",
      "Epoch 154/1000\n",
      "\u001B[1m35/35\u001B[0m \u001B[32m━━━━━━━━━━━━━━━━━━━━\u001B[0m\u001B[37m\u001B[0m \u001B[1m0s\u001B[0m 1ms/step - accuracy: 0.7706 - loss: 0.5665 - val_accuracy: 0.7419 - val_loss: 0.5680\n",
      "Epoch 155/1000\n",
      "\u001B[1m35/35\u001B[0m \u001B[32m━━━━━━━━━━━━━━━━━━━━\u001B[0m\u001B[37m\u001B[0m \u001B[1m0s\u001B[0m 1ms/step - accuracy: 0.7457 - loss: 0.5529 - val_accuracy: 0.7258 - val_loss: 0.5655\n",
      "Epoch 156/1000\n",
      "\u001B[1m35/35\u001B[0m \u001B[32m━━━━━━━━━━━━━━━━━━━━\u001B[0m\u001B[37m\u001B[0m \u001B[1m0s\u001B[0m 1ms/step - accuracy: 0.7538 - loss: 0.5353 - val_accuracy: 0.7419 - val_loss: 0.5673\n",
      "Epoch 157/1000\n",
      "\u001B[1m35/35\u001B[0m \u001B[32m━━━━━━━━━━━━━━━━━━━━\u001B[0m\u001B[37m\u001B[0m \u001B[1m0s\u001B[0m 1ms/step - accuracy: 0.7970 - loss: 0.4937 - val_accuracy: 0.7258 - val_loss: 0.5639\n",
      "Epoch 158/1000\n",
      "\u001B[1m35/35\u001B[0m \u001B[32m━━━━━━━━━━━━━━━━━━━━\u001B[0m\u001B[37m\u001B[0m \u001B[1m0s\u001B[0m 1ms/step - accuracy: 0.7463 - loss: 0.5365 - val_accuracy: 0.7258 - val_loss: 0.5655\n",
      "Epoch 159/1000\n",
      "\u001B[1m35/35\u001B[0m \u001B[32m━━━━━━━━━━━━━━━━━━━━\u001B[0m\u001B[37m\u001B[0m \u001B[1m0s\u001B[0m 1ms/step - accuracy: 0.7286 - loss: 0.5519 - val_accuracy: 0.7258 - val_loss: 0.5651\n",
      "Epoch 160/1000\n",
      "\u001B[1m35/35\u001B[0m \u001B[32m━━━━━━━━━━━━━━━━━━━━\u001B[0m\u001B[37m\u001B[0m \u001B[1m0s\u001B[0m 1ms/step - accuracy: 0.7584 - loss: 0.5227 - val_accuracy: 0.7258 - val_loss: 0.5638\n",
      "Epoch 161/1000\n",
      "\u001B[1m35/35\u001B[0m \u001B[32m━━━━━━━━━━━━━━━━━━━━\u001B[0m\u001B[37m\u001B[0m \u001B[1m0s\u001B[0m 1ms/step - accuracy: 0.7316 - loss: 0.5748 - val_accuracy: 0.7258 - val_loss: 0.5645\n",
      "Epoch 162/1000\n",
      "\u001B[1m35/35\u001B[0m \u001B[32m━━━━━━━━━━━━━━━━━━━━\u001B[0m\u001B[37m\u001B[0m \u001B[1m0s\u001B[0m 1ms/step - accuracy: 0.7461 - loss: 0.5294 - val_accuracy: 0.7258 - val_loss: 0.5619\n",
      "Epoch 163/1000\n",
      "\u001B[1m35/35\u001B[0m \u001B[32m━━━━━━━━━━━━━━━━━━━━\u001B[0m\u001B[37m\u001B[0m \u001B[1m0s\u001B[0m 1ms/step - accuracy: 0.7650 - loss: 0.5358 - val_accuracy: 0.7258 - val_loss: 0.5631\n",
      "Epoch 164/1000\n",
      "\u001B[1m35/35\u001B[0m \u001B[32m━━━━━━━━━━━━━━━━━━━━\u001B[0m\u001B[37m\u001B[0m \u001B[1m0s\u001B[0m 1ms/step - accuracy: 0.7680 - loss: 0.5215 - val_accuracy: 0.7258 - val_loss: 0.5626\n",
      "Epoch 165/1000\n",
      "\u001B[1m35/35\u001B[0m \u001B[32m━━━━━━━━━━━━━━━━━━━━\u001B[0m\u001B[37m\u001B[0m \u001B[1m0s\u001B[0m 1ms/step - accuracy: 0.7688 - loss: 0.5151 - val_accuracy: 0.7258 - val_loss: 0.5623\n",
      "Epoch 166/1000\n",
      "\u001B[1m35/35\u001B[0m \u001B[32m━━━━━━━━━━━━━━━━━━━━\u001B[0m\u001B[37m\u001B[0m \u001B[1m0s\u001B[0m 1ms/step - accuracy: 0.7927 - loss: 0.4943 - val_accuracy: 0.7258 - val_loss: 0.5609\n",
      "Epoch 167/1000\n",
      "\u001B[1m35/35\u001B[0m \u001B[32m━━━━━━━━━━━━━━━━━━━━\u001B[0m\u001B[37m\u001B[0m \u001B[1m0s\u001B[0m 1ms/step - accuracy: 0.7100 - loss: 0.5572 - val_accuracy: 0.7258 - val_loss: 0.5621\n",
      "Epoch 168/1000\n",
      "\u001B[1m35/35\u001B[0m \u001B[32m━━━━━━━━━━━━━━━━━━━━\u001B[0m\u001B[37m\u001B[0m \u001B[1m0s\u001B[0m 1ms/step - accuracy: 0.7873 - loss: 0.5158 - val_accuracy: 0.7258 - val_loss: 0.5626\n",
      "Epoch 169/1000\n",
      "\u001B[1m35/35\u001B[0m \u001B[32m━━━━━━━━━━━━━━━━━━━━\u001B[0m\u001B[37m\u001B[0m \u001B[1m0s\u001B[0m 1ms/step - accuracy: 0.7640 - loss: 0.5333 - val_accuracy: 0.7258 - val_loss: 0.5618\n",
      "Epoch 170/1000\n",
      "\u001B[1m35/35\u001B[0m \u001B[32m━━━━━━━━━━━━━━━━━━━━\u001B[0m\u001B[37m\u001B[0m \u001B[1m0s\u001B[0m 1ms/step - accuracy: 0.8001 - loss: 0.4794 - val_accuracy: 0.7419 - val_loss: 0.5633\n",
      "Epoch 171/1000\n",
      "\u001B[1m35/35\u001B[0m \u001B[32m━━━━━━━━━━━━━━━━━━━━\u001B[0m\u001B[37m\u001B[0m \u001B[1m0s\u001B[0m 1ms/step - accuracy: 0.7525 - loss: 0.5073 - val_accuracy: 0.7419 - val_loss: 0.5656\n",
      "Epoch 172/1000\n",
      "\u001B[1m35/35\u001B[0m \u001B[32m━━━━━━━━━━━━━━━━━━━━\u001B[0m\u001B[37m\u001B[0m \u001B[1m0s\u001B[0m 1ms/step - accuracy: 0.7813 - loss: 0.5118 - val_accuracy: 0.7258 - val_loss: 0.5640\n",
      "Epoch 173/1000\n",
      "\u001B[1m35/35\u001B[0m \u001B[32m━━━━━━━━━━━━━━━━━━━━\u001B[0m\u001B[37m\u001B[0m \u001B[1m0s\u001B[0m 2ms/step - accuracy: 0.7700 - loss: 0.5321 - val_accuracy: 0.7419 - val_loss: 0.5649\n",
      "Epoch 174/1000\n",
      "\u001B[1m35/35\u001B[0m \u001B[32m━━━━━━━━━━━━━━━━━━━━\u001B[0m\u001B[37m\u001B[0m \u001B[1m0s\u001B[0m 1ms/step - accuracy: 0.7571 - loss: 0.5366 - val_accuracy: 0.7419 - val_loss: 0.5658\n",
      "Epoch 175/1000\n",
      "\u001B[1m35/35\u001B[0m \u001B[32m━━━━━━━━━━━━━━━━━━━━\u001B[0m\u001B[37m\u001B[0m \u001B[1m0s\u001B[0m 1ms/step - accuracy: 0.7481 - loss: 0.5345 - val_accuracy: 0.7419 - val_loss: 0.5674\n",
      "Epoch 176/1000\n",
      "\u001B[1m35/35\u001B[0m \u001B[32m━━━━━━━━━━━━━━━━━━━━\u001B[0m\u001B[37m\u001B[0m \u001B[1m0s\u001B[0m 1ms/step - accuracy: 0.7708 - loss: 0.5179 - val_accuracy: 0.7258 - val_loss: 0.5649\n",
      "Epoch 177/1000\n",
      "\u001B[1m35/35\u001B[0m \u001B[32m━━━━━━━━━━━━━━━━━━━━\u001B[0m\u001B[37m\u001B[0m \u001B[1m0s\u001B[0m 1ms/step - accuracy: 0.7708 - loss: 0.5142 - val_accuracy: 0.7258 - val_loss: 0.5645\n",
      "Epoch 178/1000\n",
      "\u001B[1m35/35\u001B[0m \u001B[32m━━━━━━━━━━━━━━━━━━━━\u001B[0m\u001B[37m\u001B[0m \u001B[1m0s\u001B[0m 1ms/step - accuracy: 0.7927 - loss: 0.5154 - val_accuracy: 0.7258 - val_loss: 0.5642\n",
      "Epoch 179/1000\n",
      "\u001B[1m35/35\u001B[0m \u001B[32m━━━━━━━━━━━━━━━━━━━━\u001B[0m\u001B[37m\u001B[0m \u001B[1m0s\u001B[0m 1ms/step - accuracy: 0.7740 - loss: 0.4906 - val_accuracy: 0.7258 - val_loss: 0.5646\n",
      "Epoch 180/1000\n",
      "\u001B[1m35/35\u001B[0m \u001B[32m━━━━━━━━━━━━━━━━━━━━\u001B[0m\u001B[37m\u001B[0m \u001B[1m0s\u001B[0m 1ms/step - accuracy: 0.7267 - loss: 0.5557 - val_accuracy: 0.7419 - val_loss: 0.5660\n",
      "Epoch 181/1000\n",
      "\u001B[1m35/35\u001B[0m \u001B[32m━━━━━━━━━━━━━━━━━━━━\u001B[0m\u001B[37m\u001B[0m \u001B[1m0s\u001B[0m 1ms/step - accuracy: 0.7632 - loss: 0.5332 - val_accuracy: 0.7258 - val_loss: 0.5643\n",
      "Epoch 182/1000\n",
      "\u001B[1m35/35\u001B[0m \u001B[32m━━━━━━━━━━━━━━━━━━━━\u001B[0m\u001B[37m\u001B[0m \u001B[1m0s\u001B[0m 1ms/step - accuracy: 0.7507 - loss: 0.5292 - val_accuracy: 0.7419 - val_loss: 0.5644\n",
      "Epoch 183/1000\n",
      "\u001B[1m35/35\u001B[0m \u001B[32m━━━━━━━━━━━━━━━━━━━━\u001B[0m\u001B[37m\u001B[0m \u001B[1m0s\u001B[0m 1ms/step - accuracy: 0.7818 - loss: 0.5146 - val_accuracy: 0.7258 - val_loss: 0.5642\n",
      "Epoch 184/1000\n",
      "\u001B[1m35/35\u001B[0m \u001B[32m━━━━━━━━━━━━━━━━━━━━\u001B[0m\u001B[37m\u001B[0m \u001B[1m0s\u001B[0m 1ms/step - accuracy: 0.7889 - loss: 0.5059 - val_accuracy: 0.7258 - val_loss: 0.5642\n",
      "Epoch 185/1000\n",
      "\u001B[1m35/35\u001B[0m \u001B[32m━━━━━━━━━━━━━━━━━━━━\u001B[0m\u001B[37m\u001B[0m \u001B[1m0s\u001B[0m 2ms/step - accuracy: 0.7526 - loss: 0.5185 - val_accuracy: 0.7258 - val_loss: 0.5650\n",
      "Epoch 186/1000\n",
      "\u001B[1m35/35\u001B[0m \u001B[32m━━━━━━━━━━━━━━━━━━━━\u001B[0m\u001B[37m\u001B[0m \u001B[1m0s\u001B[0m 1ms/step - accuracy: 0.7587 - loss: 0.5312 - val_accuracy: 0.7258 - val_loss: 0.5632\n",
      "Epoch 187/1000\n",
      "\u001B[1m35/35\u001B[0m \u001B[32m━━━━━━━━━━━━━━━━━━━━\u001B[0m\u001B[37m\u001B[0m \u001B[1m0s\u001B[0m 1ms/step - accuracy: 0.7866 - loss: 0.5159 - val_accuracy: 0.7419 - val_loss: 0.5662\n",
      "Epoch 188/1000\n",
      "\u001B[1m35/35\u001B[0m \u001B[32m━━━━━━━━━━━━━━━━━━━━\u001B[0m\u001B[37m\u001B[0m \u001B[1m0s\u001B[0m 1ms/step - accuracy: 0.7516 - loss: 0.5261 - val_accuracy: 0.7258 - val_loss: 0.5655\n",
      "Epoch 189/1000\n",
      "\u001B[1m35/35\u001B[0m \u001B[32m━━━━━━━━━━━━━━━━━━━━\u001B[0m\u001B[37m\u001B[0m \u001B[1m0s\u001B[0m 1ms/step - accuracy: 0.7531 - loss: 0.5380 - val_accuracy: 0.7419 - val_loss: 0.5672\n",
      "Epoch 190/1000\n",
      "\u001B[1m35/35\u001B[0m \u001B[32m━━━━━━━━━━━━━━━━━━━━\u001B[0m\u001B[37m\u001B[0m \u001B[1m0s\u001B[0m 1ms/step - accuracy: 0.7742 - loss: 0.5246 - val_accuracy: 0.7258 - val_loss: 0.5647\n",
      "Epoch 191/1000\n",
      "\u001B[1m35/35\u001B[0m \u001B[32m━━━━━━━━━━━━━━━━━━━━\u001B[0m\u001B[37m\u001B[0m \u001B[1m0s\u001B[0m 1ms/step - accuracy: 0.7504 - loss: 0.5138 - val_accuracy: 0.7581 - val_loss: 0.5665\n",
      "Epoch 192/1000\n",
      "\u001B[1m35/35\u001B[0m \u001B[32m━━━━━━━━━━━━━━━━━━━━\u001B[0m\u001B[37m\u001B[0m \u001B[1m0s\u001B[0m 1ms/step - accuracy: 0.7731 - loss: 0.5353 - val_accuracy: 0.7258 - val_loss: 0.5660\n",
      "Epoch 193/1000\n",
      "\u001B[1m35/35\u001B[0m \u001B[32m━━━━━━━━━━━━━━━━━━━━\u001B[0m\u001B[37m\u001B[0m \u001B[1m0s\u001B[0m 1ms/step - accuracy: 0.7806 - loss: 0.5261 - val_accuracy: 0.7581 - val_loss: 0.5670\n",
      "Epoch 194/1000\n",
      "\u001B[1m35/35\u001B[0m \u001B[32m━━━━━━━━━━━━━━━━━━━━\u001B[0m\u001B[37m\u001B[0m \u001B[1m0s\u001B[0m 1ms/step - accuracy: 0.7515 - loss: 0.5649 - val_accuracy: 0.7581 - val_loss: 0.5673\n",
      "Epoch 195/1000\n",
      "\u001B[1m35/35\u001B[0m \u001B[32m━━━━━━━━━━━━━━━━━━━━\u001B[0m\u001B[37m\u001B[0m \u001B[1m0s\u001B[0m 1ms/step - accuracy: 0.7393 - loss: 0.5519 - val_accuracy: 0.7581 - val_loss: 0.5665\n",
      "Epoch 196/1000\n",
      "\u001B[1m35/35\u001B[0m \u001B[32m━━━━━━━━━━━━━━━━━━━━\u001B[0m\u001B[37m\u001B[0m \u001B[1m0s\u001B[0m 1ms/step - accuracy: 0.7974 - loss: 0.5095 - val_accuracy: 0.7581 - val_loss: 0.5675\n",
      "Epoch 197/1000\n",
      "\u001B[1m35/35\u001B[0m \u001B[32m━━━━━━━━━━━━━━━━━━━━\u001B[0m\u001B[37m\u001B[0m \u001B[1m0s\u001B[0m 1ms/step - accuracy: 0.7418 - loss: 0.5589 - val_accuracy: 0.7419 - val_loss: 0.5687\n",
      "Epoch 198/1000\n",
      "\u001B[1m35/35\u001B[0m \u001B[32m━━━━━━━━━━━━━━━━━━━━\u001B[0m\u001B[37m\u001B[0m \u001B[1m0s\u001B[0m 1ms/step - accuracy: 0.7510 - loss: 0.5383 - val_accuracy: 0.7258 - val_loss: 0.5664\n",
      "Epoch 199/1000\n",
      "\u001B[1m35/35\u001B[0m \u001B[32m━━━━━━━━━━━━━━━━━━━━\u001B[0m\u001B[37m\u001B[0m \u001B[1m0s\u001B[0m 1ms/step - accuracy: 0.7651 - loss: 0.5176 - val_accuracy: 0.7258 - val_loss: 0.5664\n",
      "Epoch 200/1000\n",
      "\u001B[1m35/35\u001B[0m \u001B[32m━━━━━━━━━━━━━━━━━━━━\u001B[0m\u001B[37m\u001B[0m \u001B[1m0s\u001B[0m 1ms/step - accuracy: 0.7498 - loss: 0.5169 - val_accuracy: 0.7581 - val_loss: 0.5702\n",
      "Epoch 201/1000\n",
      "\u001B[1m35/35\u001B[0m \u001B[32m━━━━━━━━━━━━━━━━━━━━\u001B[0m\u001B[37m\u001B[0m \u001B[1m0s\u001B[0m 1ms/step - accuracy: 0.7536 - loss: 0.5657 - val_accuracy: 0.7419 - val_loss: 0.5688\n",
      "Epoch 202/1000\n",
      "\u001B[1m35/35\u001B[0m \u001B[32m━━━━━━━━━━━━━━━━━━━━\u001B[0m\u001B[37m\u001B[0m \u001B[1m0s\u001B[0m 1ms/step - accuracy: 0.7619 - loss: 0.5227 - val_accuracy: 0.7258 - val_loss: 0.5674\n",
      "Epoch 203/1000\n",
      "\u001B[1m35/35\u001B[0m \u001B[32m━━━━━━━━━━━━━━━━━━━━\u001B[0m\u001B[37m\u001B[0m \u001B[1m0s\u001B[0m 1ms/step - accuracy: 0.7703 - loss: 0.5241 - val_accuracy: 0.7097 - val_loss: 0.5652\n",
      "Epoch 204/1000\n",
      "\u001B[1m35/35\u001B[0m \u001B[32m━━━━━━━━━━━━━━━━━━━━\u001B[0m\u001B[37m\u001B[0m \u001B[1m0s\u001B[0m 1ms/step - accuracy: 0.7800 - loss: 0.4981 - val_accuracy: 0.7258 - val_loss: 0.5684\n",
      "Epoch 205/1000\n",
      "\u001B[1m35/35\u001B[0m \u001B[32m━━━━━━━━━━━━━━━━━━━━\u001B[0m\u001B[37m\u001B[0m \u001B[1m0s\u001B[0m 1ms/step - accuracy: 0.7500 - loss: 0.5172 - val_accuracy: 0.7258 - val_loss: 0.5687\n",
      "Epoch 206/1000\n",
      "\u001B[1m35/35\u001B[0m \u001B[32m━━━━━━━━━━━━━━━━━━━━\u001B[0m\u001B[37m\u001B[0m \u001B[1m0s\u001B[0m 1ms/step - accuracy: 0.7795 - loss: 0.4954 - val_accuracy: 0.7258 - val_loss: 0.5676\n",
      "Epoch 207/1000\n",
      "\u001B[1m35/35\u001B[0m \u001B[32m━━━━━━━━━━━━━━━━━━━━\u001B[0m\u001B[37m\u001B[0m \u001B[1m0s\u001B[0m 1ms/step - accuracy: 0.7855 - loss: 0.5037 - val_accuracy: 0.7258 - val_loss: 0.5688\n",
      "Epoch 208/1000\n",
      "\u001B[1m35/35\u001B[0m \u001B[32m━━━━━━━━━━━━━━━━━━━━\u001B[0m\u001B[37m\u001B[0m \u001B[1m0s\u001B[0m 1ms/step - accuracy: 0.7615 - loss: 0.5225 - val_accuracy: 0.7258 - val_loss: 0.5666\n",
      "Epoch 209/1000\n",
      "\u001B[1m35/35\u001B[0m \u001B[32m━━━━━━━━━━━━━━━━━━━━\u001B[0m\u001B[37m\u001B[0m \u001B[1m0s\u001B[0m 1ms/step - accuracy: 0.7812 - loss: 0.4913 - val_accuracy: 0.7258 - val_loss: 0.5644\n",
      "Epoch 210/1000\n",
      "\u001B[1m35/35\u001B[0m \u001B[32m━━━━━━━━━━━━━━━━━━━━\u001B[0m\u001B[37m\u001B[0m \u001B[1m0s\u001B[0m 1ms/step - accuracy: 0.7381 - loss: 0.5543 - val_accuracy: 0.7258 - val_loss: 0.5644\n",
      "Epoch 211/1000\n",
      "\u001B[1m35/35\u001B[0m \u001B[32m━━━━━━━━━━━━━━━━━━━━\u001B[0m\u001B[37m\u001B[0m \u001B[1m0s\u001B[0m 1ms/step - accuracy: 0.7759 - loss: 0.5150 - val_accuracy: 0.7258 - val_loss: 0.5643\n",
      "Epoch 212/1000\n",
      "\u001B[1m35/35\u001B[0m \u001B[32m━━━━━━━━━━━━━━━━━━━━\u001B[0m\u001B[37m\u001B[0m \u001B[1m0s\u001B[0m 1ms/step - accuracy: 0.7829 - loss: 0.5121 - val_accuracy: 0.7258 - val_loss: 0.5647\n",
      "Epoch 213/1000\n",
      "\u001B[1m35/35\u001B[0m \u001B[32m━━━━━━━━━━━━━━━━━━━━\u001B[0m\u001B[37m\u001B[0m \u001B[1m0s\u001B[0m 1ms/step - accuracy: 0.7697 - loss: 0.5099 - val_accuracy: 0.7258 - val_loss: 0.5639\n",
      "Epoch 214/1000\n",
      "\u001B[1m35/35\u001B[0m \u001B[32m━━━━━━━━━━━━━━━━━━━━\u001B[0m\u001B[37m\u001B[0m \u001B[1m0s\u001B[0m 1ms/step - accuracy: 0.7667 - loss: 0.5284 - val_accuracy: 0.7258 - val_loss: 0.5620\n",
      "Epoch 215/1000\n",
      "\u001B[1m35/35\u001B[0m \u001B[32m━━━━━━━━━━━━━━━━━━━━\u001B[0m\u001B[37m\u001B[0m \u001B[1m0s\u001B[0m 1ms/step - accuracy: 0.7621 - loss: 0.5320 - val_accuracy: 0.7258 - val_loss: 0.5631\n",
      "Epoch 216/1000\n",
      "\u001B[1m35/35\u001B[0m \u001B[32m━━━━━━━━━━━━━━━━━━━━\u001B[0m\u001B[37m\u001B[0m \u001B[1m0s\u001B[0m 1ms/step - accuracy: 0.7711 - loss: 0.5271 - val_accuracy: 0.7258 - val_loss: 0.5635\n"
     ]
    }
   ],
   "execution_count": 8
  },
  {
   "cell_type": "markdown",
   "metadata": {},
   "source": [
    "# Evaluate the model"
   ]
  },
  {
   "cell_type": "code",
   "metadata": {
    "ExecuteTime": {
     "end_time": "2025-01-12T17:26:25.719445Z",
     "start_time": "2025-01-12T17:26:25.650708Z"
    }
   },
   "source": [
    "loss, accuracy = model.evaluate(X_test, y_test)\n",
    "\n",
    "print(f\"Test loss: {loss:.4f}\")\n",
    "print(f\"Test accuracy: {accuracy:.4f}\")"
   ],
   "outputs": [
    {
     "name": "stdout",
     "output_type": "stream",
     "text": [
      "\u001B[1m5/5\u001B[0m \u001B[32m━━━━━━━━━━━━━━━━━━━━\u001B[0m\u001B[37m\u001B[0m \u001B[1m0s\u001B[0m 5ms/step - accuracy: 0.7185 - loss: 0.5916 \n",
      "Test loss: 0.5901\n",
      "Test accuracy: 0.7532\n"
     ]
    }
   ],
   "execution_count": 9
  },
  {
   "cell_type": "markdown",
   "metadata": {},
   "source": "# Plot training and validation performance over epochs"
  },
  {
   "cell_type": "code",
   "metadata": {
    "ExecuteTime": {
     "end_time": "2025-01-12T17:26:26.564584Z",
     "start_time": "2025-01-12T17:26:25.733611Z"
    }
   },
   "source": [
    "import matplotlib.pyplot as plt\n",
    "\n",
    "fig, (ax1, ax2) = plt.subplots(1, 2, figsize=(12, 5))\n",
    "\n",
    "ax1.plot(history['loss'], label='Training Loss')\n",
    "ax1.plot(history['val_loss'], label='Validation Loss')\n",
    "ax1.set_title('Loss over Epochs')\n",
    "ax1.set_xlabel('Epochs')\n",
    "ax1.set_ylabel('Loss')\n",
    "ax1.legend()\n",
    "\n",
    "ax2.plot(history['accuracy'], label='Training Accuracy')\n",
    "ax2.plot(history['val_accuracy'], label='Validation Accuracy')\n",
    "ax2.set_title('Accuracy over Epochs')\n",
    "ax2.set_xlabel('Epochs')\n",
    "ax2.set_ylabel('Accuracy')\n",
    "ax2.legend()\n",
    "\n",
    "plt.tight_layout()\n",
    "plt.show()"
   ],
   "outputs": [
    {
     "data": {
      "text/plain": [
       "<Figure size 1200x500 with 2 Axes>"
      ],
      "image/png": "[encoded data removed]"
     },
     "metadata": {},
     "output_type": "display_data"
    }
   ],
   "execution_count": 10
  }
 ],
 "metadata": {
  "colab": {
   "provenance": []
  },
  "kernelspec": {
   "display_name": ".venv",
   "language": "python",
   "name": "python3"
  },
  "language_info": {
   "codemirror_mode": {
    "name": "ipython",
    "version": 3
   },
   "file_extension": ".py",
   "mimetype": "text/x-python",
   "name": "python",
   "nbconvert_exporter": "python",
   "pygments_lexer": "ipython3",
   "version": "3.12.3"
  }
 },
 "nbformat": 4,
 "nbformat_minor": 0
}
