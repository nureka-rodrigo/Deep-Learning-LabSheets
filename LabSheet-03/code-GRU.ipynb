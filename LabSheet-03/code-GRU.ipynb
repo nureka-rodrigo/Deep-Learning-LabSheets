{
 "cells": [
  {
   "cell_type": "markdown",
   "metadata": {
    "id": "Q1DRsfgY4h7E"
   },
   "source": [
    "# Load the dataset"
   ]
  },
  {
   "cell_type": "code",
   "metadata": {
    "colab": {
     "base_uri": "https://localhost:8080/",
     "height": 206
    },
    "executionInfo": {
     "elapsed": 419,
     "status": "ok",
     "timestamp": 1732855467441,
     "user": {
      "displayName": "Nureka Rodrigo",
      "userId": "00765996390309502984"
     },
     "user_tz": -330
    },
    "id": "RD3OPH8z3C6r",
    "outputId": "a6bd3f4e-cf81-408b-b423-338edf7609af",
    "ExecuteTime": {
     "end_time": "2025-01-12T17:06:12.651186Z",
     "start_time": "2025-01-12T17:06:12.642240Z"
    }
   },
   "source": [
    "import pandas as pd\n",
    "\n",
    "df = pd.read_csv(\"data/amazon_cells_labelled.txt\", sep=\"\\t\", header=None, names=[\"Review\", \"Sentiment\"])\n",
    "df.head()"
   ],
   "outputs": [
    {
     "data": {
      "text/plain": [
       "                                              Review  Sentiment\n",
       "0  So there is no way for me to plug it in here i...          0\n",
       "1                        Good case, Excellent value.          1\n",
       "2                             Great for the jawbone.          1\n",
       "3  Tied to charger for conversations lasting more...          0\n",
       "4                                  The mic is great.          1"
      ],
      "text/html": [
       "<div>\n",
       "<style scoped>\n",
       "    .dataframe tbody tr th:only-of-type {\n",
       "        vertical-align: middle;\n",
       "    }\n",
       "\n",
       "    .dataframe tbody tr th {\n",
       "        vertical-align: top;\n",
       "    }\n",
       "\n",
       "    .dataframe thead th {\n",
       "        text-align: right;\n",
       "    }\n",
       "</style>\n",
       "<table border=\"1\" class=\"dataframe\">\n",
       "  <thead>\n",
       "    <tr style=\"text-align: right;\">\n",
       "      <th></th>\n",
       "      <th>Review</th>\n",
       "      <th>Sentiment</th>\n",
       "    </tr>\n",
       "  </thead>\n",
       "  <tbody>\n",
       "    <tr>\n",
       "      <th>0</th>\n",
       "      <td>So there is no way for me to plug it in here i...</td>\n",
       "      <td>0</td>\n",
       "    </tr>\n",
       "    <tr>\n",
       "      <th>1</th>\n",
       "      <td>Good case, Excellent value.</td>\n",
       "      <td>1</td>\n",
       "    </tr>\n",
       "    <tr>\n",
       "      <th>2</th>\n",
       "      <td>Great for the jawbone.</td>\n",
       "      <td>1</td>\n",
       "    </tr>\n",
       "    <tr>\n",
       "      <th>3</th>\n",
       "      <td>Tied to charger for conversations lasting more...</td>\n",
       "      <td>0</td>\n",
       "    </tr>\n",
       "    <tr>\n",
       "      <th>4</th>\n",
       "      <td>The mic is great.</td>\n",
       "      <td>1</td>\n",
       "    </tr>\n",
       "  </tbody>\n",
       "</table>\n",
       "</div>"
      ]
     },
     "execution_count": 24,
     "metadata": {},
     "output_type": "execute_result"
    }
   ],
   "execution_count": 24
  },
  {
   "metadata": {},
   "cell_type": "markdown",
   "source": "# Preprocess the data"
  },
  {
   "cell_type": "code",
   "metadata": {
    "executionInfo": {
     "elapsed": 619,
     "status": "ok",
     "timestamp": 1732855516364,
     "user": {
      "displayName": "Nureka Rodrigo",
      "userId": "00765996390309502984"
     },
     "user_tz": -330
    },
    "id": "4f1utFNl8IqW",
    "ExecuteTime": {
     "end_time": "2025-01-12T17:06:12.694552Z",
     "start_time": "2025-01-12T17:06:12.675174Z"
    }
   },
   "source": [
    "from tensorflow.keras.preprocessing.text import Tokenizer\n",
    "\n",
    "tokenizer = Tokenizer()\n",
    "tokenizer.fit_on_texts(df[\"Review\"])\n",
    "sequences = tokenizer.texts_to_sequences(df[\"Review\"])"
   ],
   "outputs": [],
   "execution_count": 25
  },
  {
   "cell_type": "code",
   "metadata": {
    "executionInfo": {
     "elapsed": 381,
     "status": "ok",
     "timestamp": 1732855520267,
     "user": {
      "displayName": "Nureka Rodrigo",
      "userId": "00765996390309502984"
     },
     "user_tz": -330
    },
    "id": "VcxXxPBf99Kc",
    "ExecuteTime": {
     "end_time": "2025-01-12T17:06:12.723010Z",
     "start_time": "2025-01-12T17:06:12.717076Z"
    }
   },
   "source": [
    "from tensorflow.keras.preprocessing.sequence import pad_sequences\n",
    "\n",
    "max_length = max([len(seq) for seq in sequences])\n",
    "padded_sequences = pad_sequences(sequences, maxlen=max_length)\n"
   ],
   "outputs": [],
   "execution_count": 26
  },
  {
   "cell_type": "code",
   "metadata": {
    "executionInfo": {
     "elapsed": 2,
     "status": "ok",
     "timestamp": 1732855521617,
     "user": {
      "displayName": "Nureka Rodrigo",
      "userId": "00765996390309502984"
     },
     "user_tz": -330
    },
    "id": "O2tSuVrvBXWE",
    "ExecuteTime": {
     "end_time": "2025-01-12T17:06:12.761001Z",
     "start_time": "2025-01-12T17:06:12.757751Z"
    }
   },
   "source": [
    "X = padded_sequences\n",
    "y = df[\"Sentiment\"]"
   ],
   "outputs": [],
   "execution_count": 27
  },
  {
   "cell_type": "markdown",
   "metadata": {
    "id": "kNBj1W3ID5mN"
   },
   "source": [
    "# Split the dataset into training and testing sets"
   ]
  },
  {
   "cell_type": "code",
   "metadata": {
    "colab": {
     "base_uri": "https://localhost:8080/"
    },
    "executionInfo": {
     "elapsed": 2721,
     "status": "ok",
     "timestamp": 1732855524868,
     "user": {
      "displayName": "Nureka Rodrigo",
      "userId": "00765996390309502984"
     },
     "user_tz": -330
    },
    "id": "hVoI0LDsBk50",
    "outputId": "d8005549-bd5a-4d5a-9c06-4f988fe8eb08",
    "ExecuteTime": {
     "end_time": "2025-01-12T17:06:12.784350Z",
     "start_time": "2025-01-12T17:06:12.779935Z"
    }
   },
   "source": [
    "from sklearn.model_selection import train_test_split\n",
    "\n",
    "X_train, X_test, y_train, y_test = train_test_split(X, y, test_size=0.2, random_state=42)\n",
    "\n",
    "print(\"X_train shape:\", X_train.shape)\n",
    "print(\"y_train shape:\", y_train.shape)\n",
    "print(\"X_test shape:\", X_test.shape)\n",
    "print(\"y_test shape:\", y_test.shape)"
   ],
   "outputs": [
    {
     "name": "stdout",
     "output_type": "stream",
     "text": [
      "X_train shape: (800, 30)\n",
      "y_train shape: (800,)\n",
      "X_test shape: (200, 30)\n",
      "y_test shape: (200,)\n"
     ]
    }
   ],
   "execution_count": 28
  },
  {
   "metadata": {},
   "cell_type": "markdown",
   "source": "# Early stopping"
  },
  {
   "metadata": {
    "ExecuteTime": {
     "end_time": "2025-01-12T17:06:12.805759Z",
     "start_time": "2025-01-12T17:06:12.801761Z"
    }
   },
   "cell_type": "code",
   "source": [
    "from tensorflow.keras.callbacks import EarlyStopping\n",
    "\n",
    "early_stopping = EarlyStopping(monitor='val_loss', patience=25, restore_best_weights=True)"
   ],
   "outputs": [],
   "execution_count": 29
  },
  {
   "cell_type": "markdown",
   "metadata": {
    "id": "oOY-3ucQKr_X"
   },
   "source": [
    "# Create the neural network model using GRU"
   ]
  },
  {
   "cell_type": "code",
   "metadata": {
    "executionInfo": {
     "elapsed": 364,
     "status": "ok",
     "timestamp": 1732855586737,
     "user": {
      "displayName": "Nureka Rodrigo",
      "userId": "00765996390309502984"
     },
     "user_tz": -330
    },
    "id": "8WmvU2EqJDrY",
    "ExecuteTime": {
     "end_time": "2025-01-12T17:06:12.838857Z",
     "start_time": "2025-01-12T17:06:12.827857Z"
    }
   },
   "source": [
    "from tensorflow.keras.models import Sequential\n",
    "from tensorflow.keras.layers import Embedding, GRU, Dense\n",
    "from tensorflow.keras.optimizers import Adam\n",
    "\n",
    "vocab_size = len(tokenizer.word_index) + 1\n",
    "\n",
    "model = Sequential()\n",
    "model.add(Embedding(input_dim=vocab_size, output_dim=16))\n",
    "model.add(GRU(units=8))\n",
    "model.add(Dense(units=1))\n",
    "\n",
    "# Specify the optimizer\n",
    "optimizer = Adam(learning_rate=0.001)\n",
    "\n",
    "# Compile the model\n",
    "model.compile(optimizer=optimizer, loss='binary_crossentropy', metrics=['accuracy'])"
   ],
   "outputs": [],
   "execution_count": 30
  },
  {
   "cell_type": "markdown",
   "metadata": {
    "id": "EVCkxmqqLLUg"
   },
   "source": [
    "# Fit the model"
   ]
  },
  {
   "cell_type": "code",
   "metadata": {
    "colab": {
     "base_uri": "https://localhost:8080/"
    },
    "executionInfo": {
     "elapsed": 19593,
     "status": "ok",
     "timestamp": 1732855608061,
     "user": {
      "displayName": "Nureka Rodrigo",
      "userId": "00765996390309502984"
     },
     "user_tz": -330
    },
    "id": "KOeSOhOJJKiv",
    "outputId": "43e6138e-28fa-44ba-8051-0063b9a13cc0",
    "ExecuteTime": {
     "end_time": "2025-01-12T17:06:18.937684Z",
     "start_time": "2025-01-12T17:06:12.845287Z"
    }
   },
   "source": "history = model.fit(X_train, y_train, epochs=100, batch_size=64, validation_split=0.1, callbacks=[early_stopping]).history",
   "outputs": [
    {
     "name": "stdout",
     "output_type": "stream",
     "text": [
      "Epoch 1/100\n",
      "\u001B[1m12/12\u001B[0m \u001B[32m━━━━━━━━━━━━━━━━━━━━\u001B[0m\u001B[37m\u001B[0m \u001B[1m2s\u001B[0m 25ms/step - accuracy: 0.5069 - loss: 3.2783 - val_accuracy: 0.5375 - val_loss: 1.5205\n",
      "Epoch 2/100\n",
      "\u001B[1m12/12\u001B[0m \u001B[32m━━━━━━━━━━━━━━━━━━━━\u001B[0m\u001B[37m\u001B[0m \u001B[1m0s\u001B[0m 7ms/step - accuracy: 0.4978 - loss: 1.4375 - val_accuracy: 0.5375 - val_loss: 1.1354\n",
      "Epoch 3/100\n",
      "\u001B[1m12/12\u001B[0m \u001B[32m━━━━━━━━━━━━━━━━━━━━\u001B[0m\u001B[37m\u001B[0m \u001B[1m0s\u001B[0m 7ms/step - accuracy: 0.5233 - loss: 1.0997 - val_accuracy: 0.5375 - val_loss: 1.0344\n",
      "Epoch 4/100\n",
      "\u001B[1m12/12\u001B[0m \u001B[32m━━━━━━━━━━━━━━━━━━━━\u001B[0m\u001B[37m\u001B[0m \u001B[1m0s\u001B[0m 6ms/step - accuracy: 0.5162 - loss: 1.0159 - val_accuracy: 0.5375 - val_loss: 0.9687\n",
      "Epoch 5/100\n",
      "\u001B[1m12/12\u001B[0m \u001B[32m━━━━━━━━━━━━━━━━━━━━\u001B[0m\u001B[37m\u001B[0m \u001B[1m0s\u001B[0m 6ms/step - accuracy: 0.5032 - loss: 0.9715 - val_accuracy: 0.5375 - val_loss: 0.9140\n",
      "Epoch 6/100\n",
      "\u001B[1m12/12\u001B[0m \u001B[32m━━━━━━━━━━━━━━━━━━━━\u001B[0m\u001B[37m\u001B[0m \u001B[1m0s\u001B[0m 7ms/step - accuracy: 0.4766 - loss: 0.9493 - val_accuracy: 0.5375 - val_loss: 0.8623\n",
      "Epoch 7/100\n",
      "\u001B[1m12/12\u001B[0m \u001B[32m━━━━━━━━━━━━━━━━━━━━\u001B[0m\u001B[37m\u001B[0m \u001B[1m0s\u001B[0m 6ms/step - accuracy: 0.4983 - loss: 0.8623 - val_accuracy: 0.5375 - val_loss: 0.8118\n",
      "Epoch 8/100\n",
      "\u001B[1m12/12\u001B[0m \u001B[32m━━━━━━━━━━━━━━━━━━━━\u001B[0m\u001B[37m\u001B[0m \u001B[1m0s\u001B[0m 6ms/step - accuracy: 0.5264 - loss: 0.7517 - val_accuracy: 0.5375 - val_loss: 0.7612\n",
      "Epoch 9/100\n",
      "\u001B[1m12/12\u001B[0m \u001B[32m━━━━━━━━━━━━━━━━━━━━\u001B[0m\u001B[37m\u001B[0m \u001B[1m0s\u001B[0m 6ms/step - accuracy: 0.5204 - loss: 0.7189 - val_accuracy: 0.5500 - val_loss: 0.7119\n",
      "Epoch 10/100\n",
      "\u001B[1m12/12\u001B[0m \u001B[32m━━━━━━━━━━━━━━━━━━━━\u001B[0m\u001B[37m\u001B[0m \u001B[1m0s\u001B[0m 6ms/step - accuracy: 0.5523 - loss: 0.6755 - val_accuracy: 0.6125 - val_loss: 0.6671\n",
      "Epoch 11/100\n",
      "\u001B[1m12/12\u001B[0m \u001B[32m━━━━━━━━━━━━━━━━━━━━\u001B[0m\u001B[37m\u001B[0m \u001B[1m0s\u001B[0m 7ms/step - accuracy: 0.6068 - loss: 0.6265 - val_accuracy: 0.6375 - val_loss: 0.6324\n",
      "Epoch 12/100\n",
      "\u001B[1m12/12\u001B[0m \u001B[32m━━━━━━━━━━━━━━━━━━━━\u001B[0m\u001B[37m\u001B[0m \u001B[1m0s\u001B[0m 6ms/step - accuracy: 0.6379 - loss: 0.5768 - val_accuracy: 0.6125 - val_loss: 0.6129\n",
      "Epoch 13/100\n",
      "\u001B[1m12/12\u001B[0m \u001B[32m━━━━━━━━━━━━━━━━━━━━\u001B[0m\u001B[37m\u001B[0m \u001B[1m0s\u001B[0m 10ms/step - accuracy: 0.6725 - loss: 0.5379 - val_accuracy: 0.6000 - val_loss: 0.5993\n",
      "Epoch 14/100\n",
      "\u001B[1m12/12\u001B[0m \u001B[32m━━━━━━━━━━━━━━━━━━━━\u001B[0m\u001B[37m\u001B[0m \u001B[1m0s\u001B[0m 10ms/step - accuracy: 0.7100 - loss: 0.4919 - val_accuracy: 0.6375 - val_loss: 0.5891\n",
      "Epoch 15/100\n",
      "\u001B[1m12/12\u001B[0m \u001B[32m━━━━━━━━━━━━━━━━━━━━\u001B[0m\u001B[37m\u001B[0m \u001B[1m0s\u001B[0m 8ms/step - accuracy: 0.7632 - loss: 0.4587 - val_accuracy: 0.6625 - val_loss: 0.5717\n",
      "Epoch 16/100\n",
      "\u001B[1m12/12\u001B[0m \u001B[32m━━━━━━━━━━━━━━━━━━━━\u001B[0m\u001B[37m\u001B[0m \u001B[1m0s\u001B[0m 7ms/step - accuracy: 0.8104 - loss: 0.4210 - val_accuracy: 0.6875 - val_loss: 0.5542\n",
      "Epoch 17/100\n",
      "\u001B[1m12/12\u001B[0m \u001B[32m━━━━━━━━━━━━━━━━━━━━\u001B[0m\u001B[37m\u001B[0m \u001B[1m0s\u001B[0m 8ms/step - accuracy: 0.8328 - loss: 0.4020 - val_accuracy: 0.7125 - val_loss: 0.5402\n",
      "Epoch 18/100\n",
      "\u001B[1m12/12\u001B[0m \u001B[32m━━━━━━━━━━━━━━━━━━━━\u001B[0m\u001B[37m\u001B[0m \u001B[1m0s\u001B[0m 10ms/step - accuracy: 0.8683 - loss: 0.3625 - val_accuracy: 0.7500 - val_loss: 0.5345\n",
      "Epoch 19/100\n",
      "\u001B[1m12/12\u001B[0m \u001B[32m━━━━━━━━━━━━━━━━━━━━\u001B[0m\u001B[37m\u001B[0m \u001B[1m0s\u001B[0m 9ms/step - accuracy: 0.9041 - loss: 0.3292 - val_accuracy: 0.7625 - val_loss: 0.6650\n",
      "Epoch 20/100\n",
      "\u001B[1m12/12\u001B[0m \u001B[32m━━━━━━━━━━━━━━━━━━━━\u001B[0m\u001B[37m\u001B[0m \u001B[1m0s\u001B[0m 10ms/step - accuracy: 0.9183 - loss: 0.2866 - val_accuracy: 0.7500 - val_loss: 0.6428\n",
      "Epoch 21/100\n",
      "\u001B[1m12/12\u001B[0m \u001B[32m━━━━━━━━━━━━━━━━━━━━\u001B[0m\u001B[37m\u001B[0m \u001B[1m0s\u001B[0m 11ms/step - accuracy: 0.9393 - loss: 0.2338 - val_accuracy: 0.7375 - val_loss: 0.6171\n",
      "Epoch 22/100\n",
      "\u001B[1m12/12\u001B[0m \u001B[32m━━━━━━━━━━━━━━━━━━━━\u001B[0m\u001B[37m\u001B[0m \u001B[1m0s\u001B[0m 6ms/step - accuracy: 0.9519 - loss: 0.1860 - val_accuracy: 0.7500 - val_loss: 0.5996\n",
      "Epoch 23/100\n",
      "\u001B[1m12/12\u001B[0m \u001B[32m━━━━━━━━━━━━━━━━━━━━\u001B[0m\u001B[37m\u001B[0m \u001B[1m0s\u001B[0m 6ms/step - accuracy: 0.9591 - loss: 0.1516 - val_accuracy: 0.7500 - val_loss: 0.5892\n",
      "Epoch 24/100\n",
      "\u001B[1m12/12\u001B[0m \u001B[32m━━━━━━━━━━━━━━━━━━━━\u001B[0m\u001B[37m\u001B[0m \u001B[1m0s\u001B[0m 6ms/step - accuracy: 0.9652 - loss: 0.1351 - val_accuracy: 0.7750 - val_loss: 0.5900\n",
      "Epoch 25/100\n",
      "\u001B[1m12/12\u001B[0m \u001B[32m━━━━━━━━━━━━━━━━━━━━\u001B[0m\u001B[37m\u001B[0m \u001B[1m0s\u001B[0m 7ms/step - accuracy: 0.9677 - loss: 0.0978 - val_accuracy: 0.8000 - val_loss: 0.5861\n",
      "Epoch 26/100\n",
      "\u001B[1m12/12\u001B[0m \u001B[32m━━━━━━━━━━━━━━━━━━━━\u001B[0m\u001B[37m\u001B[0m \u001B[1m0s\u001B[0m 7ms/step - accuracy: 0.9822 - loss: 0.0899 - val_accuracy: 0.7750 - val_loss: 0.7728\n",
      "Epoch 27/100\n",
      "\u001B[1m12/12\u001B[0m \u001B[32m━━━━━━━━━━━━━━━━━━━━\u001B[0m\u001B[37m\u001B[0m \u001B[1m0s\u001B[0m 7ms/step - accuracy: 0.9778 - loss: 0.0892 - val_accuracy: 0.8375 - val_loss: 0.7380\n",
      "Epoch 28/100\n",
      "\u001B[1m12/12\u001B[0m \u001B[32m━━━━━━━━━━━━━━━━━━━━\u001B[0m\u001B[37m\u001B[0m \u001B[1m0s\u001B[0m 6ms/step - accuracy: 0.9820 - loss: 0.0678 - val_accuracy: 0.8375 - val_loss: 0.8851\n",
      "Epoch 29/100\n",
      "\u001B[1m12/12\u001B[0m \u001B[32m━━━━━━━━━━━━━━━━━━━━\u001B[0m\u001B[37m\u001B[0m \u001B[1m0s\u001B[0m 7ms/step - accuracy: 0.9887 - loss: 0.0498 - val_accuracy: 0.8375 - val_loss: 0.8805\n",
      "Epoch 30/100\n",
      "\u001B[1m12/12\u001B[0m \u001B[32m━━━━━━━━━━━━━━━━━━━━\u001B[0m\u001B[37m\u001B[0m \u001B[1m0s\u001B[0m 7ms/step - accuracy: 0.9913 - loss: 0.0504 - val_accuracy: 0.8375 - val_loss: 0.8740\n",
      "Epoch 31/100\n",
      "\u001B[1m12/12\u001B[0m \u001B[32m━━━━━━━━━━━━━━━━━━━━\u001B[0m\u001B[37m\u001B[0m \u001B[1m0s\u001B[0m 7ms/step - accuracy: 0.9885 - loss: 0.0487 - val_accuracy: 0.8375 - val_loss: 0.8791\n",
      "Epoch 32/100\n",
      "\u001B[1m12/12\u001B[0m \u001B[32m━━━━━━━━━━━━━━━━━━━━\u001B[0m\u001B[37m\u001B[0m \u001B[1m0s\u001B[0m 7ms/step - accuracy: 0.9932 - loss: 0.0386 - val_accuracy: 0.8375 - val_loss: 0.8664\n",
      "Epoch 33/100\n",
      "\u001B[1m12/12\u001B[0m \u001B[32m━━━━━━━━━━━━━━━━━━━━\u001B[0m\u001B[37m\u001B[0m \u001B[1m0s\u001B[0m 6ms/step - accuracy: 0.9914 - loss: 0.0363 - val_accuracy: 0.8375 - val_loss: 0.8672\n",
      "Epoch 34/100\n",
      "\u001B[1m12/12\u001B[0m \u001B[32m━━━━━━━━━━━━━━━━━━━━\u001B[0m\u001B[37m\u001B[0m \u001B[1m0s\u001B[0m 7ms/step - accuracy: 0.9895 - loss: 0.0345 - val_accuracy: 0.8375 - val_loss: 0.8619\n",
      "Epoch 35/100\n",
      "\u001B[1m12/12\u001B[0m \u001B[32m━━━━━━━━━━━━━━━━━━━━\u001B[0m\u001B[37m\u001B[0m \u001B[1m0s\u001B[0m 6ms/step - accuracy: 0.9914 - loss: 0.0295 - val_accuracy: 0.8250 - val_loss: 0.8619\n",
      "Epoch 36/100\n",
      "\u001B[1m12/12\u001B[0m \u001B[32m━━━━━━━━━━━━━━━━━━━━\u001B[0m\u001B[37m\u001B[0m \u001B[1m0s\u001B[0m 6ms/step - accuracy: 0.9909 - loss: 0.0269 - val_accuracy: 0.8500 - val_loss: 0.8629\n",
      "Epoch 37/100\n",
      "\u001B[1m12/12\u001B[0m \u001B[32m━━━━━━━━━━━━━━━━━━━━\u001B[0m\u001B[37m\u001B[0m \u001B[1m0s\u001B[0m 6ms/step - accuracy: 0.9933 - loss: 0.0240 - val_accuracy: 0.8375 - val_loss: 0.8682\n",
      "Epoch 38/100\n",
      "\u001B[1m12/12\u001B[0m \u001B[32m━━━━━━━━━━━━━━━━━━━━\u001B[0m\u001B[37m\u001B[0m \u001B[1m0s\u001B[0m 6ms/step - accuracy: 0.9991 - loss: 0.0210 - val_accuracy: 0.8375 - val_loss: 0.8653\n",
      "Epoch 39/100\n",
      "\u001B[1m12/12\u001B[0m \u001B[32m━━━━━━━━━━━━━━━━━━━━\u001B[0m\u001B[37m\u001B[0m \u001B[1m0s\u001B[0m 6ms/step - accuracy: 0.9962 - loss: 0.0245 - val_accuracy: 0.8375 - val_loss: 0.8761\n",
      "Epoch 40/100\n",
      "\u001B[1m12/12\u001B[0m \u001B[32m━━━━━━━━━━━━━━━━━━━━\u001B[0m\u001B[37m\u001B[0m \u001B[1m0s\u001B[0m 6ms/step - accuracy: 0.9941 - loss: 0.0209 - val_accuracy: 0.8375 - val_loss: 1.0224\n",
      "Epoch 41/100\n",
      "\u001B[1m12/12\u001B[0m \u001B[32m━━━━━━━━━━━━━━━━━━━━\u001B[0m\u001B[37m\u001B[0m \u001B[1m0s\u001B[0m 6ms/step - accuracy: 0.9984 - loss: 0.0172 - val_accuracy: 0.8625 - val_loss: 0.8801\n",
      "Epoch 42/100\n",
      "\u001B[1m12/12\u001B[0m \u001B[32m━━━━━━━━━━━━━━━━━━━━\u001B[0m\u001B[37m\u001B[0m \u001B[1m0s\u001B[0m 6ms/step - accuracy: 0.9981 - loss: 0.0150 - val_accuracy: 0.8625 - val_loss: 0.8828\n",
      "Epoch 43/100\n",
      "\u001B[1m12/12\u001B[0m \u001B[32m━━━━━━━━━━━━━━━━━━━━\u001B[0m\u001B[37m\u001B[0m \u001B[1m0s\u001B[0m 7ms/step - accuracy: 0.9992 - loss: 0.0097 - val_accuracy: 0.8625 - val_loss: 1.0212\n"
     ]
    }
   ],
   "execution_count": 31
  },
  {
   "cell_type": "markdown",
   "metadata": {
    "id": "bkOVLH46LOQn"
   },
   "source": [
    "# Evaluate the model"
   ]
  },
  {
   "cell_type": "code",
   "metadata": {
    "colab": {
     "base_uri": "https://localhost:8080/"
    },
    "executionInfo": {
     "elapsed": 377,
     "status": "ok",
     "timestamp": 1732855608436,
     "user": {
      "displayName": "Nureka Rodrigo",
      "userId": "00765996390309502984"
     },
     "user_tz": -330
    },
    "id": "_jAgUl4xJp1f",
    "outputId": "020e521a-0cf6-459e-d136-cae120137b33",
    "ExecuteTime": {
     "end_time": "2025-01-12T17:06:19.140027Z",
     "start_time": "2025-01-12T17:06:19.067601Z"
    }
   },
   "source": [
    "loss, accuracy = model.evaluate(X_test, y_test)\n",
    "\n",
    "print(f\"Test accuracy: {accuracy:.4f}\")\n",
    "print(f\"Test loss: {loss:.4f}\")"
   ],
   "outputs": [
    {
     "name": "stdout",
     "output_type": "stream",
     "text": [
      "\u001B[1m7/7\u001B[0m \u001B[32m━━━━━━━━━━━━━━━━━━━━\u001B[0m\u001B[37m\u001B[0m \u001B[1m0s\u001B[0m 3ms/step - accuracy: 0.7179 - loss: 0.6209\n",
      "Test accuracy: 0.7000\n",
      "Test loss: 0.6422\n"
     ]
    }
   ],
   "execution_count": 32
  },
  {
   "cell_type": "markdown",
   "metadata": {
    "id": "J6ss_hsvLRuf"
   },
   "source": [
    "# Plot the training & validation loss"
   ]
  },
  {
   "cell_type": "code",
   "metadata": {
    "colab": {
     "base_uri": "https://localhost:8080/",
     "height": 607
    },
    "executionInfo": {
     "elapsed": 638,
     "status": "ok",
     "timestamp": 1732855618573,
     "user": {
      "displayName": "Nureka Rodrigo",
      "userId": "00765996390309502984"
     },
     "user_tz": -330
    },
    "id": "VXAgjG-aKFPi",
    "outputId": "3d3b7a25-bf05-48d1-cf4b-80190397aeba",
    "ExecuteTime": {
     "end_time": "2025-01-12T17:06:19.224192Z",
     "start_time": "2025-01-12T17:06:19.150210Z"
    }
   },
   "source": [
    "import matplotlib.pyplot as plt\n",
    "\n",
    "plt.plot(history['loss'], label='Training Loss')\n",
    "plt.plot(history['val_loss'], label='Validation Loss')\n",
    "plt.title('Loss over Epochs')\n",
    "plt.xlabel('Epochs')\n",
    "plt.ylabel('Loss')\n",
    "plt.legend()\n",
    "plt.show()"
   ],
   "outputs": [
    {
     "data": {
      "text/plain": [
       "<Figure size 640x480 with 1 Axes>"
      ],
      "image/png": "[encoded data removed]"
     },
     "metadata": {},
     "output_type": "display_data"
    }
   ],
   "execution_count": 33
  },
  {
   "cell_type": "markdown",
   "metadata": {
    "id": "rm4b0tZ8LU_Q"
   },
   "source": [
    "# Plot the training & validation accuracy"
   ]
  },
  {
   "cell_type": "code",
   "metadata": {
    "colab": {
     "base_uri": "https://localhost:8080/",
     "height": 607
    },
    "executionInfo": {
     "elapsed": 499,
     "status": "ok",
     "timestamp": 1732855620452,
     "user": {
      "displayName": "Nureka Rodrigo",
      "userId": "00765996390309502984"
     },
     "user_tz": -330
    },
    "id": "EY_aC-awKOu4",
    "outputId": "f429dc7c-bc80-49fb-d2bd-a3fa3c2a9452",
    "ExecuteTime": {
     "end_time": "2025-01-12T17:06:19.302905Z",
     "start_time": "2025-01-12T17:06:19.234790Z"
    }
   },
   "source": [
    "import matplotlib.pyplot as plt\n",
    "\n",
    "plt.plot(history['accuracy'], label='Training Accuracy')\n",
    "plt.plot(history['val_accuracy'], label='Validation Accuracy')\n",
    "plt.title('Accuracy over Epochs')\n",
    "plt.xlabel('Epochs')\n",
    "plt.ylabel('Accuracy')\n",
    "plt.legend()\n",
    "plt.show()"
   ],
   "outputs": [
    {
     "data": {
      "text/plain": [
       "<Figure size 640x480 with 1 Axes>"
      ],
      "image/png": "[encoded data removed]"
     },
     "metadata": {},
     "output_type": "display_data"
    }
   ],
   "execution_count": 34
  }
 ],
 "metadata": {
  "colab": {
   "authorship_tag": "ABX9TyPEvza0p5ZbuOot1FoKV04K",
   "provenance": []
  },
  "kernelspec": {
   "display_name": ".venv",
   "language": "python",
   "name": "python3"
  },
  "language_info": {
   "codemirror_mode": {
    "name": "ipython",
    "version": 3
   },
   "file_extension": ".py",
   "mimetype": "text/x-python",
   "name": "python",
   "nbconvert_exporter": "python",
   "pygments_lexer": "ipython3",
   "version": "3.12.3"
  }
 },
 "nbformat": 4,
 "nbformat_minor": 0
}
