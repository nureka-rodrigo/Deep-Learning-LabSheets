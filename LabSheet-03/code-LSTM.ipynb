{
 "cells": [
  {
   "cell_type": "markdown",
   "metadata": {
    "id": "Q1DRsfgY4h7E"
   },
   "source": [
    "# Load the dataset"
   ]
  },
  {
   "cell_type": "code",
   "metadata": {
    "colab": {
     "base_uri": "https://localhost:8080/",
     "height": 206
    },
    "executionInfo": {
     "elapsed": 419,
     "status": "ok",
     "timestamp": 1732855467441,
     "user": {
      "displayName": "Nureka Rodrigo",
      "userId": "00765996390309502984"
     },
     "user_tz": -330
    },
    "id": "RD3OPH8z3C6r",
    "outputId": "a6bd3f4e-cf81-408b-b423-338edf7609af",
    "ExecuteTime": {
     "end_time": "2025-01-12T17:06:22.438860Z",
     "start_time": "2025-01-12T17:06:22.430005Z"
    }
   },
   "source": [
    "import pandas as pd\n",
    "\n",
    "df = pd.read_csv(\"data/amazon_cells_labelled.txt\", sep=\"\\t\", header=None, names=[\"Review\", \"Sentiment\"])\n",
    "df.head()"
   ],
   "outputs": [
    {
     "data": {
      "text/plain": [
       "                                              Review  Sentiment\n",
       "0  So there is no way for me to plug it in here i...          0\n",
       "1                        Good case, Excellent value.          1\n",
       "2                             Great for the jawbone.          1\n",
       "3  Tied to charger for conversations lasting more...          0\n",
       "4                                  The mic is great.          1"
      ],
      "text/html": [
       "<div>\n",
       "<style scoped>\n",
       "    .dataframe tbody tr th:only-of-type {\n",
       "        vertical-align: middle;\n",
       "    }\n",
       "\n",
       "    .dataframe tbody tr th {\n",
       "        vertical-align: top;\n",
       "    }\n",
       "\n",
       "    .dataframe thead th {\n",
       "        text-align: right;\n",
       "    }\n",
       "</style>\n",
       "<table border=\"1\" class=\"dataframe\">\n",
       "  <thead>\n",
       "    <tr style=\"text-align: right;\">\n",
       "      <th></th>\n",
       "      <th>Review</th>\n",
       "      <th>Sentiment</th>\n",
       "    </tr>\n",
       "  </thead>\n",
       "  <tbody>\n",
       "    <tr>\n",
       "      <th>0</th>\n",
       "      <td>So there is no way for me to plug it in here i...</td>\n",
       "      <td>0</td>\n",
       "    </tr>\n",
       "    <tr>\n",
       "      <th>1</th>\n",
       "      <td>Good case, Excellent value.</td>\n",
       "      <td>1</td>\n",
       "    </tr>\n",
       "    <tr>\n",
       "      <th>2</th>\n",
       "      <td>Great for the jawbone.</td>\n",
       "      <td>1</td>\n",
       "    </tr>\n",
       "    <tr>\n",
       "      <th>3</th>\n",
       "      <td>Tied to charger for conversations lasting more...</td>\n",
       "      <td>0</td>\n",
       "    </tr>\n",
       "    <tr>\n",
       "      <th>4</th>\n",
       "      <td>The mic is great.</td>\n",
       "      <td>1</td>\n",
       "    </tr>\n",
       "  </tbody>\n",
       "</table>\n",
       "</div>"
      ]
     },
     "execution_count": 12,
     "metadata": {},
     "output_type": "execute_result"
    }
   ],
   "execution_count": 12
  },
  {
   "metadata": {},
   "cell_type": "markdown",
   "source": "# Preprocess the data"
  },
  {
   "cell_type": "code",
   "metadata": {
    "executionInfo": {
     "elapsed": 619,
     "status": "ok",
     "timestamp": 1732855516364,
     "user": {
      "displayName": "Nureka Rodrigo",
      "userId": "00765996390309502984"
     },
     "user_tz": -330
    },
    "id": "4f1utFNl8IqW",
    "ExecuteTime": {
     "end_time": "2025-01-12T17:06:22.483614Z",
     "start_time": "2025-01-12T17:06:22.465589Z"
    }
   },
   "source": [
    "from tensorflow.keras.preprocessing.text import Tokenizer\n",
    "\n",
    "tokenizer = Tokenizer()\n",
    "tokenizer.fit_on_texts(df[\"Review\"])\n",
    "sequences = tokenizer.texts_to_sequences(df[\"Review\"])"
   ],
   "outputs": [],
   "execution_count": 13
  },
  {
   "cell_type": "code",
   "metadata": {
    "executionInfo": {
     "elapsed": 381,
     "status": "ok",
     "timestamp": 1732855520267,
     "user": {
      "displayName": "Nureka Rodrigo",
      "userId": "00765996390309502984"
     },
     "user_tz": -330
    },
    "id": "VcxXxPBf99Kc",
    "ExecuteTime": {
     "end_time": "2025-01-12T17:06:22.512189Z",
     "start_time": "2025-01-12T17:06:22.507191Z"
    }
   },
   "source": [
    "from tensorflow.keras.preprocessing.sequence import pad_sequences\n",
    "\n",
    "max_length = max([len(seq) for seq in sequences])\n",
    "padded_sequences = pad_sequences(sequences, maxlen=max_length)\n"
   ],
   "outputs": [],
   "execution_count": 14
  },
  {
   "cell_type": "code",
   "metadata": {
    "executionInfo": {
     "elapsed": 2,
     "status": "ok",
     "timestamp": 1732855521617,
     "user": {
      "displayName": "Nureka Rodrigo",
      "userId": "00765996390309502984"
     },
     "user_tz": -330
    },
    "id": "O2tSuVrvBXWE",
    "ExecuteTime": {
     "end_time": "2025-01-12T17:06:22.553059Z",
     "start_time": "2025-01-12T17:06:22.548897Z"
    }
   },
   "source": [
    "X = padded_sequences\n",
    "y = df[\"Sentiment\"]"
   ],
   "outputs": [],
   "execution_count": 15
  },
  {
   "cell_type": "markdown",
   "metadata": {
    "id": "kNBj1W3ID5mN"
   },
   "source": [
    "# Split the dataset into training and testing sets"
   ]
  },
  {
   "cell_type": "code",
   "metadata": {
    "colab": {
     "base_uri": "https://localhost:8080/"
    },
    "executionInfo": {
     "elapsed": 2721,
     "status": "ok",
     "timestamp": 1732855524868,
     "user": {
      "displayName": "Nureka Rodrigo",
      "userId": "00765996390309502984"
     },
     "user_tz": -330
    },
    "id": "hVoI0LDsBk50",
    "outputId": "d8005549-bd5a-4d5a-9c06-4f988fe8eb08",
    "ExecuteTime": {
     "end_time": "2025-01-12T17:06:22.578585Z",
     "start_time": "2025-01-12T17:06:22.572585Z"
    }
   },
   "source": [
    "from sklearn.model_selection import train_test_split\n",
    "\n",
    "X_train, X_test, y_train, y_test = train_test_split(X, y, test_size=0.2, random_state=42)\n",
    "\n",
    "print(\"X_train shape:\", X_train.shape)\n",
    "print(\"y_train shape:\", y_train.shape)\n",
    "print(\"X_test shape:\", X_test.shape)\n",
    "print(\"y_test shape:\", y_test.shape)"
   ],
   "outputs": [
    {
     "name": "stdout",
     "output_type": "stream",
     "text": [
      "X_train shape: (800, 30)\n",
      "y_train shape: (800,)\n",
      "X_test shape: (200, 30)\n",
      "y_test shape: (200,)\n"
     ]
    }
   ],
   "execution_count": 16
  },
  {
   "cell_type": "markdown",
   "metadata": {
    "id": "EpdUKy5LGj2u"
   },
   "source": [
    "# Early stopping"
   ]
  },
  {
   "cell_type": "code",
   "metadata": {
    "executionInfo": {
     "elapsed": 422,
     "status": "ok",
     "timestamp": 1732855528627,
     "user": {
      "displayName": "Nureka Rodrigo",
      "userId": "00765996390309502984"
     },
     "user_tz": -330
    },
    "id": "R2SA2ETdGlcv",
    "ExecuteTime": {
     "end_time": "2025-01-12T17:06:22.595922Z",
     "start_time": "2025-01-12T17:06:22.592894Z"
    }
   },
   "source": [
    "from tensorflow.keras.callbacks import EarlyStopping\n",
    "\n",
    "early_stopping = EarlyStopping(monitor='val_loss', patience=25, restore_best_weights=True)"
   ],
   "outputs": [],
   "execution_count": 17
  },
  {
   "metadata": {},
   "cell_type": "markdown",
   "source": "# Create the neural network model using LSTM"
  },
  {
   "cell_type": "code",
   "metadata": {
    "executionInfo": {
     "elapsed": 368,
     "status": "ok",
     "timestamp": 1732855624453,
     "user": {
      "displayName": "Nureka Rodrigo",
      "userId": "00765996390309502984"
     },
     "user_tz": -330
    },
    "id": "a4gcHw4qJvEP",
    "ExecuteTime": {
     "end_time": "2025-01-12T17:06:22.615276Z",
     "start_time": "2025-01-12T17:06:22.605251Z"
    }
   },
   "source": [
    "from tensorflow.keras.models import Sequential\n",
    "from tensorflow.keras.layers import Embedding, LSTM, Dense\n",
    "from tensorflow.keras.optimizers import Adam\n",
    "\n",
    "vocab_size = len(tokenizer.word_index) + 1\n",
    "\n",
    "model = Sequential()\n",
    "model.add(Embedding(input_dim=vocab_size, output_dim=16))\n",
    "model.add(LSTM(units=8))\n",
    "model.add(Dense(units=1))\n",
    "\n",
    "# Specify the optimizer\n",
    "optimizer = Adam(learning_rate=0.001)\n",
    "\n",
    "# Compile the model\n",
    "model.compile(optimizer=optimizer, loss='binary_crossentropy', metrics=['accuracy'])"
   ],
   "outputs": [],
   "execution_count": 18
  },
  {
   "cell_type": "markdown",
   "metadata": {
    "id": "PjH1LTTYLGuQ"
   },
   "source": [
    "# Fit the model"
   ]
  },
  {
   "cell_type": "code",
   "metadata": {
    "colab": {
     "base_uri": "https://localhost:8080/"
    },
    "executionInfo": {
     "elapsed": 10644,
     "status": "ok",
     "timestamp": 1732855636609,
     "user": {
      "displayName": "Nureka Rodrigo",
      "userId": "00765996390309502984"
     },
     "user_tz": -330
    },
    "id": "7SQukDu-Kbd_",
    "outputId": "10a315ab-0959-47e3-ae74-5180d8f299bf",
    "ExecuteTime": {
     "end_time": "2025-01-12T17:06:27.401781Z",
     "start_time": "2025-01-12T17:06:22.631118Z"
    }
   },
   "source": "history = model.fit(X_train, y_train, epochs=100, batch_size=64, validation_split=0.1, callbacks=[early_stopping]).history",
   "outputs": [
    {
     "name": "stdout",
     "output_type": "stream",
     "text": [
      "Epoch 1/100\n",
      "\u001B[1m12/12\u001B[0m \u001B[32m━━━━━━━━━━━━━━━━━━━━\u001B[0m\u001B[37m\u001B[0m \u001B[1m1s\u001B[0m 22ms/step - accuracy: 0.4955 - loss: 1.8083 - val_accuracy: 0.5500 - val_loss: 0.7741\n",
      "Epoch 2/100\n",
      "\u001B[1m12/12\u001B[0m \u001B[32m━━━━━━━━━━━━━━━━━━━━\u001B[0m\u001B[37m\u001B[0m \u001B[1m0s\u001B[0m 7ms/step - accuracy: 0.5438 - loss: 0.7808 - val_accuracy: 0.5500 - val_loss: 0.6796\n",
      "Epoch 3/100\n",
      "\u001B[1m12/12\u001B[0m \u001B[32m━━━━━━━━━━━━━━━━━━━━\u001B[0m\u001B[37m\u001B[0m \u001B[1m0s\u001B[0m 6ms/step - accuracy: 0.5727 - loss: 0.6794 - val_accuracy: 0.6000 - val_loss: 0.6779\n",
      "Epoch 4/100\n",
      "\u001B[1m12/12\u001B[0m \u001B[32m━━━━━━━━━━━━━━━━━━━━\u001B[0m\u001B[37m\u001B[0m \u001B[1m0s\u001B[0m 5ms/step - accuracy: 0.5910 - loss: 0.6667 - val_accuracy: 0.5750 - val_loss: 0.6560\n",
      "Epoch 5/100\n",
      "\u001B[1m12/12\u001B[0m \u001B[32m━━━━━━━━━━━━━━━━━━━━\u001B[0m\u001B[37m\u001B[0m \u001B[1m0s\u001B[0m 5ms/step - accuracy: 0.6235 - loss: 0.6413 - val_accuracy: 0.5875 - val_loss: 0.6441\n",
      "Epoch 6/100\n",
      "\u001B[1m12/12\u001B[0m \u001B[32m━━━━━━━━━━━━━━━━━━━━\u001B[0m\u001B[37m\u001B[0m \u001B[1m0s\u001B[0m 5ms/step - accuracy: 0.6510 - loss: 0.6201 - val_accuracy: 0.6250 - val_loss: 0.6344\n",
      "Epoch 7/100\n",
      "\u001B[1m12/12\u001B[0m \u001B[32m━━━━━━━━━━━━━━━━━━━━\u001B[0m\u001B[37m\u001B[0m \u001B[1m0s\u001B[0m 5ms/step - accuracy: 0.6827 - loss: 0.5959 - val_accuracy: 0.6625 - val_loss: 0.6220\n",
      "Epoch 8/100\n",
      "\u001B[1m12/12\u001B[0m \u001B[32m━━━━━━━━━━━━━━━━━━━━\u001B[0m\u001B[37m\u001B[0m \u001B[1m0s\u001B[0m 5ms/step - accuracy: 0.7184 - loss: 0.5834 - val_accuracy: 0.6875 - val_loss: 0.6077\n",
      "Epoch 9/100\n",
      "\u001B[1m12/12\u001B[0m \u001B[32m━━━━━━━━━━━━━━━━━━━━\u001B[0m\u001B[37m\u001B[0m \u001B[1m0s\u001B[0m 6ms/step - accuracy: 0.7508 - loss: 0.5385 - val_accuracy: 0.7250 - val_loss: 0.5903\n",
      "Epoch 10/100\n",
      "\u001B[1m12/12\u001B[0m \u001B[32m━━━━━━━━━━━━━━━━━━━━\u001B[0m\u001B[37m\u001B[0m \u001B[1m0s\u001B[0m 5ms/step - accuracy: 0.7879 - loss: 0.5166 - val_accuracy: 0.7625 - val_loss: 0.5687\n",
      "Epoch 11/100\n",
      "\u001B[1m12/12\u001B[0m \u001B[32m━━━━━━━━━━━━━━━━━━━━\u001B[0m\u001B[37m\u001B[0m \u001B[1m0s\u001B[0m 5ms/step - accuracy: 0.8318 - loss: 0.4636 - val_accuracy: 0.7500 - val_loss: 0.5409\n",
      "Epoch 12/100\n",
      "\u001B[1m12/12\u001B[0m \u001B[32m━━━━━━━━━━━━━━━━━━━━\u001B[0m\u001B[37m\u001B[0m \u001B[1m0s\u001B[0m 5ms/step - accuracy: 0.9044 - loss: 0.3975 - val_accuracy: 0.7875 - val_loss: 0.5091\n",
      "Epoch 13/100\n",
      "\u001B[1m12/12\u001B[0m \u001B[32m━━━━━━━━━━━━━━━━━━━━\u001B[0m\u001B[37m\u001B[0m \u001B[1m0s\u001B[0m 5ms/step - accuracy: 0.9374 - loss: 0.3362 - val_accuracy: 0.8000 - val_loss: 0.4758\n",
      "Epoch 14/100\n",
      "\u001B[1m12/12\u001B[0m \u001B[32m━━━━━━━━━━━━━━━━━━━━\u001B[0m\u001B[37m\u001B[0m \u001B[1m0s\u001B[0m 5ms/step - accuracy: 0.9655 - loss: 0.2643 - val_accuracy: 0.8000 - val_loss: 0.4475\n",
      "Epoch 15/100\n",
      "\u001B[1m12/12\u001B[0m \u001B[32m━━━━━━━━━━━━━━━━━━━━\u001B[0m\u001B[37m\u001B[0m \u001B[1m0s\u001B[0m 5ms/step - accuracy: 0.9659 - loss: 0.1969 - val_accuracy: 0.8250 - val_loss: 0.4311\n",
      "Epoch 16/100\n",
      "\u001B[1m12/12\u001B[0m \u001B[32m━━━━━━━━━━━━━━━━━━━━\u001B[0m\u001B[37m\u001B[0m \u001B[1m0s\u001B[0m 5ms/step - accuracy: 0.9782 - loss: 0.1349 - val_accuracy: 0.8125 - val_loss: 0.6017\n",
      "Epoch 17/100\n",
      "\u001B[1m12/12\u001B[0m \u001B[32m━━━━━━━━━━━━━━━━━━━━\u001B[0m\u001B[37m\u001B[0m \u001B[1m0s\u001B[0m 5ms/step - accuracy: 0.9756 - loss: 0.1149 - val_accuracy: 0.8375 - val_loss: 0.4236\n",
      "Epoch 18/100\n",
      "\u001B[1m12/12\u001B[0m \u001B[32m━━━━━━━━━━━━━━━━━━━━\u001B[0m\u001B[37m\u001B[0m \u001B[1m0s\u001B[0m 5ms/step - accuracy: 0.9771 - loss: 0.0911 - val_accuracy: 0.8125 - val_loss: 0.5564\n",
      "Epoch 19/100\n",
      "\u001B[1m12/12\u001B[0m \u001B[32m━━━━━━━━━━━━━━━━━━━━\u001B[0m\u001B[37m\u001B[0m \u001B[1m0s\u001B[0m 5ms/step - accuracy: 0.9852 - loss: 0.0607 - val_accuracy: 0.8500 - val_loss: 0.5520\n",
      "Epoch 20/100\n",
      "\u001B[1m12/12\u001B[0m \u001B[32m━━━━━━━━━━━━━━━━━━━━\u001B[0m\u001B[37m\u001B[0m \u001B[1m0s\u001B[0m 6ms/step - accuracy: 0.9858 - loss: 0.0542 - val_accuracy: 0.8375 - val_loss: 0.5717\n",
      "Epoch 21/100\n",
      "\u001B[1m12/12\u001B[0m \u001B[32m━━━━━━━━━━━━━━━━━━━━\u001B[0m\u001B[37m\u001B[0m \u001B[1m0s\u001B[0m 6ms/step - accuracy: 0.9976 - loss: 0.0384 - val_accuracy: 0.8500 - val_loss: 0.5512\n",
      "Epoch 22/100\n",
      "\u001B[1m12/12\u001B[0m \u001B[32m━━━━━━━━━━━━━━━━━━━━\u001B[0m\u001B[37m\u001B[0m \u001B[1m0s\u001B[0m 6ms/step - accuracy: 0.9962 - loss: 0.0436 - val_accuracy: 0.8125 - val_loss: 0.5499\n",
      "Epoch 23/100\n",
      "\u001B[1m12/12\u001B[0m \u001B[32m━━━━━━━━━━━━━━━━━━━━\u001B[0m\u001B[37m\u001B[0m \u001B[1m0s\u001B[0m 6ms/step - accuracy: 0.9931 - loss: 0.0259 - val_accuracy: 0.8500 - val_loss: 0.5408\n",
      "Epoch 24/100\n",
      "\u001B[1m12/12\u001B[0m \u001B[32m━━━━━━━━━━━━━━━━━━━━\u001B[0m\u001B[37m\u001B[0m \u001B[1m0s\u001B[0m 5ms/step - accuracy: 0.9985 - loss: 0.0230 - val_accuracy: 0.8500 - val_loss: 0.5431\n",
      "Epoch 25/100\n",
      "\u001B[1m12/12\u001B[0m \u001B[32m━━━━━━━━━━━━━━━━━━━━\u001B[0m\u001B[37m\u001B[0m \u001B[1m0s\u001B[0m 5ms/step - accuracy: 1.0000 - loss: 0.0210 - val_accuracy: 0.8500 - val_loss: 0.5465\n",
      "Epoch 26/100\n",
      "\u001B[1m12/12\u001B[0m \u001B[32m━━━━━━━━━━━━━━━━━━━━\u001B[0m\u001B[37m\u001B[0m \u001B[1m0s\u001B[0m 5ms/step - accuracy: 1.0000 - loss: 0.0149 - val_accuracy: 0.8000 - val_loss: 0.9300\n",
      "Epoch 27/100\n",
      "\u001B[1m12/12\u001B[0m \u001B[32m━━━━━━━━━━━━━━━━━━━━\u001B[0m\u001B[37m\u001B[0m \u001B[1m0s\u001B[0m 6ms/step - accuracy: 0.9974 - loss: 0.0258 - val_accuracy: 0.8250 - val_loss: 0.6094\n",
      "Epoch 28/100\n",
      "\u001B[1m12/12\u001B[0m \u001B[32m━━━━━━━━━━━━━━━━━━━━\u001B[0m\u001B[37m\u001B[0m \u001B[1m0s\u001B[0m 5ms/step - accuracy: 1.0000 - loss: 0.0129 - val_accuracy: 0.8375 - val_loss: 0.7124\n",
      "Epoch 29/100\n",
      "\u001B[1m12/12\u001B[0m \u001B[32m━━━━━━━━━━━━━━━━━━━━\u001B[0m\u001B[37m\u001B[0m \u001B[1m0s\u001B[0m 5ms/step - accuracy: 1.0000 - loss: 0.0120 - val_accuracy: 0.8500 - val_loss: 0.7279\n",
      "Epoch 30/100\n",
      "\u001B[1m12/12\u001B[0m \u001B[32m━━━━━━━━━━━━━━━━━━━━\u001B[0m\u001B[37m\u001B[0m \u001B[1m0s\u001B[0m 5ms/step - accuracy: 1.0000 - loss: 0.0073 - val_accuracy: 0.8375 - val_loss: 0.8676\n",
      "Epoch 31/100\n",
      "\u001B[1m12/12\u001B[0m \u001B[32m━━━━━━━━━━━━━━━━━━━━\u001B[0m\u001B[37m\u001B[0m \u001B[1m0s\u001B[0m 5ms/step - accuracy: 1.0000 - loss: 0.0074 - val_accuracy: 0.8375 - val_loss: 0.8635\n",
      "Epoch 32/100\n",
      "\u001B[1m12/12\u001B[0m \u001B[32m━━━━━━━━━━━━━━━━━━━━\u001B[0m\u001B[37m\u001B[0m \u001B[1m0s\u001B[0m 5ms/step - accuracy: 1.0000 - loss: 0.0069 - val_accuracy: 0.8250 - val_loss: 0.9474\n",
      "Epoch 33/100\n",
      "\u001B[1m12/12\u001B[0m \u001B[32m━━━━━━━━━━━━━━━━━━━━\u001B[0m\u001B[37m\u001B[0m \u001B[1m0s\u001B[0m 5ms/step - accuracy: 1.0000 - loss: 0.0034 - val_accuracy: 0.8250 - val_loss: 1.2454\n",
      "Epoch 34/100\n",
      "\u001B[1m12/12\u001B[0m \u001B[32m━━━━━━━━━━━━━━━━━━━━\u001B[0m\u001B[37m\u001B[0m \u001B[1m0s\u001B[0m 5ms/step - accuracy: 1.0000 - loss: 0.0044 - val_accuracy: 0.8250 - val_loss: 1.1748\n",
      "Epoch 35/100\n",
      "\u001B[1m12/12\u001B[0m \u001B[32m━━━━━━━━━━━━━━━━━━━━\u001B[0m\u001B[37m\u001B[0m \u001B[1m0s\u001B[0m 5ms/step - accuracy: 1.0000 - loss: 0.0039 - val_accuracy: 0.8250 - val_loss: 1.2712\n",
      "Epoch 36/100\n",
      "\u001B[1m12/12\u001B[0m \u001B[32m━━━━━━━━━━━━━━━━━━━━\u001B[0m\u001B[37m\u001B[0m \u001B[1m0s\u001B[0m 5ms/step - accuracy: 1.0000 - loss: 0.0039 - val_accuracy: 0.8250 - val_loss: 1.2621\n",
      "Epoch 37/100\n",
      "\u001B[1m12/12\u001B[0m \u001B[32m━━━━━━━━━━━━━━━━━━━━\u001B[0m\u001B[37m\u001B[0m \u001B[1m0s\u001B[0m 5ms/step - accuracy: 1.0000 - loss: 0.0020 - val_accuracy: 0.8250 - val_loss: 1.0749\n",
      "Epoch 38/100\n",
      "\u001B[1m12/12\u001B[0m \u001B[32m━━━━━━━━━━━━━━━━━━━━\u001B[0m\u001B[37m\u001B[0m \u001B[1m0s\u001B[0m 5ms/step - accuracy: 1.0000 - loss: 0.0014 - val_accuracy: 0.8250 - val_loss: 0.9298\n",
      "Epoch 39/100\n",
      "\u001B[1m12/12\u001B[0m \u001B[32m━━━━━━━━━━━━━━━━━━━━\u001B[0m\u001B[37m\u001B[0m \u001B[1m0s\u001B[0m 6ms/step - accuracy: 1.0000 - loss: 0.0010 - val_accuracy: 0.8250 - val_loss: 0.9173\n",
      "Epoch 40/100\n",
      "\u001B[1m12/12\u001B[0m \u001B[32m━━━━━━━━━━━━━━━━━━━━\u001B[0m\u001B[37m\u001B[0m \u001B[1m0s\u001B[0m 6ms/step - accuracy: 1.0000 - loss: 8.0200e-04 - val_accuracy: 0.8250 - val_loss: 1.2388\n",
      "Epoch 41/100\n",
      "\u001B[1m12/12\u001B[0m \u001B[32m━━━━━━━━━━━━━━━━━━━━\u001B[0m\u001B[37m\u001B[0m \u001B[1m0s\u001B[0m 5ms/step - accuracy: 1.0000 - loss: 5.0790e-04 - val_accuracy: 0.8250 - val_loss: 0.9403\n",
      "Epoch 42/100\n",
      "\u001B[1m12/12\u001B[0m \u001B[32m━━━━━━━━━━━━━━━━━━━━\u001B[0m\u001B[37m\u001B[0m \u001B[1m0s\u001B[0m 5ms/step - accuracy: 1.0000 - loss: 4.6612e-04 - val_accuracy: 0.8375 - val_loss: 1.0893\n"
     ]
    }
   ],
   "execution_count": 19
  },
  {
   "cell_type": "markdown",
   "metadata": {
    "id": "wQ2HukueLDwv"
   },
   "source": [
    "# Evaluate the model"
   ]
  },
  {
   "cell_type": "code",
   "metadata": {
    "colab": {
     "base_uri": "https://localhost:8080/"
    },
    "executionInfo": {
     "elapsed": 368,
     "status": "ok",
     "timestamp": 1732855636965,
     "user": {
      "displayName": "Nureka Rodrigo",
      "userId": "00765996390309502984"
     },
     "user_tz": -330
    },
    "id": "kyZ5rC9wKX2X",
    "outputId": "5ebad60f-ecd2-4ebf-e5d2-38123d73a3f5",
    "ExecuteTime": {
     "end_time": "2025-01-12T17:06:27.494188Z",
     "start_time": "2025-01-12T17:06:27.433384Z"
    }
   },
   "source": [
    "loss, accuracy = model.evaluate(X_test, y_test)\n",
    "\n",
    "print(f\"Test accuracy: {accuracy:.4f}\")\n",
    "print(f\"Test loss: {loss:.4f}\")"
   ],
   "outputs": [
    {
     "name": "stdout",
     "output_type": "stream",
     "text": [
      "\u001B[1m7/7\u001B[0m \u001B[32m━━━━━━━━━━━━━━━━━━━━\u001B[0m\u001B[37m\u001B[0m \u001B[1m0s\u001B[0m 2ms/step - accuracy: 0.8221 - loss: 0.6631\n",
      "Test accuracy: 0.8250\n",
      "Test loss: 0.6998\n"
     ]
    }
   ],
   "execution_count": 20
  },
  {
   "cell_type": "markdown",
   "metadata": {
    "id": "sM45uBcqK8KP"
   },
   "source": [
    "# Plot the training & validation loss"
   ]
  },
  {
   "cell_type": "code",
   "metadata": {
    "colab": {
     "base_uri": "https://localhost:8080/",
     "height": 607
    },
    "executionInfo": {
     "elapsed": 625,
     "status": "ok",
     "timestamp": 1732855637589,
     "user": {
      "displayName": "Nureka Rodrigo",
      "userId": "00765996390309502984"
     },
     "user_tz": -330
    },
    "id": "VywC6LboKirv",
    "outputId": "5105fbd7-eb7e-433a-e089-c40c2dc4ff0d",
    "ExecuteTime": {
     "end_time": "2025-01-12T17:06:27.576352Z",
     "start_time": "2025-01-12T17:06:27.502803Z"
    }
   },
   "source": [
    "import matplotlib.pyplot as plt\n",
    "\n",
    "plt.plot(history['loss'], label='Training Loss')\n",
    "plt.plot(history['val_loss'], label='Validation Loss')\n",
    "plt.title('Loss over Epochs')\n",
    "plt.xlabel('Epochs')\n",
    "plt.ylabel('Loss')\n",
    "plt.legend()\n",
    "plt.show()"
   ],
   "outputs": [
    {
     "data": {
      "text/plain": [
       "<Figure size 640x480 with 1 Axes>"
      ],
      "image/png": "[encoded data removed]"
     },
     "metadata": {},
     "output_type": "display_data"
    }
   ],
   "execution_count": 21
  },
  {
   "cell_type": "markdown",
   "metadata": {
    "id": "kF5W9tn8K5EQ"
   },
   "source": [
    "# Plot the training & validation accuracy"
   ]
  },
  {
   "cell_type": "code",
   "metadata": {
    "colab": {
     "base_uri": "https://localhost:8080/",
     "height": 607
    },
    "executionInfo": {
     "elapsed": 658,
     "status": "ok",
     "timestamp": 1732855649390,
     "user": {
      "displayName": "Nureka Rodrigo",
      "userId": "00765996390309502984"
     },
     "user_tz": -330
    },
    "id": "AtTE8cfRKkn3",
    "outputId": "82812af1-fb8e-4d71-d6f1-a64186b77fa5",
    "ExecuteTime": {
     "end_time": "2025-01-12T17:06:27.659106Z",
     "start_time": "2025-01-12T17:06:27.585735Z"
    }
   },
   "source": [
    "import matplotlib.pyplot as plt\n",
    "\n",
    "plt.plot(history['accuracy'], label='Training Accuracy')\n",
    "plt.plot(history['val_accuracy'], label='Validation Accuracy')\n",
    "plt.title('Accuracy over Epochs')\n",
    "plt.xlabel('Epochs')\n",
    "plt.ylabel('Accuracy')\n",
    "plt.legend()\n",
    "plt.show()"
   ],
   "outputs": [
    {
     "data": {
      "text/plain": [
       "<Figure size 640x480 with 1 Axes>"
      ],
      "image/png": "[encoded data removed]"
     },
     "metadata": {},
     "output_type": "display_data"
    }
   ],
   "execution_count": 22
  }
 ],
 "metadata": {
  "colab": {
   "authorship_tag": "ABX9TyPEvza0p5ZbuOot1FoKV04K",
   "provenance": []
  },
  "kernelspec": {
   "display_name": ".venv",
   "language": "python",
   "name": "python3"
  },
  "language_info": {
   "codemirror_mode": {
    "name": "ipython",
    "version": 3
   },
   "file_extension": ".py",
   "mimetype": "text/x-python",
   "name": "python",
   "nbconvert_exporter": "python",
   "pygments_lexer": "ipython3",
   "version": "3.12.3"
  }
 },
 "nbformat": 4,
 "nbformat_minor": 0
}
