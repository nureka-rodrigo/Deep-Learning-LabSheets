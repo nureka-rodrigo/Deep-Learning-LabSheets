{
 "cells": [
  {
   "cell_type": "markdown",
   "metadata": {
    "id": "Q1DRsfgY4h7E"
   },
   "source": [
    "# Load the dataset"
   ]
  },
  {
   "cell_type": "code",
   "metadata": {
    "colab": {
     "base_uri": "https://localhost:8080/",
     "height": 206
    },
    "executionInfo": {
     "elapsed": 419,
     "status": "ok",
     "timestamp": 1732855467441,
     "user": {
      "displayName": "Nureka Rodrigo",
      "userId": "00765996390309502984"
     },
     "user_tz": -330
    },
    "id": "RD3OPH8z3C6r",
    "outputId": "a6bd3f4e-cf81-408b-b423-338edf7609af",
    "ExecuteTime": {
     "end_time": "2025-01-12T17:28:54.733675Z",
     "start_time": "2025-01-12T17:28:54.725203Z"
    }
   },
   "source": [
    "import pandas as pd\n",
    "\n",
    "df = pd.read_csv(\"data/amazon_cells_labelled.txt\", sep=\"\\t\", header=None, names=[\"Review\", \"Sentiment\"])\n",
    "df.head()"
   ],
   "outputs": [
    {
     "data": {
      "text/plain": [
       "                                              Review  Sentiment\n",
       "0  So there is no way for me to plug it in here i...          0\n",
       "1                        Good case, Excellent value.          1\n",
       "2                             Great for the jawbone.          1\n",
       "3  Tied to charger for conversations lasting more...          0\n",
       "4                                  The mic is great.          1"
      ],
      "text/html": [
       "<div>\n",
       "<style scoped>\n",
       "    .dataframe tbody tr th:only-of-type {\n",
       "        vertical-align: middle;\n",
       "    }\n",
       "\n",
       "    .dataframe tbody tr th {\n",
       "        vertical-align: top;\n",
       "    }\n",
       "\n",
       "    .dataframe thead th {\n",
       "        text-align: right;\n",
       "    }\n",
       "</style>\n",
       "<table border=\"1\" class=\"dataframe\">\n",
       "  <thead>\n",
       "    <tr style=\"text-align: right;\">\n",
       "      <th></th>\n",
       "      <th>Review</th>\n",
       "      <th>Sentiment</th>\n",
       "    </tr>\n",
       "  </thead>\n",
       "  <tbody>\n",
       "    <tr>\n",
       "      <th>0</th>\n",
       "      <td>So there is no way for me to plug it in here i...</td>\n",
       "      <td>0</td>\n",
       "    </tr>\n",
       "    <tr>\n",
       "      <th>1</th>\n",
       "      <td>Good case, Excellent value.</td>\n",
       "      <td>1</td>\n",
       "    </tr>\n",
       "    <tr>\n",
       "      <th>2</th>\n",
       "      <td>Great for the jawbone.</td>\n",
       "      <td>1</td>\n",
       "    </tr>\n",
       "    <tr>\n",
       "      <th>3</th>\n",
       "      <td>Tied to charger for conversations lasting more...</td>\n",
       "      <td>0</td>\n",
       "    </tr>\n",
       "    <tr>\n",
       "      <th>4</th>\n",
       "      <td>The mic is great.</td>\n",
       "      <td>1</td>\n",
       "    </tr>\n",
       "  </tbody>\n",
       "</table>\n",
       "</div>"
      ]
     },
     "execution_count": 12,
     "metadata": {},
     "output_type": "execute_result"
    }
   ],
   "execution_count": 12
  },
  {
   "metadata": {},
   "cell_type": "markdown",
   "source": "# Preprocess the data"
  },
  {
   "cell_type": "code",
   "metadata": {
    "executionInfo": {
     "elapsed": 619,
     "status": "ok",
     "timestamp": 1732855516364,
     "user": {
      "displayName": "Nureka Rodrigo",
      "userId": "00765996390309502984"
     },
     "user_tz": -330
    },
    "id": "4f1utFNl8IqW",
    "ExecuteTime": {
     "end_time": "2025-01-12T17:28:54.780904Z",
     "start_time": "2025-01-12T17:28:54.762481Z"
    }
   },
   "source": [
    "from tensorflow.keras.preprocessing.text import Tokenizer\n",
    "\n",
    "tokenizer = Tokenizer()\n",
    "tokenizer.fit_on_texts(df[\"Review\"])\n",
    "sequences = tokenizer.texts_to_sequences(df[\"Review\"])"
   ],
   "outputs": [],
   "execution_count": 13
  },
  {
   "cell_type": "code",
   "metadata": {
    "executionInfo": {
     "elapsed": 381,
     "status": "ok",
     "timestamp": 1732855520267,
     "user": {
      "displayName": "Nureka Rodrigo",
      "userId": "00765996390309502984"
     },
     "user_tz": -330
    },
    "id": "VcxXxPBf99Kc",
    "ExecuteTime": {
     "end_time": "2025-01-12T17:28:54.809185Z",
     "start_time": "2025-01-12T17:28:54.804190Z"
    }
   },
   "source": [
    "from tensorflow.keras.preprocessing.sequence import pad_sequences\n",
    "\n",
    "max_length = max([len(seq) for seq in sequences])\n",
    "padded_sequences = pad_sequences(sequences, maxlen=max_length)\n"
   ],
   "outputs": [],
   "execution_count": 14
  },
  {
   "cell_type": "code",
   "metadata": {
    "executionInfo": {
     "elapsed": 2,
     "status": "ok",
     "timestamp": 1732855521617,
     "user": {
      "displayName": "Nureka Rodrigo",
      "userId": "00765996390309502984"
     },
     "user_tz": -330
    },
    "id": "O2tSuVrvBXWE",
    "ExecuteTime": {
     "end_time": "2025-01-12T17:28:54.843587Z",
     "start_time": "2025-01-12T17:28:54.840586Z"
    }
   },
   "source": [
    "X = padded_sequences\n",
    "y = df[\"Sentiment\"]"
   ],
   "outputs": [],
   "execution_count": 15
  },
  {
   "cell_type": "markdown",
   "metadata": {
    "id": "kNBj1W3ID5mN"
   },
   "source": [
    "# Split the dataset into training and testing sets"
   ]
  },
  {
   "cell_type": "code",
   "metadata": {
    "colab": {
     "base_uri": "https://localhost:8080/"
    },
    "executionInfo": {
     "elapsed": 2721,
     "status": "ok",
     "timestamp": 1732855524868,
     "user": {
      "displayName": "Nureka Rodrigo",
      "userId": "00765996390309502984"
     },
     "user_tz": -330
    },
    "id": "hVoI0LDsBk50",
    "outputId": "d8005549-bd5a-4d5a-9c06-4f988fe8eb08",
    "ExecuteTime": {
     "end_time": "2025-01-12T17:28:54.866741Z",
     "start_time": "2025-01-12T17:28:54.861006Z"
    }
   },
   "source": [
    "from sklearn.model_selection import train_test_split\n",
    "\n",
    "X_train, X_test, y_train, y_test = train_test_split(X, y, test_size=0.2, random_state=42)\n",
    "\n",
    "print(\"X_train shape:\", X_train.shape)\n",
    "print(\"y_train shape:\", y_train.shape)\n",
    "print(\"X_test shape:\", X_test.shape)\n",
    "print(\"y_test shape:\", y_test.shape)"
   ],
   "outputs": [
    {
     "name": "stdout",
     "output_type": "stream",
     "text": [
      "X_train shape: (800, 30)\n",
      "y_train shape: (800,)\n",
      "X_test shape: (200, 30)\n",
      "y_test shape: (200,)\n"
     ]
    }
   ],
   "execution_count": 16
  },
  {
   "cell_type": "markdown",
   "metadata": {
    "id": "fJkyl1NYD1xV"
   },
   "source": "# Create the neural network model using Vanilla"
  },
  {
   "cell_type": "code",
   "metadata": {
    "executionInfo": {
     "elapsed": 398,
     "status": "ok",
     "timestamp": 1732855526474,
     "user": {
      "displayName": "Nureka Rodrigo",
      "userId": "00765996390309502984"
     },
     "user_tz": -330
    },
    "id": "LBsMjxv9C8v1",
    "ExecuteTime": {
     "end_time": "2025-01-12T17:28:54.896913Z",
     "start_time": "2025-01-12T17:28:54.870746Z"
    }
   },
   "source": [
    "from tensorflow.keras.models import Sequential\n",
    "from tensorflow.keras.layers import Embedding, SimpleRNN, Dense\n",
    "\n",
    "vocab_size = len(tokenizer.word_index) + 1\n",
    "\n",
    "model = Sequential()\n",
    "model.add(Embedding(input_dim=vocab_size, output_dim=16))\n",
    "model.add(SimpleRNN(units=64, return_sequences=True))\n",
    "model.add(SimpleRNN(units=64))\n",
    "model.add(Dense(units=1))\n",
    "\n",
    "model.summary()"
   ],
   "outputs": [
    {
     "data": {
      "text/plain": [
       "\u001B[1mModel: \"sequential_1\"\u001B[0m\n"
      ],
      "text/html": [
       "<pre style=\"white-space:pre;overflow-x:auto;line-height:normal;font-family:Menlo,'DejaVu Sans Mono',consolas,'Courier New',monospace\"><span style=\"font-weight: bold\">Model: \"sequential_1\"</span>\n",
       "</pre>\n"
      ]
     },
     "metadata": {},
     "output_type": "display_data"
    },
    {
     "data": {
      "text/plain": [
       "┏━━━━━━━━━━━━━━━━━━━━━━━━━━━━━━━━━┳━━━━━━━━━━━━━━━━━━━━━━━━┳━━━━━━━━━━━━━━━┓\n",
       "┃\u001B[1m \u001B[0m\u001B[1mLayer (type)                   \u001B[0m\u001B[1m \u001B[0m┃\u001B[1m \u001B[0m\u001B[1mOutput Shape          \u001B[0m\u001B[1m \u001B[0m┃\u001B[1m \u001B[0m\u001B[1m      Param #\u001B[0m\u001B[1m \u001B[0m┃\n",
       "┡━━━━━━━━━━━━━━━━━━━━━━━━━━━━━━━━━╇━━━━━━━━━━━━━━━━━━━━━━━━╇━━━━━━━━━━━━━━━┩\n",
       "│ embedding_1 (\u001B[38;5;33mEmbedding\u001B[0m)         │ ?                      │   \u001B[38;5;34m0\u001B[0m (unbuilt) │\n",
       "├─────────────────────────────────┼────────────────────────┼───────────────┤\n",
       "│ simple_rnn_2 (\u001B[38;5;33mSimpleRNN\u001B[0m)        │ ?                      │   \u001B[38;5;34m0\u001B[0m (unbuilt) │\n",
       "├─────────────────────────────────┼────────────────────────┼───────────────┤\n",
       "│ simple_rnn_3 (\u001B[38;5;33mSimpleRNN\u001B[0m)        │ ?                      │   \u001B[38;5;34m0\u001B[0m (unbuilt) │\n",
       "├─────────────────────────────────┼────────────────────────┼───────────────┤\n",
       "│ dense_1 (\u001B[38;5;33mDense\u001B[0m)                 │ ?                      │   \u001B[38;5;34m0\u001B[0m (unbuilt) │\n",
       "└─────────────────────────────────┴────────────────────────┴───────────────┘\n"
      ],
      "text/html": [
       "<pre style=\"white-space:pre;overflow-x:auto;line-height:normal;font-family:Menlo,'DejaVu Sans Mono',consolas,'Courier New',monospace\">┏━━━━━━━━━━━━━━━━━━━━━━━━━━━━━━━━━┳━━━━━━━━━━━━━━━━━━━━━━━━┳━━━━━━━━━━━━━━━┓\n",
       "┃<span style=\"font-weight: bold\"> Layer (type)                    </span>┃<span style=\"font-weight: bold\"> Output Shape           </span>┃<span style=\"font-weight: bold\">       Param # </span>┃\n",
       "┡━━━━━━━━━━━━━━━━━━━━━━━━━━━━━━━━━╇━━━━━━━━━━━━━━━━━━━━━━━━╇━━━━━━━━━━━━━━━┩\n",
       "│ embedding_1 (<span style=\"color: #0087ff; text-decoration-color: #0087ff\">Embedding</span>)         │ ?                      │   <span style=\"color: #00af00; text-decoration-color: #00af00\">0</span> (unbuilt) │\n",
       "├─────────────────────────────────┼────────────────────────┼───────────────┤\n",
       "│ simple_rnn_2 (<span style=\"color: #0087ff; text-decoration-color: #0087ff\">SimpleRNN</span>)        │ ?                      │   <span style=\"color: #00af00; text-decoration-color: #00af00\">0</span> (unbuilt) │\n",
       "├─────────────────────────────────┼────────────────────────┼───────────────┤\n",
       "│ simple_rnn_3 (<span style=\"color: #0087ff; text-decoration-color: #0087ff\">SimpleRNN</span>)        │ ?                      │   <span style=\"color: #00af00; text-decoration-color: #00af00\">0</span> (unbuilt) │\n",
       "├─────────────────────────────────┼────────────────────────┼───────────────┤\n",
       "│ dense_1 (<span style=\"color: #0087ff; text-decoration-color: #0087ff\">Dense</span>)                 │ ?                      │   <span style=\"color: #00af00; text-decoration-color: #00af00\">0</span> (unbuilt) │\n",
       "└─────────────────────────────────┴────────────────────────┴───────────────┘\n",
       "</pre>\n"
      ]
     },
     "metadata": {},
     "output_type": "display_data"
    },
    {
     "data": {
      "text/plain": [
       "\u001B[1m Total params: \u001B[0m\u001B[38;5;34m0\u001B[0m (0.00 B)\n"
      ],
      "text/html": [
       "<pre style=\"white-space:pre;overflow-x:auto;line-height:normal;font-family:Menlo,'DejaVu Sans Mono',consolas,'Courier New',monospace\"><span style=\"font-weight: bold\"> Total params: </span><span style=\"color: #00af00; text-decoration-color: #00af00\">0</span> (0.00 B)\n",
       "</pre>\n"
      ]
     },
     "metadata": {},
     "output_type": "display_data"
    },
    {
     "data": {
      "text/plain": [
       "\u001B[1m Trainable params: \u001B[0m\u001B[38;5;34m0\u001B[0m (0.00 B)\n"
      ],
      "text/html": [
       "<pre style=\"white-space:pre;overflow-x:auto;line-height:normal;font-family:Menlo,'DejaVu Sans Mono',consolas,'Courier New',monospace\"><span style=\"font-weight: bold\"> Trainable params: </span><span style=\"color: #00af00; text-decoration-color: #00af00\">0</span> (0.00 B)\n",
       "</pre>\n"
      ]
     },
     "metadata": {},
     "output_type": "display_data"
    },
    {
     "data": {
      "text/plain": [
       "\u001B[1m Non-trainable params: \u001B[0m\u001B[38;5;34m0\u001B[0m (0.00 B)\n"
      ],
      "text/html": [
       "<pre style=\"white-space:pre;overflow-x:auto;line-height:normal;font-family:Menlo,'DejaVu Sans Mono',consolas,'Courier New',monospace\"><span style=\"font-weight: bold\"> Non-trainable params: </span><span style=\"color: #00af00; text-decoration-color: #00af00\">0</span> (0.00 B)\n",
       "</pre>\n"
      ]
     },
     "metadata": {},
     "output_type": "display_data"
    }
   ],
   "execution_count": 17
  },
  {
   "metadata": {},
   "cell_type": "markdown",
   "source": "# Compile the model"
  },
  {
   "metadata": {
    "ExecuteTime": {
     "end_time": "2025-01-12T17:28:54.917961Z",
     "start_time": "2025-01-12T17:28:54.910047Z"
    }
   },
   "cell_type": "code",
   "source": [
    "from tensorflow.keras.optimizers import Adam\n",
    "\n",
    "optimizer = Adam(learning_rate=0.001)\n",
    "model.compile(optimizer=optimizer, loss='binary_crossentropy', metrics=['accuracy'])"
   ],
   "outputs": [],
   "execution_count": 18
  },
  {
   "cell_type": "markdown",
   "metadata": {
    "id": "EpdUKy5LGj2u"
   },
   "source": "# Define the early stopping callback"
  },
  {
   "cell_type": "code",
   "metadata": {
    "executionInfo": {
     "elapsed": 422,
     "status": "ok",
     "timestamp": 1732855528627,
     "user": {
      "displayName": "Nureka Rodrigo",
      "userId": "00765996390309502984"
     },
     "user_tz": -330
    },
    "id": "R2SA2ETdGlcv",
    "ExecuteTime": {
     "end_time": "2025-01-12T17:28:54.930674Z",
     "start_time": "2025-01-12T17:28:54.927432Z"
    }
   },
   "source": [
    "from tensorflow.keras.callbacks import EarlyStopping\n",
    "\n",
    "early_stopping = EarlyStopping(monitor='val_loss', patience=25, restore_best_weights=True)"
   ],
   "outputs": [],
   "execution_count": 19
  },
  {
   "cell_type": "markdown",
   "metadata": {
    "id": "klGKMrAsGouO"
   },
   "source": [
    "# Fit the model"
   ]
  },
  {
   "cell_type": "code",
   "metadata": {
    "colab": {
     "base_uri": "https://localhost:8080/"
    },
    "executionInfo": {
     "elapsed": 21419,
     "status": "ok",
     "timestamp": 1732855550521,
     "user": {
      "displayName": "Nureka Rodrigo",
      "userId": "00765996390309502984"
     },
     "user_tz": -330
    },
    "id": "2zZOY9snGrUe",
    "outputId": "1d618896-a812-47f3-dfc9-8076b7eb2ec3",
    "ExecuteTime": {
     "end_time": "2025-01-12T17:29:02.246778Z",
     "start_time": "2025-01-12T17:28:54.939995Z"
    }
   },
   "source": [
    "history = model.fit(X_train, y_train, epochs=100, batch_size=64, validation_split=0.1, callbacks=[early_stopping]).history"
   ],
   "outputs": [
    {
     "name": "stdout",
     "output_type": "stream",
     "text": [
      "Epoch 1/100\n",
      "\u001B[1m12/12\u001B[0m \u001B[32m━━━━━━━━━━━━━━━━━━━━\u001B[0m\u001B[37m\u001B[0m \u001B[1m4s\u001B[0m 73ms/step - accuracy: 0.4673 - loss: 5.2804 - val_accuracy: 0.5125 - val_loss: 2.0550\n",
      "Epoch 2/100\n",
      "\u001B[1m12/12\u001B[0m \u001B[32m━━━━━━━━━━━━━━━━━━━━\u001B[0m\u001B[37m\u001B[0m \u001B[1m1s\u001B[0m 9ms/step - accuracy: 0.5779 - loss: 1.5603 - val_accuracy: 0.5125 - val_loss: 1.1139\n",
      "Epoch 3/100\n",
      "\u001B[1m12/12\u001B[0m \u001B[32m━━━━━━━━━━━━━━━━━━━━\u001B[0m\u001B[37m\u001B[0m \u001B[1m0s\u001B[0m 9ms/step - accuracy: 0.6385 - loss: 0.6934 - val_accuracy: 0.5375 - val_loss: 1.1132\n",
      "Epoch 4/100\n",
      "\u001B[1m12/12\u001B[0m \u001B[32m━━━━━━━━━━━━━━━━━━━━\u001B[0m\u001B[37m\u001B[0m \u001B[1m0s\u001B[0m 11ms/step - accuracy: 0.7599 - loss: 0.5502 - val_accuracy: 0.5375 - val_loss: 1.1158\n",
      "Epoch 5/100\n",
      "\u001B[1m12/12\u001B[0m \u001B[32m━━━━━━━━━━━━━━━━━━━━\u001B[0m\u001B[37m\u001B[0m \u001B[1m0s\u001B[0m 8ms/step - accuracy: 0.8176 - loss: 0.4872 - val_accuracy: 0.5500 - val_loss: 1.1336\n",
      "Epoch 6/100\n",
      "\u001B[1m12/12\u001B[0m \u001B[32m━━━━━━━━━━━━━━━━━━━━\u001B[0m\u001B[37m\u001B[0m \u001B[1m0s\u001B[0m 7ms/step - accuracy: 0.8814 - loss: 0.3677 - val_accuracy: 0.5750 - val_loss: 1.1616\n",
      "Epoch 7/100\n",
      "\u001B[1m12/12\u001B[0m \u001B[32m━━━━━━━━━━━━━━━━━━━━\u001B[0m\u001B[37m\u001B[0m \u001B[1m0s\u001B[0m 7ms/step - accuracy: 0.9310 - loss: 0.3646 - val_accuracy: 0.5250 - val_loss: 1.1960\n",
      "Epoch 8/100\n",
      "\u001B[1m12/12\u001B[0m \u001B[32m━━━━━━━━━━━━━━━━━━━━\u001B[0m\u001B[37m\u001B[0m \u001B[1m0s\u001B[0m 7ms/step - accuracy: 0.9535 - loss: 0.3436 - val_accuracy: 0.5875 - val_loss: 1.5186\n",
      "Epoch 9/100\n",
      "\u001B[1m12/12\u001B[0m \u001B[32m━━━━━━━━━━━━━━━━━━━━\u001B[0m\u001B[37m\u001B[0m \u001B[1m0s\u001B[0m 8ms/step - accuracy: 0.9412 - loss: 0.2458 - val_accuracy: 0.5625 - val_loss: 1.5250\n",
      "Epoch 10/100\n",
      "\u001B[1m12/12\u001B[0m \u001B[32m━━━━━━━━━━━━━━━━━━━━\u001B[0m\u001B[37m\u001B[0m \u001B[1m0s\u001B[0m 7ms/step - accuracy: 0.9739 - loss: 0.2038 - val_accuracy: 0.5625 - val_loss: 1.5477\n",
      "Epoch 11/100\n",
      "\u001B[1m12/12\u001B[0m \u001B[32m━━━━━━━━━━━━━━━━━━━━\u001B[0m\u001B[37m\u001B[0m \u001B[1m0s\u001B[0m 7ms/step - accuracy: 0.9715 - loss: 0.2216 - val_accuracy: 0.5500 - val_loss: 1.7428\n",
      "Epoch 12/100\n",
      "\u001B[1m12/12\u001B[0m \u001B[32m━━━━━━━━━━━━━━━━━━━━\u001B[0m\u001B[37m\u001B[0m \u001B[1m0s\u001B[0m 7ms/step - accuracy: 0.9845 - loss: 0.2103 - val_accuracy: 0.5250 - val_loss: 2.0402\n",
      "Epoch 13/100\n",
      "\u001B[1m12/12\u001B[0m \u001B[32m━━━━━━━━━━━━━━━━━━━━\u001B[0m\u001B[37m\u001B[0m \u001B[1m0s\u001B[0m 7ms/step - accuracy: 0.9819 - loss: 0.1226 - val_accuracy: 0.5625 - val_loss: 2.4732\n",
      "Epoch 14/100\n",
      "\u001B[1m12/12\u001B[0m \u001B[32m━━━━━━━━━━━━━━━━━━━━\u001B[0m\u001B[37m\u001B[0m \u001B[1m0s\u001B[0m 7ms/step - accuracy: 0.9314 - loss: 0.2529 - val_accuracy: 0.5125 - val_loss: 3.5587\n",
      "Epoch 15/100\n",
      "\u001B[1m12/12\u001B[0m \u001B[32m━━━━━━━━━━━━━━━━━━━━\u001B[0m\u001B[37m\u001B[0m \u001B[1m0s\u001B[0m 8ms/step - accuracy: 0.9440 - loss: 0.3396 - val_accuracy: 0.4625 - val_loss: 3.6951\n",
      "Epoch 16/100\n",
      "\u001B[1m12/12\u001B[0m \u001B[32m━━━━━━━━━━━━━━━━━━━━\u001B[0m\u001B[37m\u001B[0m \u001B[1m0s\u001B[0m 7ms/step - accuracy: 0.9493 - loss: 0.2230 - val_accuracy: 0.5500 - val_loss: 3.2411\n",
      "Epoch 17/100\n",
      "\u001B[1m12/12\u001B[0m \u001B[32m━━━━━━━━━━━━━━━━━━━━\u001B[0m\u001B[37m\u001B[0m \u001B[1m0s\u001B[0m 7ms/step - accuracy: 0.8968 - loss: 0.3572 - val_accuracy: 0.5875 - val_loss: 2.7989\n",
      "Epoch 18/100\n",
      "\u001B[1m12/12\u001B[0m \u001B[32m━━━━━━━━━━━━━━━━━━━━\u001B[0m\u001B[37m\u001B[0m \u001B[1m0s\u001B[0m 7ms/step - accuracy: 0.9646 - loss: 0.2846 - val_accuracy: 0.5875 - val_loss: 3.1361\n",
      "Epoch 19/100\n",
      "\u001B[1m12/12\u001B[0m \u001B[32m━━━━━━━━━━━━━━━━━━━━\u001B[0m\u001B[37m\u001B[0m \u001B[1m0s\u001B[0m 7ms/step - accuracy: 0.9916 - loss: 0.0974 - val_accuracy: 0.5625 - val_loss: 3.0904\n",
      "Epoch 20/100\n",
      "\u001B[1m12/12\u001B[0m \u001B[32m━━━━━━━━━━━━━━━━━━━━\u001B[0m\u001B[37m\u001B[0m \u001B[1m0s\u001B[0m 6ms/step - accuracy: 0.9888 - loss: 0.1610 - val_accuracy: 0.5125 - val_loss: 3.2651\n",
      "Epoch 21/100\n",
      "\u001B[1m12/12\u001B[0m \u001B[32m━━━━━━━━━━━━━━━━━━━━\u001B[0m\u001B[37m\u001B[0m \u001B[1m0s\u001B[0m 7ms/step - accuracy: 0.9883 - loss: 0.1652 - val_accuracy: 0.6000 - val_loss: 3.0949\n",
      "Epoch 22/100\n",
      "\u001B[1m12/12\u001B[0m \u001B[32m━━━━━━━━━━━━━━━━━━━━\u001B[0m\u001B[37m\u001B[0m \u001B[1m0s\u001B[0m 7ms/step - accuracy: 0.9945 - loss: 0.0949 - val_accuracy: 0.5875 - val_loss: 3.2436\n",
      "Epoch 23/100\n",
      "\u001B[1m12/12\u001B[0m \u001B[32m━━━━━━━━━━━━━━━━━━━━\u001B[0m\u001B[37m\u001B[0m \u001B[1m0s\u001B[0m 7ms/step - accuracy: 0.9912 - loss: 0.1498 - val_accuracy: 0.5875 - val_loss: 3.2413\n",
      "Epoch 24/100\n",
      "\u001B[1m12/12\u001B[0m \u001B[32m━━━━━━━━━━━━━━━━━━━━\u001B[0m\u001B[37m\u001B[0m \u001B[1m0s\u001B[0m 7ms/step - accuracy: 0.9896 - loss: 0.1704 - val_accuracy: 0.6000 - val_loss: 3.2346\n",
      "Epoch 25/100\n",
      "\u001B[1m12/12\u001B[0m \u001B[32m━━━━━━━━━━━━━━━━━━━━\u001B[0m\u001B[37m\u001B[0m \u001B[1m0s\u001B[0m 7ms/step - accuracy: 0.9925 - loss: 0.1297 - val_accuracy: 0.6125 - val_loss: 3.2341\n",
      "Epoch 26/100\n",
      "\u001B[1m12/12\u001B[0m \u001B[32m━━━━━━━━━━━━━━━━━━━━\u001B[0m\u001B[37m\u001B[0m \u001B[1m0s\u001B[0m 7ms/step - accuracy: 0.9946 - loss: 0.0985 - val_accuracy: 0.6125 - val_loss: 3.2326\n",
      "Epoch 27/100\n",
      "\u001B[1m12/12\u001B[0m \u001B[32m━━━━━━━━━━━━━━━━━━━━\u001B[0m\u001B[37m\u001B[0m \u001B[1m0s\u001B[0m 7ms/step - accuracy: 0.9957 - loss: 0.0746 - val_accuracy: 0.6000 - val_loss: 3.2500\n",
      "Epoch 28/100\n",
      "\u001B[1m12/12\u001B[0m \u001B[32m━━━━━━━━━━━━━━━━━━━━\u001B[0m\u001B[37m\u001B[0m \u001B[1m0s\u001B[0m 7ms/step - accuracy: 0.9903 - loss: 0.1648 - val_accuracy: 0.6125 - val_loss: 3.2373\n"
     ]
    }
   ],
   "execution_count": 20
  },
  {
   "cell_type": "markdown",
   "metadata": {
    "id": "LawJaBHqHL-B"
   },
   "source": [
    "# Evaluate the model"
   ]
  },
  {
   "cell_type": "code",
   "metadata": {
    "colab": {
     "base_uri": "https://localhost:8080/"
    },
    "executionInfo": {
     "elapsed": 15,
     "status": "ok",
     "timestamp": 1732855550521,
     "user": {
      "displayName": "Nureka Rodrigo",
      "userId": "00765996390309502984"
     },
     "user_tz": -330
    },
    "id": "oSGTseatHOXh",
    "outputId": "a295b8d1-e7bb-468a-b371-204774643066",
    "ExecuteTime": {
     "end_time": "2025-01-12T17:29:02.330640Z",
     "start_time": "2025-01-12T17:29:02.255037Z"
    }
   },
   "source": [
    "loss, accuracy = model.evaluate(X_test, y_test)\n",
    "\n",
    "print(f\"Test accuracy: {accuracy:.4f}\")\n",
    "print(f\"Test loss: {loss:.4f}\")"
   ],
   "outputs": [
    {
     "name": "stdout",
     "output_type": "stream",
     "text": [
      "\u001B[1m7/7\u001B[0m \u001B[32m━━━━━━━━━━━━━━━━━━━━\u001B[0m\u001B[37m\u001B[0m \u001B[1m0s\u001B[0m 5ms/step - accuracy: 0.5172 - loss: 1.1672 \n",
      "Test accuracy: 0.5000\n",
      "Test loss: 1.0082\n"
     ]
    }
   ],
   "execution_count": 21
  },
  {
   "cell_type": "markdown",
   "metadata": {
    "id": "mBt9BOSSHSvP"
   },
   "source": "# Plot training and validation performance over epochs"
  },
  {
   "cell_type": "code",
   "metadata": {
    "colab": {
     "base_uri": "https://localhost:8080/",
     "height": 607
    },
    "executionInfo": {
     "elapsed": 991,
     "status": "ok",
     "timestamp": 1732855555739,
     "user": {
      "displayName": "Nureka Rodrigo",
      "userId": "00765996390309502984"
     },
     "user_tz": -330
    },
    "id": "wIQLaAY2HVv-",
    "outputId": "0adbab63-ee91-46b2-f398-00de63bda5ee",
    "ExecuteTime": {
     "end_time": "2025-01-12T17:29:02.520501Z",
     "start_time": "2025-01-12T17:29:02.338120Z"
    }
   },
   "source": [
    "import matplotlib.pyplot as plt\n",
    "\n",
    "fig, (ax1, ax2) = plt.subplots(1, 2, figsize=(12, 5))\n",
    "\n",
    "ax1.plot(history['loss'], label='Training Loss')\n",
    "ax1.plot(history['val_loss'], label='Validation Loss')\n",
    "ax1.set_title('Loss over Epochs')\n",
    "ax1.set_xlabel('Epochs')\n",
    "ax1.set_ylabel('Loss')\n",
    "ax1.legend()\n",
    "\n",
    "ax2.plot(history['accuracy'], label='Training Accuracy')\n",
    "ax2.plot(history['val_accuracy'], label='Validation Accuracy')\n",
    "ax2.set_title('Accuracy over Epochs')\n",
    "ax2.set_xlabel('Epochs')\n",
    "ax2.set_ylabel('Accuracy')\n",
    "ax2.legend()\n",
    "\n",
    "plt.tight_layout()\n",
    "plt.show()"
   ],
   "outputs": [
    {
     "data": {
      "text/plain": [
       "<Figure size 1200x500 with 2 Axes>"
      ],
      "image/png": "[encoded data removed]"
     },
     "metadata": {},
     "output_type": "display_data"
    }
   ],
   "execution_count": 22
  }
 ],
 "metadata": {
  "colab": {
   "authorship_tag": "ABX9TyPEvza0p5ZbuOot1FoKV04K",
   "provenance": []
  },
  "kernelspec": {
   "display_name": ".venv",
   "language": "python",
   "name": "python3"
  },
  "language_info": {
   "codemirror_mode": {
    "name": "ipython",
    "version": 3
   },
   "file_extension": ".py",
   "mimetype": "text/x-python",
   "name": "python",
   "nbconvert_exporter": "python",
   "pygments_lexer": "ipython3",
   "version": "3.12.3"
  }
 },
 "nbformat": 4,
 "nbformat_minor": 0
}
