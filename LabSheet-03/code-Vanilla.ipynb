{
 "cells": [
  {
   "cell_type": "markdown",
   "metadata": {
    "id": "Q1DRsfgY4h7E"
   },
   "source": [
    "# Load the dataset"
   ]
  },
  {
   "cell_type": "code",
   "metadata": {
    "colab": {
     "base_uri": "https://localhost:8080/",
     "height": 206
    },
    "executionInfo": {
     "elapsed": 419,
     "status": "ok",
     "timestamp": 1732855467441,
     "user": {
      "displayName": "Nureka Rodrigo",
      "userId": "00765996390309502984"
     },
     "user_tz": -330
    },
    "id": "RD3OPH8z3C6r",
    "outputId": "a6bd3f4e-cf81-408b-b423-338edf7609af",
    "ExecuteTime": {
     "end_time": "2025-01-12T17:04:36.367423Z",
     "start_time": "2025-01-12T17:04:36.138936Z"
    }
   },
   "source": [
    "import pandas as pd\n",
    "\n",
    "df = pd.read_csv(\"data/amazon_cells_labelled.txt\", sep=\"\\t\", header=None, names=[\"Review\", \"Sentiment\"])\n",
    "df.head()"
   ],
   "outputs": [
    {
     "data": {
      "text/plain": [
       "                                              Review  Sentiment\n",
       "0  So there is no way for me to plug it in here i...          0\n",
       "1                        Good case, Excellent value.          1\n",
       "2                             Great for the jawbone.          1\n",
       "3  Tied to charger for conversations lasting more...          0\n",
       "4                                  The mic is great.          1"
      ],
      "text/html": [
       "<div>\n",
       "<style scoped>\n",
       "    .dataframe tbody tr th:only-of-type {\n",
       "        vertical-align: middle;\n",
       "    }\n",
       "\n",
       "    .dataframe tbody tr th {\n",
       "        vertical-align: top;\n",
       "    }\n",
       "\n",
       "    .dataframe thead th {\n",
       "        text-align: right;\n",
       "    }\n",
       "</style>\n",
       "<table border=\"1\" class=\"dataframe\">\n",
       "  <thead>\n",
       "    <tr style=\"text-align: right;\">\n",
       "      <th></th>\n",
       "      <th>Review</th>\n",
       "      <th>Sentiment</th>\n",
       "    </tr>\n",
       "  </thead>\n",
       "  <tbody>\n",
       "    <tr>\n",
       "      <th>0</th>\n",
       "      <td>So there is no way for me to plug it in here i...</td>\n",
       "      <td>0</td>\n",
       "    </tr>\n",
       "    <tr>\n",
       "      <th>1</th>\n",
       "      <td>Good case, Excellent value.</td>\n",
       "      <td>1</td>\n",
       "    </tr>\n",
       "    <tr>\n",
       "      <th>2</th>\n",
       "      <td>Great for the jawbone.</td>\n",
       "      <td>1</td>\n",
       "    </tr>\n",
       "    <tr>\n",
       "      <th>3</th>\n",
       "      <td>Tied to charger for conversations lasting more...</td>\n",
       "      <td>0</td>\n",
       "    </tr>\n",
       "    <tr>\n",
       "      <th>4</th>\n",
       "      <td>The mic is great.</td>\n",
       "      <td>1</td>\n",
       "    </tr>\n",
       "  </tbody>\n",
       "</table>\n",
       "</div>"
      ]
     },
     "execution_count": 1,
     "metadata": {},
     "output_type": "execute_result"
    }
   ],
   "execution_count": 1
  },
  {
   "metadata": {},
   "cell_type": "markdown",
   "source": "# Preprocess the data"
  },
  {
   "cell_type": "code",
   "metadata": {
    "executionInfo": {
     "elapsed": 619,
     "status": "ok",
     "timestamp": 1732855516364,
     "user": {
      "displayName": "Nureka Rodrigo",
      "userId": "00765996390309502984"
     },
     "user_tz": -330
    },
    "id": "4f1utFNl8IqW",
    "ExecuteTime": {
     "end_time": "2025-01-12T17:04:38.169627Z",
     "start_time": "2025-01-12T17:04:36.392403Z"
    }
   },
   "source": [
    "from tensorflow.keras.preprocessing.text import Tokenizer\n",
    "\n",
    "tokenizer = Tokenizer()\n",
    "tokenizer.fit_on_texts(df[\"Review\"])\n",
    "sequences = tokenizer.texts_to_sequences(df[\"Review\"])"
   ],
   "outputs": [],
   "execution_count": 2
  },
  {
   "cell_type": "code",
   "metadata": {
    "executionInfo": {
     "elapsed": 381,
     "status": "ok",
     "timestamp": 1732855520267,
     "user": {
      "displayName": "Nureka Rodrigo",
      "userId": "00765996390309502984"
     },
     "user_tz": -330
    },
    "id": "VcxXxPBf99Kc",
    "ExecuteTime": {
     "end_time": "2025-01-12T17:04:38.198052Z",
     "start_time": "2025-01-12T17:04:38.193030Z"
    }
   },
   "source": [
    "from tensorflow.keras.preprocessing.sequence import pad_sequences\n",
    "\n",
    "max_length = max([len(seq) for seq in sequences])\n",
    "padded_sequences = pad_sequences(sequences, maxlen=max_length)\n"
   ],
   "outputs": [],
   "execution_count": 3
  },
  {
   "cell_type": "code",
   "metadata": {
    "executionInfo": {
     "elapsed": 2,
     "status": "ok",
     "timestamp": 1732855521617,
     "user": {
      "displayName": "Nureka Rodrigo",
      "userId": "00765996390309502984"
     },
     "user_tz": -330
    },
    "id": "O2tSuVrvBXWE",
    "ExecuteTime": {
     "end_time": "2025-01-12T17:04:38.213024Z",
     "start_time": "2025-01-12T17:04:38.210058Z"
    }
   },
   "source": [
    "X = padded_sequences\n",
    "y = df[\"Sentiment\"]"
   ],
   "outputs": [],
   "execution_count": 4
  },
  {
   "cell_type": "markdown",
   "metadata": {
    "id": "kNBj1W3ID5mN"
   },
   "source": [
    "# Split the dataset into training and testing sets"
   ]
  },
  {
   "cell_type": "code",
   "metadata": {
    "colab": {
     "base_uri": "https://localhost:8080/"
    },
    "executionInfo": {
     "elapsed": 2721,
     "status": "ok",
     "timestamp": 1732855524868,
     "user": {
      "displayName": "Nureka Rodrigo",
      "userId": "00765996390309502984"
     },
     "user_tz": -330
    },
    "id": "hVoI0LDsBk50",
    "outputId": "d8005549-bd5a-4d5a-9c06-4f988fe8eb08",
    "ExecuteTime": {
     "end_time": "2025-01-12T17:04:38.631958Z",
     "start_time": "2025-01-12T17:04:38.296593Z"
    }
   },
   "source": [
    "from sklearn.model_selection import train_test_split\n",
    "\n",
    "X_train, X_test, y_train, y_test = train_test_split(X, y, test_size=0.2, random_state=42)\n",
    "\n",
    "print(\"X_train shape:\", X_train.shape)\n",
    "print(\"y_train shape:\", y_train.shape)\n",
    "print(\"X_test shape:\", X_test.shape)\n",
    "print(\"y_test shape:\", y_test.shape)"
   ],
   "outputs": [
    {
     "name": "stdout",
     "output_type": "stream",
     "text": [
      "X_train shape: (800, 30)\n",
      "y_train shape: (800,)\n",
      "X_test shape: (200, 30)\n",
      "y_test shape: (200,)\n"
     ]
    }
   ],
   "execution_count": 5
  },
  {
   "cell_type": "markdown",
   "metadata": {
    "id": "fJkyl1NYD1xV"
   },
   "source": "# Create the neural network model using Vanilla"
  },
  {
   "cell_type": "code",
   "metadata": {
    "executionInfo": {
     "elapsed": 398,
     "status": "ok",
     "timestamp": 1732855526474,
     "user": {
      "displayName": "Nureka Rodrigo",
      "userId": "00765996390309502984"
     },
     "user_tz": -330
    },
    "id": "LBsMjxv9C8v1",
    "ExecuteTime": {
     "end_time": "2025-01-12T17:04:38.678039Z",
     "start_time": "2025-01-12T17:04:38.642382Z"
    }
   },
   "source": [
    "from tensorflow.keras.models import Sequential\n",
    "from tensorflow.keras.layers import Embedding, SimpleRNN, Dense\n",
    "from tensorflow.keras.optimizers import Adam\n",
    "\n",
    "vocab_size = len(tokenizer.word_index) + 1\n",
    "\n",
    "model = Sequential()\n",
    "model.add(Embedding(input_dim=vocab_size, output_dim=16))\n",
    "model.add(SimpleRNN(units=64, return_sequences=True))\n",
    "model.add(SimpleRNN(units=64))\n",
    "model.add(Dense(units=1))\n",
    "\n",
    "# Specify the optimizer\n",
    "optimizer = Adam(learning_rate=0.001)\n",
    "\n",
    "# Compile the model\n",
    "model.compile(optimizer=optimizer, loss='binary_crossentropy', metrics=['accuracy'])"
   ],
   "outputs": [],
   "execution_count": 6
  },
  {
   "cell_type": "markdown",
   "metadata": {
    "id": "EpdUKy5LGj2u"
   },
   "source": [
    "# Early stopping"
   ]
  },
  {
   "cell_type": "code",
   "metadata": {
    "executionInfo": {
     "elapsed": 422,
     "status": "ok",
     "timestamp": 1732855528627,
     "user": {
      "displayName": "Nureka Rodrigo",
      "userId": "00765996390309502984"
     },
     "user_tz": -330
    },
    "id": "R2SA2ETdGlcv",
    "ExecuteTime": {
     "end_time": "2025-01-12T17:04:38.689794Z",
     "start_time": "2025-01-12T17:04:38.685766Z"
    }
   },
   "source": [
    "from tensorflow.keras.callbacks import EarlyStopping\n",
    "\n",
    "early_stopping = EarlyStopping(monitor='val_loss', patience=25, restore_best_weights=True)"
   ],
   "outputs": [],
   "execution_count": 7
  },
  {
   "cell_type": "markdown",
   "metadata": {
    "id": "klGKMrAsGouO"
   },
   "source": [
    "# Fit the model"
   ]
  },
  {
   "cell_type": "code",
   "metadata": {
    "colab": {
     "base_uri": "https://localhost:8080/"
    },
    "executionInfo": {
     "elapsed": 21419,
     "status": "ok",
     "timestamp": 1732855550521,
     "user": {
      "displayName": "Nureka Rodrigo",
      "userId": "00765996390309502984"
     },
     "user_tz": -330
    },
    "id": "2zZOY9snGrUe",
    "outputId": "1d618896-a812-47f3-dfc9-8076b7eb2ec3",
    "ExecuteTime": {
     "end_time": "2025-01-12T17:04:43.436954Z",
     "start_time": "2025-01-12T17:04:38.697297Z"
    }
   },
   "source": [
    "history = model.fit(X_train, y_train, epochs=100, batch_size=64, validation_split=0.1, callbacks=[early_stopping]).history"
   ],
   "outputs": [
    {
     "name": "stdout",
     "output_type": "stream",
     "text": [
      "Epoch 1/100\n",
      "\u001B[1m12/12\u001B[0m \u001B[32m━━━━━━━━━━━━━━━━━━━━\u001B[0m\u001B[37m\u001B[0m \u001B[1m2s\u001B[0m 27ms/step - accuracy: 0.5210 - loss: 2.8184 - val_accuracy: 0.5375 - val_loss: 0.7292\n",
      "Epoch 2/100\n",
      "\u001B[1m12/12\u001B[0m \u001B[32m━━━━━━━━━━━━━━━━━━━━\u001B[0m\u001B[37m\u001B[0m \u001B[1m0s\u001B[0m 7ms/step - accuracy: 0.6193 - loss: 0.6272 - val_accuracy: 0.5250 - val_loss: 0.7168\n",
      "Epoch 3/100\n",
      "\u001B[1m12/12\u001B[0m \u001B[32m━━━━━━━━━━━━━━━━━━━━\u001B[0m\u001B[37m\u001B[0m \u001B[1m0s\u001B[0m 7ms/step - accuracy: 0.7050 - loss: 0.5572 - val_accuracy: 0.5125 - val_loss: 0.7269\n",
      "Epoch 4/100\n",
      "\u001B[1m12/12\u001B[0m \u001B[32m━━━━━━━━━━━━━━━━━━━━\u001B[0m\u001B[37m\u001B[0m \u001B[1m0s\u001B[0m 8ms/step - accuracy: 0.7362 - loss: 0.4820 - val_accuracy: 0.5625 - val_loss: 0.7344\n",
      "Epoch 5/100\n",
      "\u001B[1m12/12\u001B[0m \u001B[32m━━━━━━━━━━━━━━━━━━━━\u001B[0m\u001B[37m\u001B[0m \u001B[1m0s\u001B[0m 7ms/step - accuracy: 0.8488 - loss: 0.3621 - val_accuracy: 0.6250 - val_loss: 0.8265\n",
      "Epoch 6/100\n",
      "\u001B[1m12/12\u001B[0m \u001B[32m━━━━━━━━━━━━━━━━━━━━\u001B[0m\u001B[37m\u001B[0m \u001B[1m0s\u001B[0m 7ms/step - accuracy: 0.9328 - loss: 0.2720 - val_accuracy: 0.6250 - val_loss: 0.8499\n",
      "Epoch 7/100\n",
      "\u001B[1m12/12\u001B[0m \u001B[32m━━━━━━━━━━━━━━━━━━━━\u001B[0m\u001B[37m\u001B[0m \u001B[1m0s\u001B[0m 7ms/step - accuracy: 0.9731 - loss: 0.1994 - val_accuracy: 0.6250 - val_loss: 0.8264\n",
      "Epoch 8/100\n",
      "\u001B[1m12/12\u001B[0m \u001B[32m━━━━━━━━━━━━━━━━━━━━\u001B[0m\u001B[37m\u001B[0m \u001B[1m0s\u001B[0m 7ms/step - accuracy: 0.9793 - loss: 0.1425 - val_accuracy: 0.6500 - val_loss: 1.3487\n",
      "Epoch 9/100\n",
      "\u001B[1m12/12\u001B[0m \u001B[32m━━━━━━━━━━━━━━━━━━━━\u001B[0m\u001B[37m\u001B[0m \u001B[1m0s\u001B[0m 7ms/step - accuracy: 0.9893 - loss: 0.0945 - val_accuracy: 0.6500 - val_loss: 1.3801\n",
      "Epoch 10/100\n",
      "\u001B[1m12/12\u001B[0m \u001B[32m━━━━━━━━━━━━━━━━━━━━\u001B[0m\u001B[37m\u001B[0m \u001B[1m0s\u001B[0m 6ms/step - accuracy: 0.9869 - loss: 0.0794 - val_accuracy: 0.6000 - val_loss: 1.3456\n",
      "Epoch 11/100\n",
      "\u001B[1m12/12\u001B[0m \u001B[32m━━━━━━━━━━━━━━━━━━━━\u001B[0m\u001B[37m\u001B[0m \u001B[1m0s\u001B[0m 7ms/step - accuracy: 0.9975 - loss: 0.0532 - val_accuracy: 0.6000 - val_loss: 1.3536\n",
      "Epoch 12/100\n",
      "\u001B[1m12/12\u001B[0m \u001B[32m━━━━━━━━━━━━━━━━━━━━\u001B[0m\u001B[37m\u001B[0m \u001B[1m0s\u001B[0m 7ms/step - accuracy: 0.9997 - loss: 0.0348 - val_accuracy: 0.6000 - val_loss: 1.3831\n",
      "Epoch 13/100\n",
      "\u001B[1m12/12\u001B[0m \u001B[32m━━━━━━━━━━━━━━━━━━━━\u001B[0m\u001B[37m\u001B[0m \u001B[1m0s\u001B[0m 9ms/step - accuracy: 1.0000 - loss: 0.0243 - val_accuracy: 0.6125 - val_loss: 1.3860\n",
      "Epoch 14/100\n",
      "\u001B[1m12/12\u001B[0m \u001B[32m━━━━━━━━━━━━━━━━━━━━\u001B[0m\u001B[37m\u001B[0m \u001B[1m0s\u001B[0m 9ms/step - accuracy: 1.0000 - loss: 0.0186 - val_accuracy: 0.6000 - val_loss: 1.3876\n",
      "Epoch 15/100\n",
      "\u001B[1m12/12\u001B[0m \u001B[32m━━━━━━━━━━━━━━━━━━━━\u001B[0m\u001B[37m\u001B[0m \u001B[1m0s\u001B[0m 9ms/step - accuracy: 1.0000 - loss: 0.0119 - val_accuracy: 0.6000 - val_loss: 1.4064\n",
      "Epoch 16/100\n",
      "\u001B[1m12/12\u001B[0m \u001B[32m━━━━━━━━━━━━━━━━━━━━\u001B[0m\u001B[37m\u001B[0m \u001B[1m0s\u001B[0m 8ms/step - accuracy: 0.9987 - loss: 0.0085 - val_accuracy: 0.6000 - val_loss: 1.4514\n",
      "Epoch 17/100\n",
      "\u001B[1m12/12\u001B[0m \u001B[32m━━━━━━━━━━━━━━━━━━━━\u001B[0m\u001B[37m\u001B[0m \u001B[1m0s\u001B[0m 9ms/step - accuracy: 1.0000 - loss: 0.0068 - val_accuracy: 0.6000 - val_loss: 1.5766\n",
      "Epoch 18/100\n",
      "\u001B[1m12/12\u001B[0m \u001B[32m━━━━━━━━━━━━━━━━━━━━\u001B[0m\u001B[37m\u001B[0m \u001B[1m0s\u001B[0m 7ms/step - accuracy: 1.0000 - loss: 0.0054 - val_accuracy: 0.6000 - val_loss: 1.7537\n",
      "Epoch 19/100\n",
      "\u001B[1m12/12\u001B[0m \u001B[32m━━━━━━━━━━━━━━━━━━━━\u001B[0m\u001B[37m\u001B[0m \u001B[1m0s\u001B[0m 9ms/step - accuracy: 1.0000 - loss: 0.0035 - val_accuracy: 0.6000 - val_loss: 1.4861\n",
      "Epoch 20/100\n",
      "\u001B[1m12/12\u001B[0m \u001B[32m━━━━━━━━━━━━━━━━━━━━\u001B[0m\u001B[37m\u001B[0m \u001B[1m0s\u001B[0m 8ms/step - accuracy: 1.0000 - loss: 0.0037 - val_accuracy: 0.6375 - val_loss: 1.7626\n",
      "Epoch 21/100\n",
      "\u001B[1m12/12\u001B[0m \u001B[32m━━━━━━━━━━━━━━━━━━━━\u001B[0m\u001B[37m\u001B[0m \u001B[1m0s\u001B[0m 7ms/step - accuracy: 1.0000 - loss: 0.0025 - val_accuracy: 0.6125 - val_loss: 1.7731\n",
      "Epoch 22/100\n",
      "\u001B[1m12/12\u001B[0m \u001B[32m━━━━━━━━━━━━━━━━━━━━\u001B[0m\u001B[37m\u001B[0m \u001B[1m0s\u001B[0m 7ms/step - accuracy: 0.9989 - loss: 0.0023 - val_accuracy: 0.6125 - val_loss: 1.6962\n",
      "Epoch 23/100\n",
      "\u001B[1m12/12\u001B[0m \u001B[32m━━━━━━━━━━━━━━━━━━━━\u001B[0m\u001B[37m\u001B[0m \u001B[1m0s\u001B[0m 7ms/step - accuracy: 1.0000 - loss: 0.0015 - val_accuracy: 0.6125 - val_loss: 1.9653\n",
      "Epoch 24/100\n",
      "\u001B[1m12/12\u001B[0m \u001B[32m━━━━━━━━━━━━━━━━━━━━\u001B[0m\u001B[37m\u001B[0m \u001B[1m0s\u001B[0m 7ms/step - accuracy: 1.0000 - loss: 4.7214e-04 - val_accuracy: 0.6000 - val_loss: 1.9546\n",
      "Epoch 25/100\n",
      "\u001B[1m12/12\u001B[0m \u001B[32m━━━━━━━━━━━━━━━━━━━━\u001B[0m\u001B[37m\u001B[0m \u001B[1m0s\u001B[0m 7ms/step - accuracy: 1.0000 - loss: 3.8961e-04 - val_accuracy: 0.6000 - val_loss: 1.9728\n",
      "Epoch 26/100\n",
      "\u001B[1m12/12\u001B[0m \u001B[32m━━━━━━━━━━━━━━━━━━━━\u001B[0m\u001B[37m\u001B[0m \u001B[1m0s\u001B[0m 7ms/step - accuracy: 1.0000 - loss: 2.2339e-04 - val_accuracy: 0.6250 - val_loss: 1.9808\n",
      "Epoch 27/100\n",
      "\u001B[1m12/12\u001B[0m \u001B[32m━━━━━━━━━━━━━━━━━━━━\u001B[0m\u001B[37m\u001B[0m \u001B[1m0s\u001B[0m 7ms/step - accuracy: 1.0000 - loss: 2.2902e-04 - val_accuracy: 0.6125 - val_loss: 2.0040\n"
     ]
    }
   ],
   "execution_count": 8
  },
  {
   "cell_type": "markdown",
   "metadata": {
    "id": "LawJaBHqHL-B"
   },
   "source": [
    "# Evaluate the model"
   ]
  },
  {
   "cell_type": "code",
   "metadata": {
    "colab": {
     "base_uri": "https://localhost:8080/"
    },
    "executionInfo": {
     "elapsed": 15,
     "status": "ok",
     "timestamp": 1732855550521,
     "user": {
      "displayName": "Nureka Rodrigo",
      "userId": "00765996390309502984"
     },
     "user_tz": -330
    },
    "id": "oSGTseatHOXh",
    "outputId": "a295b8d1-e7bb-468a-b371-204774643066",
    "ExecuteTime": {
     "end_time": "2025-01-12T17:04:43.534802Z",
     "start_time": "2025-01-12T17:04:43.445989Z"
    }
   },
   "source": [
    "loss, accuracy = model.evaluate(X_test, y_test)\n",
    "\n",
    "print(f\"Test accuracy: {accuracy:.4f}\")\n",
    "print(f\"Test loss: {loss:.4f}\")"
   ],
   "outputs": [
    {
     "name": "stdout",
     "output_type": "stream",
     "text": [
      "\u001B[1m7/7\u001B[0m \u001B[32m━━━━━━━━━━━━━━━━━━━━\u001B[0m\u001B[37m\u001B[0m \u001B[1m0s\u001B[0m 5ms/step - accuracy: 0.5186 - loss: 0.7954 \n",
      "Test accuracy: 0.4950\n",
      "Test loss: 0.8328\n"
     ]
    }
   ],
   "execution_count": 9
  },
  {
   "cell_type": "markdown",
   "metadata": {
    "id": "mBt9BOSSHSvP"
   },
   "source": [
    "# Plot the training & validation loss"
   ]
  },
  {
   "cell_type": "code",
   "metadata": {
    "colab": {
     "base_uri": "https://localhost:8080/",
     "height": 607
    },
    "executionInfo": {
     "elapsed": 991,
     "status": "ok",
     "timestamp": 1732855555739,
     "user": {
      "displayName": "Nureka Rodrigo",
      "userId": "00765996390309502984"
     },
     "user_tz": -330
    },
    "id": "wIQLaAY2HVv-",
    "outputId": "0adbab63-ee91-46b2-f398-00de63bda5ee",
    "ExecuteTime": {
     "end_time": "2025-01-12T17:04:44.174086Z",
     "start_time": "2025-01-12T17:04:43.543135Z"
    }
   },
   "source": [
    "import matplotlib.pyplot as plt\n",
    "\n",
    "plt.plot(history['loss'], label='Training Loss')\n",
    "plt.plot(history['val_loss'], label='Validation Loss')\n",
    "plt.title('Loss over Epochs')\n",
    "plt.xlabel('Epochs')\n",
    "plt.ylabel('Loss')\n",
    "plt.legend()\n",
    "plt.show()"
   ],
   "outputs": [
    {
     "data": {
      "text/plain": [
       "<Figure size 640x480 with 1 Axes>"
      ],
      "image/png": "[encoded data removed]"
     },
     "metadata": {},
     "output_type": "display_data"
    }
   ],
   "execution_count": 10
  },
  {
   "metadata": {},
   "cell_type": "markdown",
   "source": "# Plot the training & validation accuracy"
  },
  {
   "metadata": {
    "colab": {
     "base_uri": "https://localhost:8080/",
     "height": 607
    },
    "executionInfo": {
     "elapsed": 612,
     "status": "ok",
     "timestamp": 1732855558705,
     "user": {
      "displayName": "Nureka Rodrigo",
      "userId": "00765996390309502984"
     },
     "user_tz": -330
    },
    "id": "9-f6wrrJHeJ2",
    "outputId": "38abdd2f-8332-4306-bfa2-b2f424bcf5ce",
    "ExecuteTime": {
     "end_time": "2025-01-12T17:04:44.255056Z",
     "start_time": "2025-01-12T17:04:44.183358Z"
    }
   },
   "cell_type": "code",
   "source": [
    "import matplotlib.pyplot as plt\n",
    "\n",
    "plt.plot(history['accuracy'], label='Training Accuracy')\n",
    "plt.plot(history['val_accuracy'], label='Validation Accuracy')\n",
    "plt.title('Accuracy over Epochs')\n",
    "plt.xlabel('Epochs')\n",
    "plt.ylabel('Accuracy')\n",
    "plt.legend()\n",
    "plt.show()"
   ],
   "outputs": [
    {
     "data": {
      "text/plain": [
       "<Figure size 640x480 with 1 Axes>"
      ],
      "image/png": "[encoded data removed]"
     },
     "metadata": {},
     "output_type": "display_data"
    }
   ],
   "execution_count": 11
  }
 ],
 "metadata": {
  "colab": {
   "authorship_tag": "ABX9TyPEvza0p5ZbuOot1FoKV04K",
   "provenance": []
  },
  "kernelspec": {
   "display_name": ".venv",
   "language": "python",
   "name": "python3"
  },
  "language_info": {
   "codemirror_mode": {
    "name": "ipython",
    "version": 3
   },
   "file_extension": ".py",
   "mimetype": "text/x-python",
   "name": "python",
   "nbconvert_exporter": "python",
   "pygments_lexer": "ipython3",
   "version": "3.12.3"
  }
 },
 "nbformat": 4,
 "nbformat_minor": 0
}
