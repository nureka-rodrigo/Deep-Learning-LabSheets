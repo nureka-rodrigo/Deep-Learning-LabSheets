{
 "nbformat": 4,
 "nbformat_minor": 0,
 "metadata": {
  "colab": {
   "provenance": [],
   "authorship_tag": "ABX9TyOizDaPICqXmCAEN4c7qCqi"
  },
  "kernelspec": {
   "name": "python3",
   "display_name": "Python 3 (ipykernel)",
   "language": "python"
  },
  "language_info": {
   "name": "python"
  }
 },
 "cells": [
  {
   "cell_type": "markdown",
   "source": [
    "# Load the dataset\n"
   ],
   "metadata": {
    "id": "-VuJDE6wR_rq"
   }
  },
  {
   "cell_type": "code",
   "metadata": {
    "id": "AHLEX-mtNuJw",
    "colab": {
     "base_uri": "https://localhost:8080/",
     "height": 206
    },
    "executionInfo": {
     "status": "ok",
     "timestamp": 1732856127558,
     "user_tz": -330,
     "elapsed": 470,
     "user": {
      "displayName": "Nureka Rodrigo",
      "userId": "00765996390309502984"
     }
    },
    "outputId": "ae8c73b5-9ef5-4692-f572-87c8eab93d9c",
    "ExecuteTime": {
     "end_time": "2025-01-12T16:53:56.230787Z",
     "start_time": "2025-01-12T16:53:56.222359Z"
    }
   },
   "source": [
    "import pandas as pd\n",
    "\n",
    "df = pd.read_csv(\"data/temp_data.csv\")\n",
    "df.head()"
   ],
   "outputs": [
    {
     "data": {
      "text/plain": [
       "         Date  Temp\n",
       "0  1981-01-01  20.7\n",
       "1  1981-01-02  17.9\n",
       "2  1981-01-03  18.8\n",
       "3  1981-01-04  14.6\n",
       "4  1981-01-05  15.8"
      ],
      "text/html": [
       "<div>\n",
       "<style scoped>\n",
       "    .dataframe tbody tr th:only-of-type {\n",
       "        vertical-align: middle;\n",
       "    }\n",
       "\n",
       "    .dataframe tbody tr th {\n",
       "        vertical-align: top;\n",
       "    }\n",
       "\n",
       "    .dataframe thead th {\n",
       "        text-align: right;\n",
       "    }\n",
       "</style>\n",
       "<table border=\"1\" class=\"dataframe\">\n",
       "  <thead>\n",
       "    <tr style=\"text-align: right;\">\n",
       "      <th></th>\n",
       "      <th>Date</th>\n",
       "      <th>Temp</th>\n",
       "    </tr>\n",
       "  </thead>\n",
       "  <tbody>\n",
       "    <tr>\n",
       "      <th>0</th>\n",
       "      <td>1981-01-01</td>\n",
       "      <td>20.7</td>\n",
       "    </tr>\n",
       "    <tr>\n",
       "      <th>1</th>\n",
       "      <td>1981-01-02</td>\n",
       "      <td>17.9</td>\n",
       "    </tr>\n",
       "    <tr>\n",
       "      <th>2</th>\n",
       "      <td>1981-01-03</td>\n",
       "      <td>18.8</td>\n",
       "    </tr>\n",
       "    <tr>\n",
       "      <th>3</th>\n",
       "      <td>1981-01-04</td>\n",
       "      <td>14.6</td>\n",
       "    </tr>\n",
       "    <tr>\n",
       "      <th>4</th>\n",
       "      <td>1981-01-05</td>\n",
       "      <td>15.8</td>\n",
       "    </tr>\n",
       "  </tbody>\n",
       "</table>\n",
       "</div>"
      ]
     },
     "execution_count": 12,
     "metadata": {},
     "output_type": "execute_result"
    }
   ],
   "execution_count": 12
  },
  {
   "metadata": {},
   "cell_type": "markdown",
   "source": "# Preprocess the data"
  },
  {
   "cell_type": "code",
   "source": [
    "from sklearn.preprocessing import MinMaxScaler\n",
    "\n",
    "scaler = MinMaxScaler()\n",
    "temp = scaler.fit_transform(df[['Temp']])"
   ],
   "metadata": {
    "id": "qJz90cvdSFa4",
    "executionInfo": {
     "status": "ok",
     "timestamp": 1732856773818,
     "user_tz": -330,
     "elapsed": 369,
     "user": {
      "displayName": "Nureka Rodrigo",
      "userId": "00765996390309502984"
     }
    },
    "ExecuteTime": {
     "end_time": "2025-01-12T16:53:56.269624Z",
     "start_time": "2025-01-12T16:53:56.263624Z"
    }
   },
   "outputs": [],
   "execution_count": 13
  },
  {
   "cell_type": "code",
   "source": [
    "import numpy as np\n",
    "\n",
    "seq_length = 3\n",
    "\n",
    "def create_sequences(data, seq_length):\n",
    "    X, y = [], []\n",
    "    for i in range(len(data) - seq_length):\n",
    "        X.append(data[i:i+seq_length])\n",
    "        y.append(data[i+seq_length])\n",
    "    return np.array(X), np.array(y)\n",
    "\n",
    "X, y = create_sequences(temp, seq_length)"
   ],
   "metadata": {
    "id": "UInwiW2cTO3J",
    "executionInfo": {
     "status": "ok",
     "timestamp": 1732857415298,
     "user_tz": -330,
     "elapsed": 433,
     "user": {
      "displayName": "Nureka Rodrigo",
      "userId": "00765996390309502984"
     }
    },
    "ExecuteTime": {
     "end_time": "2025-01-12T16:53:56.313350Z",
     "start_time": "2025-01-12T16:53:56.306959Z"
    }
   },
   "outputs": [],
   "execution_count": 14
  },
  {
   "metadata": {},
   "cell_type": "markdown",
   "source": "# Split the dataset into training and testing sets"
  },
  {
   "cell_type": "code",
   "source": [
    "from sklearn.model_selection import train_test_split\n",
    "\n",
    "X_train, X_test, y_train, y_test = train_test_split(X, y, test_size=0.2, shuffle=False)\n",
    "\n",
    "# Reshape the X_train, X_test\n",
    "X_train = np.reshape(X_train, (X_train.shape[0], X_train.shape[1], 1))\n",
    "X_test = np.reshape(X_test, (X_test.shape[0], X_test.shape[1], 1))\n",
    "\n",
    "print(\"X_train shape:\", X_train.shape)\n",
    "print(\"y_train shape:\", y_train.shape)\n",
    "print(\"X_test shape:\", X_test.shape)\n",
    "print(\"y_test shape:\", y_test.shape)"
   ],
   "metadata": {
    "colab": {
     "base_uri": "https://localhost:8080/"
    },
    "id": "Tw7RTDGnUonZ",
    "executionInfo": {
     "status": "ok",
     "timestamp": 1732857469791,
     "user_tz": -330,
     "elapsed": 369,
     "user": {
      "displayName": "Nureka Rodrigo",
      "userId": "00765996390309502984"
     }
    },
    "outputId": "98126a2c-856e-4083-86f6-2a1cd5907a11",
    "ExecuteTime": {
     "end_time": "2025-01-12T16:53:56.372450Z",
     "start_time": "2025-01-12T16:53:56.368279Z"
    }
   },
   "outputs": [
    {
     "name": "stdout",
     "output_type": "stream",
     "text": [
      "X_train shape: (2917, 3, 1)\n",
      "y_train shape: (2917, 1)\n",
      "X_test shape: (730, 3, 1)\n",
      "y_test shape: (730, 1)\n"
     ]
    }
   ],
   "execution_count": 15
  },
  {
   "metadata": {},
   "cell_type": "markdown",
   "source": "# Create the neural network model using vanilla"
  },
  {
   "cell_type": "code",
   "source": [
    "from tensorflow.keras.models import Sequential\n",
    "from tensorflow.keras.layers import SimpleRNN, Dense\n",
    "from tensorflow.keras.optimizers import Adam\n",
    "\n",
    "model = Sequential()\n",
    "model.add(SimpleRNN(8))\n",
    "model.add(Dense(1))\n",
    "\n",
    "# Specify the optimizer\n",
    "optimizer = Adam(learning_rate=0.001)\n",
    "\n",
    "# Compile the model\n",
    "model.compile(optimizer=optimizer, loss='mse')"
   ],
   "metadata": {
    "id": "qtlvwyrZVQ06",
    "executionInfo": {
     "status": "ok",
     "timestamp": 1732857510007,
     "user_tz": -330,
     "elapsed": 385,
     "user": {
      "displayName": "Nureka Rodrigo",
      "userId": "00765996390309502984"
     }
    },
    "ExecuteTime": {
     "end_time": "2025-01-12T16:53:56.399770Z",
     "start_time": "2025-01-12T16:53:56.389471Z"
    }
   },
   "outputs": [],
   "execution_count": 16
  },
  {
   "metadata": {},
   "cell_type": "markdown",
   "source": "# Early stopping"
  },
  {
   "cell_type": "code",
   "source": [
    "from tensorflow.keras.callbacks import EarlyStopping\n",
    "\n",
    "early_stopping = EarlyStopping(monitor='val_loss', patience=25, restore_best_weights=True)"
   ],
   "metadata": {
    "id": "-Mz1LEvEW1O6",
    "executionInfo": {
     "status": "ok",
     "timestamp": 1732857601386,
     "user_tz": -330,
     "elapsed": 3,
     "user": {
      "displayName": "Nureka Rodrigo",
      "userId": "00765996390309502984"
     }
    },
    "ExecuteTime": {
     "end_time": "2025-01-12T16:53:56.426754Z",
     "start_time": "2025-01-12T16:53:56.422884Z"
    }
   },
   "outputs": [],
   "execution_count": 17
  },
  {
   "cell_type": "code",
   "source": "history = model.fit(X_train, y_train, epochs=100, batch_size=16, validation_split=0.1, callbacks=[early_stopping]).history",
   "metadata": {
    "colab": {
     "base_uri": "https://localhost:8080/"
    },
    "id": "6Yam_ETrW23h",
    "executionInfo": {
     "status": "ok",
     "timestamp": 1732857655006,
     "user_tz": -330,
     "elapsed": 53208,
     "user": {
      "displayName": "Nureka Rodrigo",
      "userId": "00765996390309502984"
     }
    },
    "outputId": "e63ad074-32b3-40b4-abfa-4f57cfc67e1b",
    "ExecuteTime": {
     "end_time": "2025-01-12T16:54:14.598994Z",
     "start_time": "2025-01-12T16:53:56.448308Z"
    }
   },
   "outputs": [
    {
     "name": "stdout",
     "output_type": "stream",
     "text": [
      "Epoch 1/100\n",
      "\u001B[1m165/165\u001B[0m \u001B[32m━━━━━━━━━━━━━━━━━━━━\u001B[0m\u001B[37m\u001B[0m \u001B[1m1s\u001B[0m 2ms/step - loss: 1.0087 - val_loss: 0.0397\n",
      "Epoch 2/100\n",
      "\u001B[1m165/165\u001B[0m \u001B[32m━━━━━━━━━━━━━━━━━━━━\u001B[0m\u001B[37m\u001B[0m \u001B[1m0s\u001B[0m 929us/step - loss: 0.0478 - val_loss: 0.0303\n",
      "Epoch 3/100\n",
      "\u001B[1m165/165\u001B[0m \u001B[32m━━━━━━━━━━━━━━━━━━━━\u001B[0m\u001B[37m\u001B[0m \u001B[1m0s\u001B[0m 899us/step - loss: 0.0375 - val_loss: 0.0237\n",
      "Epoch 4/100\n",
      "\u001B[1m165/165\u001B[0m \u001B[32m━━━━━━━━━━━━━━━━━━━━\u001B[0m\u001B[37m\u001B[0m \u001B[1m0s\u001B[0m 878us/step - loss: 0.0270 - val_loss: 0.0198\n",
      "Epoch 5/100\n",
      "\u001B[1m165/165\u001B[0m \u001B[32m━━━━━━━━━━━━━━━━━━━━\u001B[0m\u001B[37m\u001B[0m \u001B[1m0s\u001B[0m 1ms/step - loss: 0.0225 - val_loss: 0.0176\n",
      "Epoch 6/100\n",
      "\u001B[1m165/165\u001B[0m \u001B[32m━━━━━━━━━━━━━━━━━━━━\u001B[0m\u001B[37m\u001B[0m \u001B[1m0s\u001B[0m 983us/step - loss: 0.0191 - val_loss: 0.0158\n",
      "Epoch 7/100\n",
      "\u001B[1m165/165\u001B[0m \u001B[32m━━━━━━━━━━━━━━━━━━━━\u001B[0m\u001B[37m\u001B[0m \u001B[1m0s\u001B[0m 1ms/step - loss: 0.0164 - val_loss: 0.0146\n",
      "Epoch 8/100\n",
      "\u001B[1m165/165\u001B[0m \u001B[32m━━━━━━━━━━━━━━━━━━━━\u001B[0m\u001B[37m\u001B[0m \u001B[1m0s\u001B[0m 991us/step - loss: 0.0146 - val_loss: 0.0135\n",
      "Epoch 9/100\n",
      "\u001B[1m165/165\u001B[0m \u001B[32m━━━━━━━━━━━━━━━━━━━━\u001B[0m\u001B[37m\u001B[0m \u001B[1m0s\u001B[0m 850us/step - loss: 0.0136 - val_loss: 0.0127\n",
      "Epoch 10/100\n",
      "\u001B[1m165/165\u001B[0m \u001B[32m━━━━━━━━━━━━━━━━━━━━\u001B[0m\u001B[37m\u001B[0m \u001B[1m0s\u001B[0m 976us/step - loss: 0.0132 - val_loss: 0.0117\n",
      "Epoch 11/100\n",
      "\u001B[1m165/165\u001B[0m \u001B[32m━━━━━━━━━━━━━━━━━━━━\u001B[0m\u001B[37m\u001B[0m \u001B[1m0s\u001B[0m 981us/step - loss: 0.0117 - val_loss: 0.0111\n",
      "Epoch 12/100\n",
      "\u001B[1m165/165\u001B[0m \u001B[32m━━━━━━━━━━━━━━━━━━━━\u001B[0m\u001B[37m\u001B[0m \u001B[1m0s\u001B[0m 878us/step - loss: 0.0115 - val_loss: 0.0105\n",
      "Epoch 13/100\n",
      "\u001B[1m165/165\u001B[0m \u001B[32m━━━━━━━━━━━━━━━━━━━━\u001B[0m\u001B[37m\u001B[0m \u001B[1m0s\u001B[0m 1ms/step - loss: 0.0107 - val_loss: 0.0101\n",
      "Epoch 14/100\n",
      "\u001B[1m165/165\u001B[0m \u001B[32m━━━━━━━━━━━━━━━━━━━━\u001B[0m\u001B[37m\u001B[0m \u001B[1m0s\u001B[0m 897us/step - loss: 0.0100 - val_loss: 0.0101\n",
      "Epoch 15/100\n",
      "\u001B[1m165/165\u001B[0m \u001B[32m━━━━━━━━━━━━━━━━━━━━\u001B[0m\u001B[37m\u001B[0m \u001B[1m0s\u001B[0m 1ms/step - loss: 0.0100 - val_loss: 0.0099\n",
      "Epoch 16/100\n",
      "\u001B[1m165/165\u001B[0m \u001B[32m━━━━━━━━━━━━━━━━━━━━\u001B[0m\u001B[37m\u001B[0m \u001B[1m0s\u001B[0m 885us/step - loss: 0.0095 - val_loss: 0.0102\n",
      "Epoch 17/100\n",
      "\u001B[1m165/165\u001B[0m \u001B[32m━━━━━━━━━━━━━━━━━━━━\u001B[0m\u001B[37m\u001B[0m \u001B[1m0s\u001B[0m 873us/step - loss: 0.0104 - val_loss: 0.0098\n",
      "Epoch 18/100\n",
      "\u001B[1m165/165\u001B[0m \u001B[32m━━━━━━━━━━━━━━━━━━━━\u001B[0m\u001B[37m\u001B[0m \u001B[1m0s\u001B[0m 948us/step - loss: 0.0096 - val_loss: 0.0099\n",
      "Epoch 19/100\n",
      "\u001B[1m165/165\u001B[0m \u001B[32m━━━━━━━━━━━━━━━━━━━━\u001B[0m\u001B[37m\u001B[0m \u001B[1m0s\u001B[0m 918us/step - loss: 0.0100 - val_loss: 0.0100\n",
      "Epoch 20/100\n",
      "\u001B[1m165/165\u001B[0m \u001B[32m━━━━━━━━━━━━━━━━━━━━\u001B[0m\u001B[37m\u001B[0m \u001B[1m0s\u001B[0m 882us/step - loss: 0.0091 - val_loss: 0.0106\n",
      "Epoch 21/100\n",
      "\u001B[1m165/165\u001B[0m \u001B[32m━━━━━━━━━━━━━━━━━━━━\u001B[0m\u001B[37m\u001B[0m \u001B[1m0s\u001B[0m 854us/step - loss: 0.0097 - val_loss: 0.0099\n",
      "Epoch 22/100\n",
      "\u001B[1m165/165\u001B[0m \u001B[32m━━━━━━━━━━━━━━━━━━━━\u001B[0m\u001B[37m\u001B[0m \u001B[1m0s\u001B[0m 919us/step - loss: 0.0097 - val_loss: 0.0099\n",
      "Epoch 23/100\n",
      "\u001B[1m165/165\u001B[0m \u001B[32m━━━━━━━━━━━━━━━━━━━━\u001B[0m\u001B[37m\u001B[0m \u001B[1m0s\u001B[0m 958us/step - loss: 0.0093 - val_loss: 0.0100\n",
      "Epoch 24/100\n",
      "\u001B[1m165/165\u001B[0m \u001B[32m━━━━━━━━━━━━━━━━━━━━\u001B[0m\u001B[37m\u001B[0m \u001B[1m0s\u001B[0m 903us/step - loss: 0.0101 - val_loss: 0.0100\n",
      "Epoch 25/100\n",
      "\u001B[1m165/165\u001B[0m \u001B[32m━━━━━━━━━━━━━━━━━━━━\u001B[0m\u001B[37m\u001B[0m \u001B[1m0s\u001B[0m 894us/step - loss: 0.0097 - val_loss: 0.0100\n",
      "Epoch 26/100\n",
      "\u001B[1m165/165\u001B[0m \u001B[32m━━━━━━━━━━━━━━━━━━━━\u001B[0m\u001B[37m\u001B[0m \u001B[1m0s\u001B[0m 909us/step - loss: 0.0094 - val_loss: 0.0099\n",
      "Epoch 27/100\n",
      "\u001B[1m165/165\u001B[0m \u001B[32m━━━━━━━━━━━━━━━━━━━━\u001B[0m\u001B[37m\u001B[0m \u001B[1m0s\u001B[0m 864us/step - loss: 0.0097 - val_loss: 0.0098\n",
      "Epoch 28/100\n",
      "\u001B[1m165/165\u001B[0m \u001B[32m━━━━━━━━━━━━━━━━━━━━\u001B[0m\u001B[37m\u001B[0m \u001B[1m0s\u001B[0m 988us/step - loss: 0.0102 - val_loss: 0.0099\n",
      "Epoch 29/100\n",
      "\u001B[1m165/165\u001B[0m \u001B[32m━━━━━━━━━━━━━━━━━━━━\u001B[0m\u001B[37m\u001B[0m \u001B[1m0s\u001B[0m 881us/step - loss: 0.0094 - val_loss: 0.0099\n",
      "Epoch 30/100\n",
      "\u001B[1m165/165\u001B[0m \u001B[32m━━━━━━━━━━━━━━━━━━━━\u001B[0m\u001B[37m\u001B[0m \u001B[1m0s\u001B[0m 901us/step - loss: 0.0100 - val_loss: 0.0099\n",
      "Epoch 31/100\n",
      "\u001B[1m165/165\u001B[0m \u001B[32m━━━━━━━━━━━━━━━━━━━━\u001B[0m\u001B[37m\u001B[0m \u001B[1m0s\u001B[0m 950us/step - loss: 0.0099 - val_loss: 0.0105\n",
      "Epoch 32/100\n",
      "\u001B[1m165/165\u001B[0m \u001B[32m━━━━━━━━━━━━━━━━━━━━\u001B[0m\u001B[37m\u001B[0m \u001B[1m0s\u001B[0m 951us/step - loss: 0.0095 - val_loss: 0.0099\n",
      "Epoch 33/100\n",
      "\u001B[1m165/165\u001B[0m \u001B[32m━━━━━━━━━━━━━━━━━━━━\u001B[0m\u001B[37m\u001B[0m \u001B[1m0s\u001B[0m 921us/step - loss: 0.0093 - val_loss: 0.0099\n",
      "Epoch 34/100\n",
      "\u001B[1m165/165\u001B[0m \u001B[32m━━━━━━━━━━━━━━━━━━━━\u001B[0m\u001B[37m\u001B[0m \u001B[1m0s\u001B[0m 915us/step - loss: 0.0099 - val_loss: 0.0103\n",
      "Epoch 35/100\n",
      "\u001B[1m165/165\u001B[0m \u001B[32m━━━━━━━━━━━━━━━━━━━━\u001B[0m\u001B[37m\u001B[0m \u001B[1m0s\u001B[0m 923us/step - loss: 0.0095 - val_loss: 0.0100\n",
      "Epoch 36/100\n",
      "\u001B[1m165/165\u001B[0m \u001B[32m━━━━━━━━━━━━━━━━━━━━\u001B[0m\u001B[37m\u001B[0m \u001B[1m0s\u001B[0m 868us/step - loss: 0.0097 - val_loss: 0.0098\n",
      "Epoch 37/100\n",
      "\u001B[1m165/165\u001B[0m \u001B[32m━━━━━━━━━━━━━━━━━━━━\u001B[0m\u001B[37m\u001B[0m \u001B[1m0s\u001B[0m 948us/step - loss: 0.0097 - val_loss: 0.0102\n",
      "Epoch 38/100\n",
      "\u001B[1m165/165\u001B[0m \u001B[32m━━━━━━━━━━━━━━━━━━━━\u001B[0m\u001B[37m\u001B[0m \u001B[1m0s\u001B[0m 927us/step - loss: 0.0094 - val_loss: 0.0099\n",
      "Epoch 39/100\n",
      "\u001B[1m165/165\u001B[0m \u001B[32m━━━━━━━━━━━━━━━━━━━━\u001B[0m\u001B[37m\u001B[0m \u001B[1m0s\u001B[0m 862us/step - loss: 0.0095 - val_loss: 0.0104\n",
      "Epoch 40/100\n",
      "\u001B[1m165/165\u001B[0m \u001B[32m━━━━━━━━━━━━━━━━━━━━\u001B[0m\u001B[37m\u001B[0m \u001B[1m0s\u001B[0m 920us/step - loss: 0.0094 - val_loss: 0.0099\n",
      "Epoch 41/100\n",
      "\u001B[1m165/165\u001B[0m \u001B[32m━━━━━━━━━━━━━━━━━━━━\u001B[0m\u001B[37m\u001B[0m \u001B[1m0s\u001B[0m 866us/step - loss: 0.0093 - val_loss: 0.0099\n",
      "Epoch 42/100\n",
      "\u001B[1m165/165\u001B[0m \u001B[32m━━━━━━━━━━━━━━━━━━━━\u001B[0m\u001B[37m\u001B[0m \u001B[1m0s\u001B[0m 902us/step - loss: 0.0097 - val_loss: 0.0106\n",
      "Epoch 43/100\n",
      "\u001B[1m165/165\u001B[0m \u001B[32m━━━━━━━━━━━━━━━━━━━━\u001B[0m\u001B[37m\u001B[0m \u001B[1m0s\u001B[0m 920us/step - loss: 0.0095 - val_loss: 0.0099\n",
      "Epoch 44/100\n",
      "\u001B[1m165/165\u001B[0m \u001B[32m━━━━━━━━━━━━━━━━━━━━\u001B[0m\u001B[37m\u001B[0m \u001B[1m0s\u001B[0m 974us/step - loss: 0.0092 - val_loss: 0.0099\n",
      "Epoch 45/100\n",
      "\u001B[1m165/165\u001B[0m \u001B[32m━━━━━━━━━━━━━━━━━━━━\u001B[0m\u001B[37m\u001B[0m \u001B[1m0s\u001B[0m 1ms/step - loss: 0.0101 - val_loss: 0.0098\n",
      "Epoch 46/100\n",
      "\u001B[1m165/165\u001B[0m \u001B[32m━━━━━━━━━━━━━━━━━━━━\u001B[0m\u001B[37m\u001B[0m \u001B[1m0s\u001B[0m 1ms/step - loss: 0.0096 - val_loss: 0.0111\n",
      "Epoch 47/100\n",
      "\u001B[1m165/165\u001B[0m \u001B[32m━━━━━━━━━━━━━━━━━━━━\u001B[0m\u001B[37m\u001B[0m \u001B[1m0s\u001B[0m 989us/step - loss: 0.0094 - val_loss: 0.0099\n",
      "Epoch 48/100\n",
      "\u001B[1m165/165\u001B[0m \u001B[32m━━━━━━━━━━━━━━━━━━━━\u001B[0m\u001B[37m\u001B[0m \u001B[1m0s\u001B[0m 858us/step - loss: 0.0095 - val_loss: 0.0099\n",
      "Epoch 49/100\n",
      "\u001B[1m165/165\u001B[0m \u001B[32m━━━━━━━━━━━━━━━━━━━━\u001B[0m\u001B[37m\u001B[0m \u001B[1m0s\u001B[0m 858us/step - loss: 0.0092 - val_loss: 0.0100\n",
      "Epoch 50/100\n",
      "\u001B[1m165/165\u001B[0m \u001B[32m━━━━━━━━━━━━━━━━━━━━\u001B[0m\u001B[37m\u001B[0m \u001B[1m0s\u001B[0m 872us/step - loss: 0.0098 - val_loss: 0.0106\n",
      "Epoch 51/100\n",
      "\u001B[1m165/165\u001B[0m \u001B[32m━━━━━━━━━━━━━━━━━━━━\u001B[0m\u001B[37m\u001B[0m \u001B[1m0s\u001B[0m 950us/step - loss: 0.0098 - val_loss: 0.0100\n",
      "Epoch 52/100\n",
      "\u001B[1m165/165\u001B[0m \u001B[32m━━━━━━━━━━━━━━━━━━━━\u001B[0m\u001B[37m\u001B[0m \u001B[1m0s\u001B[0m 822us/step - loss: 0.0097 - val_loss: 0.0101\n",
      "Epoch 53/100\n",
      "\u001B[1m165/165\u001B[0m \u001B[32m━━━━━━━━━━━━━━━━━━━━\u001B[0m\u001B[37m\u001B[0m \u001B[1m0s\u001B[0m 868us/step - loss: 0.0094 - val_loss: 0.0099\n",
      "Epoch 54/100\n",
      "\u001B[1m165/165\u001B[0m \u001B[32m━━━━━━━━━━━━━━━━━━━━\u001B[0m\u001B[37m\u001B[0m \u001B[1m0s\u001B[0m 875us/step - loss: 0.0091 - val_loss: 0.0111\n",
      "Epoch 55/100\n",
      "\u001B[1m165/165\u001B[0m \u001B[32m━━━━━━━━━━━━━━━━━━━━\u001B[0m\u001B[37m\u001B[0m \u001B[1m0s\u001B[0m 896us/step - loss: 0.0100 - val_loss: 0.0099\n",
      "Epoch 56/100\n",
      "\u001B[1m165/165\u001B[0m \u001B[32m━━━━━━━━━━━━━━━━━━━━\u001B[0m\u001B[37m\u001B[0m \u001B[1m0s\u001B[0m 897us/step - loss: 0.0096 - val_loss: 0.0098\n",
      "Epoch 57/100\n",
      "\u001B[1m165/165\u001B[0m \u001B[32m━━━━━━━━━━━━━━━━━━━━\u001B[0m\u001B[37m\u001B[0m \u001B[1m0s\u001B[0m 941us/step - loss: 0.0098 - val_loss: 0.0106\n",
      "Epoch 58/100\n",
      "\u001B[1m165/165\u001B[0m \u001B[32m━━━━━━━━━━━━━━━━━━━━\u001B[0m\u001B[37m\u001B[0m \u001B[1m0s\u001B[0m 951us/step - loss: 0.0096 - val_loss: 0.0100\n",
      "Epoch 59/100\n",
      "\u001B[1m165/165\u001B[0m \u001B[32m━━━━━━━━━━━━━━━━━━━━\u001B[0m\u001B[37m\u001B[0m \u001B[1m0s\u001B[0m 906us/step - loss: 0.0097 - val_loss: 0.0099\n",
      "Epoch 60/100\n",
      "\u001B[1m165/165\u001B[0m \u001B[32m━━━━━━━━━━━━━━━━━━━━\u001B[0m\u001B[37m\u001B[0m \u001B[1m0s\u001B[0m 931us/step - loss: 0.0094 - val_loss: 0.0101\n",
      "Epoch 61/100\n",
      "\u001B[1m165/165\u001B[0m \u001B[32m━━━━━━━━━━━━━━━━━━━━\u001B[0m\u001B[37m\u001B[0m \u001B[1m0s\u001B[0m 862us/step - loss: 0.0098 - val_loss: 0.0098\n",
      "Epoch 62/100\n",
      "\u001B[1m165/165\u001B[0m \u001B[32m━━━━━━━━━━━━━━━━━━━━\u001B[0m\u001B[37m\u001B[0m \u001B[1m0s\u001B[0m 835us/step - loss: 0.0092 - val_loss: 0.0100\n",
      "Epoch 63/100\n",
      "\u001B[1m165/165\u001B[0m \u001B[32m━━━━━━━━━━━━━━━━━━━━\u001B[0m\u001B[37m\u001B[0m \u001B[1m0s\u001B[0m 932us/step - loss: 0.0094 - val_loss: 0.0098\n",
      "Epoch 64/100\n",
      "\u001B[1m165/165\u001B[0m \u001B[32m━━━━━━━━━━━━━━━━━━━━\u001B[0m\u001B[37m\u001B[0m \u001B[1m0s\u001B[0m 853us/step - loss: 0.0098 - val_loss: 0.0099\n",
      "Epoch 65/100\n",
      "\u001B[1m165/165\u001B[0m \u001B[32m━━━━━━━━━━━━━━━━━━━━\u001B[0m\u001B[37m\u001B[0m \u001B[1m0s\u001B[0m 888us/step - loss: 0.0099 - val_loss: 0.0104\n",
      "Epoch 66/100\n",
      "\u001B[1m165/165\u001B[0m \u001B[32m━━━━━━━━━━━━━━━━━━━━\u001B[0m\u001B[37m\u001B[0m \u001B[1m0s\u001B[0m 887us/step - loss: 0.0097 - val_loss: 0.0098\n",
      "Epoch 67/100\n",
      "\u001B[1m165/165\u001B[0m \u001B[32m━━━━━━━━━━━━━━━━━━━━\u001B[0m\u001B[37m\u001B[0m \u001B[1m0s\u001B[0m 857us/step - loss: 0.0092 - val_loss: 0.0099\n",
      "Epoch 68/100\n",
      "\u001B[1m165/165\u001B[0m \u001B[32m━━━━━━━━━━━━━━━━━━━━\u001B[0m\u001B[37m\u001B[0m \u001B[1m0s\u001B[0m 907us/step - loss: 0.0095 - val_loss: 0.0099\n",
      "Epoch 69/100\n",
      "\u001B[1m165/165\u001B[0m \u001B[32m━━━━━━━━━━━━━━━━━━━━\u001B[0m\u001B[37m\u001B[0m \u001B[1m0s\u001B[0m 927us/step - loss: 0.0097 - val_loss: 0.0103\n",
      "Epoch 70/100\n",
      "\u001B[1m165/165\u001B[0m \u001B[32m━━━━━━━━━━━━━━━━━━━━\u001B[0m\u001B[37m\u001B[0m \u001B[1m0s\u001B[0m 851us/step - loss: 0.0098 - val_loss: 0.0099\n",
      "Epoch 71/100\n",
      "\u001B[1m165/165\u001B[0m \u001B[32m━━━━━━━━━━━━━━━━━━━━\u001B[0m\u001B[37m\u001B[0m \u001B[1m0s\u001B[0m 897us/step - loss: 0.0095 - val_loss: 0.0099\n",
      "Epoch 72/100\n",
      "\u001B[1m165/165\u001B[0m \u001B[32m━━━━━━━━━━━━━━━━━━━━\u001B[0m\u001B[37m\u001B[0m \u001B[1m0s\u001B[0m 844us/step - loss: 0.0098 - val_loss: 0.0099\n",
      "Epoch 73/100\n",
      "\u001B[1m165/165\u001B[0m \u001B[32m━━━━━━━━━━━━━━━━━━━━\u001B[0m\u001B[37m\u001B[0m \u001B[1m0s\u001B[0m 870us/step - loss: 0.0098 - val_loss: 0.0100\n",
      "Epoch 74/100\n",
      "\u001B[1m165/165\u001B[0m \u001B[32m━━━━━━━━━━━━━━━━━━━━\u001B[0m\u001B[37m\u001B[0m \u001B[1m0s\u001B[0m 841us/step - loss: 0.0095 - val_loss: 0.0101\n",
      "Epoch 75/100\n",
      "\u001B[1m165/165\u001B[0m \u001B[32m━━━━━━━━━━━━━━━━━━━━\u001B[0m\u001B[37m\u001B[0m \u001B[1m0s\u001B[0m 894us/step - loss: 0.0097 - val_loss: 0.0098\n",
      "Epoch 76/100\n",
      "\u001B[1m165/165\u001B[0m \u001B[32m━━━━━━━━━━━━━━━━━━━━\u001B[0m\u001B[37m\u001B[0m \u001B[1m0s\u001B[0m 894us/step - loss: 0.0090 - val_loss: 0.0098\n",
      "Epoch 77/100\n",
      "\u001B[1m165/165\u001B[0m \u001B[32m━━━━━━━━━━━━━━━━━━━━\u001B[0m\u001B[37m\u001B[0m \u001B[1m0s\u001B[0m 866us/step - loss: 0.0097 - val_loss: 0.0099\n",
      "Epoch 78/100\n",
      "\u001B[1m165/165\u001B[0m \u001B[32m━━━━━━━━━━━━━━━━━━━━\u001B[0m\u001B[37m\u001B[0m \u001B[1m0s\u001B[0m 893us/step - loss: 0.0092 - val_loss: 0.0100\n",
      "Epoch 79/100\n",
      "\u001B[1m165/165\u001B[0m \u001B[32m━━━━━━━━━━━━━━━━━━━━\u001B[0m\u001B[37m\u001B[0m \u001B[1m0s\u001B[0m 819us/step - loss: 0.0097 - val_loss: 0.0100\n",
      "Epoch 80/100\n",
      "\u001B[1m165/165\u001B[0m \u001B[32m━━━━━━━━━━━━━━━━━━━━\u001B[0m\u001B[37m\u001B[0m \u001B[1m0s\u001B[0m 885us/step - loss: 0.0100 - val_loss: 0.0100\n",
      "Epoch 81/100\n",
      "\u001B[1m165/165\u001B[0m \u001B[32m━━━━━━━━━━━━━━━━━━━━\u001B[0m\u001B[37m\u001B[0m \u001B[1m0s\u001B[0m 897us/step - loss: 0.0091 - val_loss: 0.0100\n",
      "Epoch 82/100\n",
      "\u001B[1m165/165\u001B[0m \u001B[32m━━━━━━━━━━━━━━━━━━━━\u001B[0m\u001B[37m\u001B[0m \u001B[1m0s\u001B[0m 860us/step - loss: 0.0094 - val_loss: 0.0098\n",
      "Epoch 83/100\n",
      "\u001B[1m165/165\u001B[0m \u001B[32m━━━━━━━━━━━━━━━━━━━━\u001B[0m\u001B[37m\u001B[0m \u001B[1m0s\u001B[0m 858us/step - loss: 0.0090 - val_loss: 0.0099\n",
      "Epoch 84/100\n",
      "\u001B[1m165/165\u001B[0m \u001B[32m━━━━━━━━━━━━━━━━━━━━\u001B[0m\u001B[37m\u001B[0m \u001B[1m0s\u001B[0m 933us/step - loss: 0.0096 - val_loss: 0.0101\n",
      "Epoch 85/100\n",
      "\u001B[1m165/165\u001B[0m \u001B[32m━━━━━━━━━━━━━━━━━━━━\u001B[0m\u001B[37m\u001B[0m \u001B[1m0s\u001B[0m 853us/step - loss: 0.0100 - val_loss: 0.0099\n",
      "Epoch 86/100\n",
      "\u001B[1m165/165\u001B[0m \u001B[32m━━━━━━━━━━━━━━━━━━━━\u001B[0m\u001B[37m\u001B[0m \u001B[1m0s\u001B[0m 882us/step - loss: 0.0095 - val_loss: 0.0106\n",
      "Epoch 87/100\n",
      "\u001B[1m165/165\u001B[0m \u001B[32m━━━━━━━━━━━━━━━━━━━━\u001B[0m\u001B[37m\u001B[0m \u001B[1m0s\u001B[0m 863us/step - loss: 0.0094 - val_loss: 0.0100\n",
      "Epoch 88/100\n",
      "\u001B[1m165/165\u001B[0m \u001B[32m━━━━━━━━━━━━━━━━━━━━\u001B[0m\u001B[37m\u001B[0m \u001B[1m0s\u001B[0m 893us/step - loss: 0.0090 - val_loss: 0.0099\n",
      "Epoch 89/100\n",
      "\u001B[1m165/165\u001B[0m \u001B[32m━━━━━━━━━━━━━━━━━━━━\u001B[0m\u001B[37m\u001B[0m \u001B[1m0s\u001B[0m 821us/step - loss: 0.0094 - val_loss: 0.0104\n",
      "Epoch 90/100\n",
      "\u001B[1m165/165\u001B[0m \u001B[32m━━━━━━━━━━━━━━━━━━━━\u001B[0m\u001B[37m\u001B[0m \u001B[1m0s\u001B[0m 913us/step - loss: 0.0094 - val_loss: 0.0100\n",
      "Epoch 91/100\n",
      "\u001B[1m165/165\u001B[0m \u001B[32m━━━━━━━━━━━━━━━━━━━━\u001B[0m\u001B[37m\u001B[0m \u001B[1m0s\u001B[0m 940us/step - loss: 0.0094 - val_loss: 0.0100\n",
      "Epoch 92/100\n",
      "\u001B[1m165/165\u001B[0m \u001B[32m━━━━━━━━━━━━━━━━━━━━\u001B[0m\u001B[37m\u001B[0m \u001B[1m0s\u001B[0m 877us/step - loss: 0.0094 - val_loss: 0.0099\n",
      "Epoch 93/100\n",
      "\u001B[1m165/165\u001B[0m \u001B[32m━━━━━━━━━━━━━━━━━━━━\u001B[0m\u001B[37m\u001B[0m \u001B[1m0s\u001B[0m 1ms/step - loss: 0.0094 - val_loss: 0.0099\n",
      "Epoch 94/100\n",
      "\u001B[1m165/165\u001B[0m \u001B[32m━━━━━━━━━━━━━━━━━━━━\u001B[0m\u001B[37m\u001B[0m \u001B[1m0s\u001B[0m 1ms/step - loss: 0.0101 - val_loss: 0.0100\n",
      "Epoch 95/100\n",
      "\u001B[1m165/165\u001B[0m \u001B[32m━━━━━━━━━━━━━━━━━━━━\u001B[0m\u001B[37m\u001B[0m \u001B[1m0s\u001B[0m 1ms/step - loss: 0.0093 - val_loss: 0.0098\n",
      "Epoch 96/100\n",
      "\u001B[1m165/165\u001B[0m \u001B[32m━━━━━━━━━━━━━━━━━━━━\u001B[0m\u001B[37m\u001B[0m \u001B[1m0s\u001B[0m 903us/step - loss: 0.0091 - val_loss: 0.0100\n",
      "Epoch 97/100\n",
      "\u001B[1m165/165\u001B[0m \u001B[32m━━━━━━━━━━━━━━━━━━━━\u001B[0m\u001B[37m\u001B[0m \u001B[1m0s\u001B[0m 882us/step - loss: 0.0096 - val_loss: 0.0098\n",
      "Epoch 98/100\n",
      "\u001B[1m165/165\u001B[0m \u001B[32m━━━━━━━━━━━━━━━━━━━━\u001B[0m\u001B[37m\u001B[0m \u001B[1m0s\u001B[0m 880us/step - loss: 0.0086 - val_loss: 0.0102\n",
      "Epoch 99/100\n",
      "\u001B[1m165/165\u001B[0m \u001B[32m━━━━━━━━━━━━━━━━━━━━\u001B[0m\u001B[37m\u001B[0m \u001B[1m0s\u001B[0m 930us/step - loss: 0.0096 - val_loss: 0.0099\n",
      "Epoch 100/100\n",
      "\u001B[1m165/165\u001B[0m \u001B[32m━━━━━━━━━━━━━━━━━━━━\u001B[0m\u001B[37m\u001B[0m \u001B[1m0s\u001B[0m 835us/step - loss: 0.0101 - val_loss: 0.0099\n"
     ]
    }
   ],
   "execution_count": 18
  },
  {
   "metadata": {},
   "cell_type": "markdown",
   "source": "# Evaluate the model"
  },
  {
   "cell_type": "code",
   "source": [
    "loss = model.evaluate(X_test, y_test)\n",
    "\n",
    "print(f\"Test loss: {loss:.4f}\")"
   ],
   "metadata": {
    "colab": {
     "base_uri": "https://localhost:8080/"
    },
    "id": "oKR91SqDXBYa",
    "executionInfo": {
     "status": "ok",
     "timestamp": 1732857657891,
     "user_tz": -330,
     "elapsed": 611,
     "user": {
      "displayName": "Nureka Rodrigo",
      "userId": "00765996390309502984"
     }
    },
    "outputId": "5924d507-e85d-466f-d2dc-085e8845f744",
    "ExecuteTime": {
     "end_time": "2025-01-12T16:54:56.341934Z",
     "start_time": "2025-01-12T16:54:56.263997Z"
    }
   },
   "outputs": [
    {
     "name": "stdout",
     "output_type": "stream",
     "text": [
      "\u001B[1m23/23\u001B[0m \u001B[32m━━━━━━━━━━━━━━━━━━━━\u001B[0m\u001B[37m\u001B[0m \u001B[1m0s\u001B[0m 887us/step - loss: 0.0074\n",
      "Test loss: 0.0078\n"
     ]
    }
   ],
   "execution_count": 19
  },
  {
   "metadata": {},
   "cell_type": "markdown",
   "source": "# Plot the training & validation loss"
  },
  {
   "cell_type": "code",
   "source": [
    "import matplotlib.pyplot as plt\n",
    "\n",
    "plt.plot(history['loss'], label='Training Loss')\n",
    "plt.plot(history['val_loss'], label='Validation Loss')\n",
    "plt.title('Loss over Epochs')\n",
    "plt.xlabel('Epochs')\n",
    "plt.ylabel('Loss')\n",
    "plt.legend()\n",
    "plt.show()"
   ],
   "metadata": {
    "colab": {
     "base_uri": "https://localhost:8080/",
     "height": 607
    },
    "id": "BGujDrpkXMby",
    "executionInfo": {
     "status": "ok",
     "timestamp": 1732857682595,
     "user_tz": -330,
     "elapsed": 21468,
     "user": {
      "displayName": "Nureka Rodrigo",
      "userId": "00765996390309502984"
     }
    },
    "outputId": "6af3b000-119e-48e8-e691-4845edb5ef70",
    "ExecuteTime": {
     "end_time": "2025-01-12T16:54:56.515287Z",
     "start_time": "2025-01-12T16:54:56.438395Z"
    }
   },
   "outputs": [
    {
     "data": {
      "text/plain": [
       "<Figure size 640x480 with 1 Axes>"
      ],
      "image/png": "[encoded data removed]"
     },
     "metadata": {},
     "output_type": "display_data"
    }
   ],
   "execution_count": 20
  }
 ]
}
